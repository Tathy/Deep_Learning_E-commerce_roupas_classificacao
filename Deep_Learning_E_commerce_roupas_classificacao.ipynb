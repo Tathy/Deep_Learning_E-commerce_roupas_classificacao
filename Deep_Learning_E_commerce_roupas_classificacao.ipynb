{
  "nbformat": 4,
  "nbformat_minor": 0,
  "metadata": {
    "colab": {
      "provenance": []
    },
    "kernelspec": {
      "name": "python3",
      "display_name": "Python 3"
    },
    "language_info": {
      "name": "python"
    }
  },
  "cells": [
    {
      "cell_type": "markdown",
      "source": [
        "#Classificação de imagens de roupas"
      ],
      "metadata": {
        "id": "KmvzqswAUlWz"
      }
    },
    {
      "cell_type": "markdown",
      "source": [
        "### Sobre o projeto"
      ],
      "metadata": {
        "id": "zvLkpTHoYz4-"
      }
    },
    {
      "cell_type": "markdown",
      "source": [
        "* Estudo introdutório sobre Deep Learning, TensorFlow e Keras.\n",
        "\n",
        "* E-commerce fictício de roupas, as roupas à venda devem ser classificadas em categorias para facilitar as buscas dos clientes no site.\n",
        "\n",
        "* **Dataset:** [Fashion-MNIST](https://github.com/zalandoresearch/fashion-mnist) que contém pequenas imagens (28x28) de roupas, associadas a 10 classes.\n",
        "\n",
        "* **Referência:** Estudo desenvolvido acompanhando o curso [Deep Learning parte 1: Keras](https://cursos.alura.com.br/course/deep-learning-introducao-com-keras), da Alura."
      ],
      "metadata": {
        "id": "1OIihlbrUqYG"
      }
    },
    {
      "cell_type": "markdown",
      "source": [
        "# Abertura do dataset e primeiras visualizações"
      ],
      "metadata": {
        "id": "yu8PUje5Z0_8"
      }
    },
    {
      "cell_type": "markdown",
      "source": [
        "## Fashion MNIST"
      ],
      "metadata": {
        "id": "VO8-aJiJhxpY"
      }
    },
    {
      "cell_type": "code",
      "execution_count": 1,
      "metadata": {
        "id": "fS6V8nSrUbrZ"
      },
      "outputs": [],
      "source": [
        "import tensorflow\n",
        "from tensorflow import keras\n",
        "\n",
        "dataset = keras.datasets.fashion_mnist"
      ]
    },
    {
      "cell_type": "code",
      "source": [
        "# retorna duas tuplas com conjuntos de treino, teste, e suas labels\n",
        "((train_imgs, train_labels),(test_imgs, test_labels)) = dataset.load_data()"
      ],
      "metadata": {
        "id": "4f0L0qw5ah9w",
        "colab": {
          "base_uri": "https://localhost:8080/"
        },
        "outputId": "b9d25948-00f3-4c63-db19-c6132be2437b"
      },
      "execution_count": 2,
      "outputs": [
        {
          "output_type": "stream",
          "name": "stdout",
          "text": [
            "Downloading data from https://storage.googleapis.com/tensorflow/tf-keras-datasets/train-labels-idx1-ubyte.gz\n",
            "29515/29515 [==============================] - 0s 0us/step\n",
            "Downloading data from https://storage.googleapis.com/tensorflow/tf-keras-datasets/train-images-idx3-ubyte.gz\n",
            "26421880/26421880 [==============================] - 2s 0us/step\n",
            "Downloading data from https://storage.googleapis.com/tensorflow/tf-keras-datasets/t10k-labels-idx1-ubyte.gz\n",
            "5148/5148 [==============================] - 0s 0us/step\n",
            "Downloading data from https://storage.googleapis.com/tensorflow/tf-keras-datasets/t10k-images-idx3-ubyte.gz\n",
            "4422102/4422102 [==============================] - 0s 0us/step\n"
          ]
        }
      ]
    },
    {
      "cell_type": "code",
      "source": [
        "print(f'Conjunto de treino possui {len(train_imgs)} imagens.')\n",
        "print(f'Conjunto de teste possui {len(test_imgs)} imagens.')"
      ],
      "metadata": {
        "colab": {
          "base_uri": "https://localhost:8080/"
        },
        "id": "LKqiz-_Far9N",
        "outputId": "d4330461-53ce-4dea-8b22-f9f3f699b6ec"
      },
      "execution_count": 3,
      "outputs": [
        {
          "output_type": "stream",
          "name": "stdout",
          "text": [
            "Conjunto de treino possui 60000 imagens.\n",
            "Conjunto de teste possui 10000 imagens.\n"
          ]
        }
      ]
    },
    {
      "cell_type": "code",
      "source": [
        "print(train_imgs.shape)\n",
        "print(test_imgs.shape)"
      ],
      "metadata": {
        "colab": {
          "base_uri": "https://localhost:8080/"
        },
        "id": "P9x3P4Utd6jF",
        "outputId": "9834b007-1527-40e8-8db7-c3c0debc8e0c"
      },
      "execution_count": 4,
      "outputs": [
        {
          "output_type": "stream",
          "name": "stdout",
          "text": [
            "(60000, 28, 28)\n",
            "(10000, 28, 28)\n"
          ]
        }
      ]
    },
    {
      "cell_type": "markdown",
      "source": [
        "## Classes"
      ],
      "metadata": {
        "id": "ZKxNqSJXpm4H"
      }
    },
    {
      "cell_type": "code",
      "source": [
        "import numpy as np\n",
        "np.unique(train_labels)"
      ],
      "metadata": {
        "id": "mUiGHp4kpDKq",
        "colab": {
          "base_uri": "https://localhost:8080/"
        },
        "outputId": "3bace5cd-202d-4256-c098-a4165763758e"
      },
      "execution_count": 5,
      "outputs": [
        {
          "output_type": "execute_result",
          "data": {
            "text/plain": [
              "array([0, 1, 2, 3, 4, 5, 6, 7, 8, 9], dtype=uint8)"
            ]
          },
          "metadata": {},
          "execution_count": 5
        }
      ]
    },
    {
      "cell_type": "markdown",
      "source": [
        "* Os nomes das classes estão no Readme do dataset."
      ],
      "metadata": {
        "id": "F_dhAivjqMOi"
      }
    },
    {
      "cell_type": "code",
      "source": [
        "class_name = ['T-shirt/top', 'Trouser', 'Pullover', 'Dress', 'Coat', 'Sandal', 'Shirt', 'Sneaker', 'Bag', 'Ankle boot']"
      ],
      "metadata": {
        "id": "YHs1SCq4oZAF"
      },
      "execution_count": 6,
      "outputs": []
    },
    {
      "cell_type": "markdown",
      "source": [
        "## Visualização de alguns itens"
      ],
      "metadata": {
        "id": "QgrPCJPnh0hO"
      }
    },
    {
      "cell_type": "code",
      "source": [
        "import random\n",
        "import matplotlib.pyplot as plt\n",
        "plt.rcParams['image.cmap'] = 'Greys'\n",
        "\n",
        "fig, axs = plt.subplots(1, 5, figsize = (15, 25))\n",
        "\n",
        "rand_ids = [random.randint(0, 60000) for i in range(5)]\n",
        "\n",
        "for k, i in zip(range(0,5), rand_ids):\n",
        "  axs[k].imshow(train_imgs[i])\n",
        "  axs[k].axis('off')\n",
        "  axs[k].set_title(class_name[train_labels[i]], fontsize = 15)\n",
        "\n",
        "plt.show()"
      ],
      "metadata": {
        "colab": {
          "base_uri": "https://localhost:8080/",
          "height": 193
        },
        "id": "QEQffAj3h-4U",
        "outputId": "24381c76-7574-4b61-df9f-30878b91a0e4"
      },
      "execution_count": 7,
      "outputs": [
        {
          "output_type": "display_data",
          "data": {
            "text/plain": [
              "<Figure size 1080x1800 with 5 Axes>"
            ],
            "image/png": "[encoded data removed]"
          },
          "metadata": {
            "needs_background": "light"
          }
        }
      ]
    },
    {
      "cell_type": "code",
      "source": [
        "fig, axs = plt.subplots(1, 5, figsize = (15, 25))\n",
        "\n",
        "rand_ids = [random.randint(0, 10000) for i in range(5)]\n",
        "\n",
        "for k, i in zip(range(0,5), rand_ids):\n",
        "  axs[k].imshow(test_imgs[i])\n",
        "  axs[k].axis('off')\n",
        "  axs[k].set_title(class_name[test_labels[i]], fontsize = 15)\n",
        "\n",
        "plt.show()"
      ],
      "metadata": {
        "colab": {
          "base_uri": "https://localhost:8080/",
          "height": 193
        },
        "id": "C5BVs5a6oA1K",
        "outputId": "0960617d-be23-44b6-d2ab-af273a85b9ef"
      },
      "execution_count": 8,
      "outputs": [
        {
          "output_type": "display_data",
          "data": {
            "text/plain": [
              "<Figure size 1080x1800 with 5 Axes>"
            ],
            "image/png": "[encoded data removed]"
          },
          "metadata": {
            "needs_background": "light"
          }
        }
      ]
    },
    {
      "cell_type": "markdown",
      "source": [
        "# Funções de Ativação"
      ],
      "metadata": {
        "id": "x6i_D4pJ3ZvQ"
      }
    },
    {
      "cell_type": "markdown",
      "source": [
        "![teste](https://miro.medium.com/max/720/1*ZafDv3VUm60Eh10OeJu1vw.webp)"
      ],
      "metadata": {
        "id": "YPwRR9zC3cn7"
      }
    },
    {
      "cell_type": "markdown",
      "source": [
        "## ReLu"
      ],
      "metadata": {
        "id": "kpfLItuRFk4y"
      }
    },
    {
      "cell_type": "markdown",
      "source": [
        "* Todos os número negativos se tornam 0.\n",
        "* A ReLu tem a possibilidade de desligar alguns neurônios.\n",
        "* $a = z^+ = max(0, z)$\n",
        "* É não-linear, essencial para separar mais de duas características em uma única função."
      ],
      "metadata": {
        "id": "G86wIQTp2pWz"
      }
    },
    {
      "cell_type": "markdown",
      "source": [
        "## SoftMax"
      ],
      "metadata": {
        "id": "wMeL3Eaq8c82"
      }
    },
    {
      "cell_type": "markdown",
      "source": [
        "* Usada da última camada.\n",
        "* Atribui probabilidades de cada categoria estar correta.\n",
        "\n",
        "* ### $a_j^{(L-1)} = \\frac{exp(z_j^{(L-1)})}{∑_i exp(z_i^{(L-1)})}$\n",
        "\n",
        "  * (L-1) ⟶ camada anterior.\n",
        "  * a > 0, por do exponencial.\n",
        "  * O somatório de todas as probabilidades é 1, 100%."
      ],
      "metadata": {
        "id": "Tr9AYGhu8fHq"
      }
    },
    {
      "cell_type": "markdown",
      "source": [
        "# Construção do Modelo"
      ],
      "metadata": {
        "id": "MXkjs39bt9Y6"
      }
    },
    {
      "cell_type": "markdown",
      "source": [
        "* Modelo >> entrada > processamento > saída\n",
        "\n",
        "* Na primeira camada, Camada 0, a imagem será \"achatada\" para um array de pixels de uma única dimensão.\n",
        "\n",
        "* Na Camda 1, é feita a comunicação com a camada de entrada. Neste caso, será uma camada densa, totalmente conectada com a anterior.\n",
        "  * No primneiro parâmetro, são definidos quantos neurônios estarão nesta camada.É interessante utilizar múltiplos de 2 por questão de processamento.\n",
        "  * Deve ser definida também a função de ativação, que neste caso será a ReLu (https://www.tensorflow.org/api_docs/python/tf/nn/relu).\n",
        "\n",
        "* Na Camada 2, de saída, terá o número de classificações do dataset e totalmente conectada."
      ],
      "metadata": {
        "id": "DNoevCgls4XF"
      }
    },
    {
      "cell_type": "code",
      "source": [
        "model = keras.Sequential([\n",
        "    keras.layers.Flatten(input_shape = (28, 28)),               # camada 0, entrada\n",
        "    keras.layers.Dense(256, activation = tensorflow.nn.relu),   # camada 1, escondida\n",
        "    keras.layers.Dense(10, activation = tensorflow.nn.softmax)  # camada 2, saída\n",
        "])"
      ],
      "metadata": {
        "id": "4evqRO02q0O1"
      },
      "execution_count": 9,
      "outputs": []
    },
    {
      "cell_type": "code",
      "source": [
        "model.compile(optimizer = 'adam', loss = 'sparse_categorical_crossentropy')"
      ],
      "metadata": {
        "id": "Ce1sXSNeAtot"
      },
      "execution_count": 10,
      "outputs": []
    },
    {
      "cell_type": "markdown",
      "source": [
        "* O batch_size padrão é 32, por isso a quantidade que aparece no log não é o tamanho completo do dataset, mas sim esse valor dividido por 32. Todo o dataset é usado no treinamento, mas em grupos menores."
      ],
      "metadata": {
        "id": "kEH0s5Zd5X7T"
      }
    },
    {
      "cell_type": "code",
      "source": [
        "model.fit(train_imgs, train_labels)"
      ],
      "metadata": {
        "colab": {
          "base_uri": "https://localhost:8080/"
        },
        "id": "AUV0IJkmkHOo",
        "outputId": "defb7cd9-4bba-447b-e56e-e68e22db0b3a"
      },
      "execution_count": 11,
      "outputs": [
        {
          "output_type": "stream",
          "name": "stdout",
          "text": [
            "1875/1875 [==============================] - 6s 3ms/step - loss: 3.6996\n"
          ]
        },
        {
          "output_type": "execute_result",
          "data": {
            "text/plain": [
              "<keras.callbacks.History at 0x7f004d9f8760>"
            ]
          },
          "metadata": {},
          "execution_count": 11
        }
      ]
    },
    {
      "cell_type": "markdown",
      "source": [
        "* O ideal é que a perda esteja o mais próximo de 0 possível."
      ],
      "metadata": {
        "id": "AbkLuh6Fl1_F"
      }
    },
    {
      "cell_type": "markdown",
      "source": [
        "# Redução de perda: Normalização"
      ],
      "metadata": {
        "id": "LAXGB7nrl8XD"
      }
    },
    {
      "cell_type": "markdown",
      "source": [
        "* Os pixels variam em um intervalo contínuo de 0 a 255."
      ],
      "metadata": {
        "id": "8xJZypXXnQLI"
      }
    },
    {
      "cell_type": "code",
      "source": [
        "plt.imshow(train_imgs[0])\n",
        "plt.colorbar()"
      ],
      "metadata": {
        "colab": {
          "base_uri": "https://localhost:8080/",
          "height": 282
        },
        "id": "cu-sPh4LkOjA",
        "outputId": "f27a62d9-0251-432c-c1b1-78ed2aa648db"
      },
      "execution_count": 12,
      "outputs": [
        {
          "output_type": "execute_result",
          "data": {
            "text/plain": [
              "<matplotlib.colorbar.Colorbar at 0x7f0048d83b20>"
            ]
          },
          "metadata": {},
          "execution_count": 12
        },
        {
          "output_type": "display_data",
          "data": {
            "text/plain": [
              "<Figure size 432x288 with 2 Axes>"
            ],
            "image/png": "[encoded data removed]"
          },
          "metadata": {
            "needs_background": "light"
          }
        }
      ]
    },
    {
      "cell_type": "markdown",
      "source": [
        "* O valores serão normalizados para um intervalo de 0 a 1."
      ],
      "metadata": {
        "id": "n7kWDXetnr_6"
      }
    },
    {
      "cell_type": "code",
      "source": [
        "train_imgs = train_imgs/255.0\n",
        "\n",
        "plt.imshow(train_imgs[0])\n",
        "plt.colorbar()"
      ],
      "metadata": {
        "colab": {
          "base_uri": "https://localhost:8080/",
          "height": 286
        },
        "id": "avhPutbVmf05",
        "outputId": "0ac5053c-d9bd-48f1-e569-b2c5daf7b980"
      },
      "execution_count": 13,
      "outputs": [
        {
          "output_type": "execute_result",
          "data": {
            "text/plain": [
              "<matplotlib.colorbar.Colorbar at 0x7f0048cbc0d0>"
            ]
          },
          "metadata": {},
          "execution_count": 13
        },
        {
          "output_type": "display_data",
          "data": {
            "text/plain": [
              "<Figure size 432x288 with 2 Axes>"
            ],
            "image/png": "[encoded data removed]"
          },
          "metadata": {
            "needs_background": "light"
          }
        }
      ]
    },
    {
      "cell_type": "markdown",
      "source": [
        "# 2º Modelo: Valores normalizados [0, 1]"
      ],
      "metadata": {
        "id": "ogMr2Dlin9MM"
      }
    },
    {
      "cell_type": "code",
      "source": [
        "model = keras.Sequential([\n",
        "    keras.layers.Flatten(input_shape = (28, 28)),\n",
        "    keras.layers.Dense(256, activation = tensorflow.nn.relu),\n",
        "    keras.layers.Dense(10, activation = tensorflow.nn.softmax)\n",
        "])\n",
        "\n",
        "model.compile(optimizer = 'adam', loss = 'sparse_categorical_crossentropy')\n",
        "model.fit(train_imgs, train_labels)"
      ],
      "metadata": {
        "colab": {
          "base_uri": "https://localhost:8080/"
        },
        "id": "PQYmISkdn2fA",
        "outputId": "d55a0ed6-2791-4d94-b579-a15b50a94835"
      },
      "execution_count": 14,
      "outputs": [
        {
          "output_type": "stream",
          "name": "stdout",
          "text": [
            "1875/1875 [==============================] - 6s 3ms/step - loss: 0.4872\n"
          ]
        },
        {
          "output_type": "execute_result",
          "data": {
            "text/plain": [
              "<keras.callbacks.History at 0x7f0048c99f10>"
            ]
          },
          "metadata": {},
          "execution_count": 14
        }
      ]
    },
    {
      "cell_type": "markdown",
      "source": [
        "* Na execução desta observação, a perda foi reduzida de 4.4171 para 0.4825.\n",
        "\n",
        "* Reduzir a amplitude numérica que a rede precisou processar ajudou muito a evitar perda de informação.\n",
        "\n",
        "* As gradações das imagens se mantiveram, a roupa usada como exemplo anteriormente continuou sendo visualmente identificável, e ainda houve melhoria no modelo."
      ],
      "metadata": {
        "id": "f2Kvve-JoQNQ"
      }
    },
    {
      "cell_type": "markdown",
      "source": [
        "# Redução de perda: Reestruturação das camadas escondidas"
      ],
      "metadata": {
        "id": "KB0oEbDhrSVC"
      }
    },
    {
      "cell_type": "markdown",
      "source": [
        "* Da segunda camada para a camada de saída há conexões de 256 para 10. \n",
        "\n",
        "* A ideia do próximo passo é afunilar estas conexões criando uma camada internediária e verificar se a perda é reduzida."
      ],
      "metadata": {
        "id": "5Y0l_JkNrnwA"
      }
    },
    {
      "cell_type": "markdown",
      "source": [
        "## Segunda camada escondida: 128 neurônios"
      ],
      "metadata": {
        "id": "NXWI5KWptrcA"
      }
    },
    {
      "cell_type": "code",
      "source": [
        "model = keras.Sequential([\n",
        "    keras.layers.Flatten(input_shape = (28, 28)),               # camada de entrada\n",
        "    keras.layers.Dense(256, activation = tensorflow.nn.relu),   # primeira camada escondida\n",
        "    keras.layers.Dense(128, activation = tensorflow.nn.relu),   # nova camda escondida, segunda camada\n",
        "    keras.layers.Dense(10, activation = tensorflow.nn.softmax)  # camada de saída\n",
        "])\n",
        "\n",
        "model.compile(optimizer = 'adam', loss = 'sparse_categorical_crossentropy')\n",
        "model.fit(train_imgs, train_labels)"
      ],
      "metadata": {
        "colab": {
          "base_uri": "https://localhost:8080/"
        },
        "id": "3ZxiJjOSoL3v",
        "outputId": "758646dc-b0d7-4366-e13a-6217f385c41e"
      },
      "execution_count": 15,
      "outputs": [
        {
          "output_type": "stream",
          "name": "stdout",
          "text": [
            "1875/1875 [==============================] - 7s 4ms/step - loss: 0.4746\n"
          ]
        },
        {
          "output_type": "execute_result",
          "data": {
            "text/plain": [
              "<keras.callbacks.History at 0x7f0048bbf130>"
            ]
          },
          "metadata": {},
          "execution_count": 15
        }
      ]
    },
    {
      "cell_type": "markdown",
      "source": [
        "* Na execução desta observação, a perda foi reduzida de 0.4825 para 0.4777."
      ],
      "metadata": {
        "id": "fvfKoXXJs9q-"
      }
    },
    {
      "cell_type": "markdown",
      "source": [
        "## Terceira camada escondida: 64 neurônios"
      ],
      "metadata": {
        "id": "QxZomCPXuDi_"
      }
    },
    {
      "cell_type": "code",
      "source": [
        "model = keras.Sequential([\n",
        "    keras.layers.Flatten(input_shape = (28, 28)),\n",
        "    keras.layers.Dense(256, activation = tensorflow.nn.relu),\n",
        "    keras.layers.Dense(128, activation = tensorflow.nn.relu),\n",
        "    keras.layers.Dense(64, activation = tensorflow.nn.relu),    # terceira camada escondida\n",
        "    keras.layers.Dense(10, activation = tensorflow.nn.softmax)\n",
        "])\n",
        "\n",
        "model.compile(optimizer = 'adam', loss = 'sparse_categorical_crossentropy')\n",
        "model.fit(train_imgs, train_labels)"
      ],
      "metadata": {
        "colab": {
          "base_uri": "https://localhost:8080/"
        },
        "id": "9OuP-fLfs2QZ",
        "outputId": "56bf4d8f-b88f-4090-e3f3-dd93c7fe6dd3"
      },
      "execution_count": 16,
      "outputs": [
        {
          "output_type": "stream",
          "name": "stdout",
          "text": [
            "1875/1875 [==============================] - 7s 4ms/step - loss: 0.4893\n"
          ]
        },
        {
          "output_type": "execute_result",
          "data": {
            "text/plain": [
              "<keras.callbacks.History at 0x7f0048b08bb0>"
            ]
          },
          "metadata": {},
          "execution_count": 16
        }
      ]
    },
    {
      "cell_type": "markdown",
      "source": [
        "* Na execução desta observação, a perda foi incrementada de 0.4777 para 0.4854.\n",
        "\n",
        "* Neste caso de estudo, o aumento do tempo de execução foi irrelevante.\n",
        "\n",
        "* Aumentar a quantidade de camadas escondidas, tornando a rede mais profunda, nem sempre trará benefícios para o modelo, além de poder aumentar significativamente o tempo de execução em modelos de aplicação real.\n",
        "\n",
        "* Tanto a quantidade de neurônios quanto as funções de ativação precisarão de uma exploração, um processo mais subjetivo do que exato."
      ],
      "metadata": {
        "id": "j-qdcj-1ugzO"
      }
    },
    {
      "cell_type": "markdown",
      "source": [
        "# 3º Modelo: Normalização e 2 camadas escondidas"
      ],
      "metadata": {
        "id": "Y_nZrS7F7Kpj"
      }
    },
    {
      "cell_type": "code",
      "source": [
        "model = keras.Sequential([\n",
        "    keras.layers.Flatten(input_shape = (28, 28)),\n",
        "    keras.layers.Dense(256, activation = tensorflow.nn.relu),\n",
        "    keras.layers.Dense(128, activation = tensorflow.nn.relu),\n",
        "    keras.layers.Dense(10, activation = tensorflow.nn.softmax)\n",
        "])\n",
        "\n",
        "model.compile(optimizer = 'adam', loss = 'sparse_categorical_crossentropy')\n",
        "model.fit(train_imgs, train_labels)"
      ],
      "metadata": {
        "colab": {
          "base_uri": "https://localhost:8080/"
        },
        "id": "_tZsVIVvuTr2",
        "outputId": "1834b8b3-90f6-43f7-9b45-463b159779ca"
      },
      "execution_count": 17,
      "outputs": [
        {
          "output_type": "stream",
          "name": "stdout",
          "text": [
            "1875/1875 [==============================] - 7s 3ms/step - loss: 0.4756\n"
          ]
        },
        {
          "output_type": "execute_result",
          "data": {
            "text/plain": [
              "<keras.callbacks.History at 0x7f0048a2ffa0>"
            ]
          },
          "metadata": {},
          "execution_count": 17
        }
      ]
    },
    {
      "cell_type": "markdown",
      "source": [
        "# Redução de perda: Quantidade de épocas"
      ],
      "metadata": {
        "id": "Cff92Zdx8SG0"
      }
    },
    {
      "cell_type": "markdown",
      "source": [
        "* Épocas são os contatos que o modelo tem com o dataset no processo de aprendizagem, em que os ajustes de pesos das conexões são feitas entre os neurônios.\n",
        "\n",
        "* A seguir, as quantidades de épocas serão alteradas para análise da sua influência na perda.\n",
        "\n",
        "* O tempo de execução terá um aumento linear, diretamente proporcional à execução com somento uma época."
      ],
      "metadata": {
        "id": "yBxX1Foa8jGj"
      }
    },
    {
      "cell_type": "code",
      "source": [
        "model = keras.Sequential([\n",
        "    keras.layers.Flatten(input_shape = (28, 28)),\n",
        "    keras.layers.Dense(256, activation = tensorflow.nn.relu),\n",
        "    keras.layers.Dense(128, activation = tensorflow.nn.relu),\n",
        "    keras.layers.Dense(10, activation = tensorflow.nn.softmax)\n",
        "])\n",
        "\n",
        "model.compile(optimizer = 'adam', loss = 'sparse_categorical_crossentropy')\n",
        "model.fit(train_imgs, train_labels, epochs = 5)"
      ],
      "metadata": {
        "colab": {
          "base_uri": "https://localhost:8080/"
        },
        "id": "_H_wQ2tw7UN6",
        "outputId": "f12348f3-0a7c-4bbf-eb17-be5812bb9554"
      },
      "execution_count": 18,
      "outputs": [
        {
          "output_type": "stream",
          "name": "stdout",
          "text": [
            "Epoch 1/5\n",
            "1875/1875 [==============================] - 9s 5ms/step - loss: 0.4771\n",
            "Epoch 2/5\n",
            "1875/1875 [==============================] - 8s 4ms/step - loss: 0.3596\n",
            "Epoch 3/5\n",
            "1875/1875 [==============================] - 7s 4ms/step - loss: 0.3248\n",
            "Epoch 4/5\n",
            "1875/1875 [==============================] - 7s 4ms/step - loss: 0.3016\n",
            "Epoch 5/5\n",
            "1875/1875 [==============================] - 7s 4ms/step - loss: 0.2813\n"
          ]
        },
        {
          "output_type": "execute_result",
          "data": {
            "text/plain": [
              "<keras.callbacks.History at 0x7f0048981520>"
            ]
          },
          "metadata": {},
          "execution_count": 18
        }
      ]
    },
    {
      "cell_type": "markdown",
      "source": [
        "* A perda foi diminindo gradativamente, mas mesmo neste dataset de estudo o aumento de tempo já foi perceptível."
      ],
      "metadata": {
        "id": "UiUbvKtz9dQY"
      }
    },
    {
      "cell_type": "markdown",
      "source": [
        "# 4º Modelo: Normalização, 2 camadas escondidas, 5 épocas"
      ],
      "metadata": {
        "id": "gjPKmJKC_Xze"
      }
    },
    {
      "cell_type": "code",
      "source": [
        "model = keras.Sequential([\n",
        "    keras.layers.Flatten(input_shape = (28, 28)),\n",
        "    keras.layers.Dense(256, activation = tensorflow.nn.relu),\n",
        "    keras.layers.Dense(128, activation = tensorflow.nn.relu),\n",
        "    keras.layers.Dense(10, activation = tensorflow.nn.softmax)\n",
        "])\n",
        "\n",
        "model.compile(optimizer = 'adam', loss = 'sparse_categorical_crossentropy', metrics = ['accuracy'])\n",
        "model.fit(train_imgs, train_labels, epochs = 5)"
      ],
      "metadata": {
        "colab": {
          "base_uri": "https://localhost:8080/"
        },
        "id": "GxdKPzSu_i1t",
        "outputId": "5be16c37-fd37-46d4-a642-7e4b6540953c"
      },
      "execution_count": 19,
      "outputs": [
        {
          "output_type": "stream",
          "name": "stdout",
          "text": [
            "Epoch 1/5\n",
            "1875/1875 [==============================] - 7s 4ms/step - loss: 0.4785 - accuracy: 0.8267\n",
            "Epoch 2/5\n",
            "1875/1875 [==============================] - 7s 4ms/step - loss: 0.3578 - accuracy: 0.8690\n",
            "Epoch 3/5\n",
            "1875/1875 [==============================] - 7s 4ms/step - loss: 0.3226 - accuracy: 0.8816\n",
            "Epoch 4/5\n",
            "1875/1875 [==============================] - 7s 4ms/step - loss: 0.3023 - accuracy: 0.8875\n",
            "Epoch 5/5\n",
            "1875/1875 [==============================] - 7s 4ms/step - loss: 0.2832 - accuracy: 0.8933\n"
          ]
        },
        {
          "output_type": "execute_result",
          "data": {
            "text/plain": [
              "<keras.callbacks.History at 0x7f00488c6fd0>"
            ]
          },
          "metadata": {},
          "execution_count": 19
        }
      ]
    },
    {
      "cell_type": "markdown",
      "source": [
        "# Métrica de avaliação: Acurácia"
      ],
      "metadata": {
        "id": "L4cm0OXl-Aqn"
      }
    },
    {
      "cell_type": "markdown",
      "source": [
        "* A acurácia irá medir o quanto o modelo está acertando.\n",
        "\n",
        "* O ideal é que, à medida que o modelo é reestruturado, a perda diminua e a acurácia aumente."
      ],
      "metadata": {
        "id": "FVIoUHSh-j4m"
      }
    },
    {
      "cell_type": "code",
      "source": [
        "model = keras.Sequential([\n",
        "    keras.layers.Flatten(input_shape = (28, 28)),\n",
        "    keras.layers.Dense(256, activation = tensorflow.nn.relu),\n",
        "    keras.layers.Dense(128, activation = tensorflow.nn.relu),\n",
        "    keras.layers.Dense(10, activation = tensorflow.nn.softmax)\n",
        "])\n",
        "\n",
        "model.compile(optimizer = 'adam', loss = 'sparse_categorical_crossentropy', metrics = ['accuracy'])\n",
        "model.fit(train_imgs, train_labels, epochs = 5)"
      ],
      "metadata": {
        "colab": {
          "base_uri": "https://localhost:8080/"
        },
        "id": "yWmQATyR9Nvh",
        "outputId": "bf49a8bc-d924-4124-8470-f4c9f8c8779a"
      },
      "execution_count": 20,
      "outputs": [
        {
          "output_type": "stream",
          "name": "stdout",
          "text": [
            "Epoch 1/5\n",
            "1875/1875 [==============================] - 7s 4ms/step - loss: 0.4747 - accuracy: 0.8285\n",
            "Epoch 2/5\n",
            "1875/1875 [==============================] - 7s 4ms/step - loss: 0.3610 - accuracy: 0.8698\n",
            "Epoch 3/5\n",
            "1875/1875 [==============================] - 7s 4ms/step - loss: 0.3231 - accuracy: 0.8811\n",
            "Epoch 4/5\n",
            "1875/1875 [==============================] - 7s 4ms/step - loss: 0.3011 - accuracy: 0.8870\n",
            "Epoch 5/5\n",
            "1875/1875 [==============================] - 7s 4ms/step - loss: 0.2831 - accuracy: 0.8939\n"
          ]
        },
        {
          "output_type": "execute_result",
          "data": {
            "text/plain": [
              "<keras.callbacks.History at 0x7f00487acee0>"
            ]
          },
          "metadata": {},
          "execution_count": 20
        }
      ]
    },
    {
      "cell_type": "markdown",
      "source": [
        "* A acurácia aumentou de acordo com a quantidade de épocas executadas."
      ],
      "metadata": {
        "id": "-IWxtDXN-Zux"
      }
    },
    {
      "cell_type": "markdown",
      "source": [
        "# Testes do Modelo"
      ],
      "metadata": {
        "id": "pcG4UW3I_BJ5"
      }
    },
    {
      "cell_type": "markdown",
      "source": [
        "## Elemento a elemento"
      ],
      "metadata": {
        "id": "Q5U3Z9JkB0Z3"
      }
    },
    {
      "cell_type": "markdown",
      "source": [
        "* Sobre o modelo com as aletrações: imagens normalizadas, segunda camada escondida e 5 épocas."
      ],
      "metadata": {
        "id": "1X9ncUVz_FvL"
      }
    },
    {
      "cell_type": "code",
      "source": [
        "testes = model.predict(test_imgs)"
      ],
      "metadata": {
        "colab": {
          "base_uri": "https://localhost:8080/"
        },
        "id": "U5c0_ZWz-LHr",
        "outputId": "d865d276-1401-4ed1-b2f4-11b5156036ab"
      },
      "execution_count": 21,
      "outputs": [
        {
          "output_type": "stream",
          "name": "stdout",
          "text": [
            "313/313 [==============================] - 1s 2ms/step\n"
          ]
        }
      ]
    },
    {
      "cell_type": "code",
      "source": [
        "testes[0]"
      ],
      "metadata": {
        "colab": {
          "base_uri": "https://localhost:8080/"
        },
        "id": "oBjlOQEE_45J",
        "outputId": "a996f2f2-fbd2-4107-a1e3-6e88db174d69"
      },
      "execution_count": 22,
      "outputs": [
        {
          "output_type": "execute_result",
          "data": {
            "text/plain": [
              "array([0.        , 0.        , 0.        , 0.        , 0.        ,\n",
              "       0.        , 0.        , 0.        , 0.        , 0.99999994],\n",
              "      dtype=float32)"
            ]
          },
          "metadata": {},
          "execution_count": 22
        }
      ]
    },
    {
      "cell_type": "code",
      "source": [
        "np.argmax(testes[0])"
      ],
      "metadata": {
        "colab": {
          "base_uri": "https://localhost:8080/"
        },
        "id": "BCvF6AVVBPVn",
        "outputId": "3c8e990f-707c-41a3-9311-add9a7feba11"
      },
      "execution_count": 23,
      "outputs": [
        {
          "output_type": "execute_result",
          "data": {
            "text/plain": [
              "9"
            ]
          },
          "metadata": {},
          "execution_count": 23
        }
      ]
    },
    {
      "cell_type": "markdown",
      "source": [
        "* A Softmax, usada na camada de saída, retorna a probabilidade de uma entrada pertencer a cada categoria.\n",
        "\n",
        "* No primeiro item do dataset, demonstrado acima, foi calculada uma probabilidade de quase 100% da imagem representar um item da última classe."
      ],
      "metadata": {
        "id": "9UhG_FONAs-U"
      }
    },
    {
      "cell_type": "code",
      "source": [
        "print(f'Resultado do teste: {np.argmax(testes[0])}')\n",
        "print(f'Número da imagem de teste: {test_labels[0]}')"
      ],
      "metadata": {
        "colab": {
          "base_uri": "https://localhost:8080/"
        },
        "id": "iYC__khnAfko",
        "outputId": "bf759845-a0ca-443a-fdec-7ef94b565483"
      },
      "execution_count": 24,
      "outputs": [
        {
          "output_type": "stream",
          "name": "stdout",
          "text": [
            "Resultado do teste: 9\n",
            "Número da imagem de teste: 9\n"
          ]
        }
      ]
    },
    {
      "cell_type": "markdown",
      "source": [
        "## Evaluate"
      ],
      "metadata": {
        "id": "yHqLVwtACSpm"
      }
    },
    {
      "cell_type": "markdown",
      "source": [
        "* 1º Resultados: Perda do teste\n",
        "* 2º Resultado: Acurácia do teste"
      ],
      "metadata": {
        "id": "BFqngXweCjAE"
      }
    },
    {
      "cell_type": "code",
      "source": [
        "test_loss, test_accuracy = model.evaluate(test_imgs, test_labels)\n",
        "print(f'Perda: {test_loss}')\n",
        "print(f'Acuráci: {test_accuracy}')"
      ],
      "metadata": {
        "colab": {
          "base_uri": "https://localhost:8080/"
        },
        "id": "ZfCokf8qB7J3",
        "outputId": "ab6314be-f652-4142-ff17-89f3dc9fde77"
      },
      "execution_count": 25,
      "outputs": [
        {
          "output_type": "stream",
          "name": "stdout",
          "text": [
            "313/313 [==============================] - 1s 2ms/step - loss: 49.0579 - accuracy: 0.8671\n",
            "Perda: 49.057899475097656\n",
            "Acuráci: 0.8671000003814697\n"
          ]
        }
      ]
    },
    {
      "cell_type": "code",
      "source": [
        "test_imgs_normalized = test_imgs/255\n",
        "\n",
        "test_loss, test_accuracy = model.evaluate(test_imgs_normalized, test_labels)\n",
        "print(f'Perda: {test_loss}')\n",
        "print(f'Acuráci: {test_accuracy}')"
      ],
      "metadata": {
        "colab": {
          "base_uri": "https://localhost:8080/"
        },
        "id": "p6bW07tJDoNg",
        "outputId": "fa62324f-31a3-4372-cb06-0a4662016d2b"
      },
      "execution_count": 26,
      "outputs": [
        {
          "output_type": "stream",
          "name": "stdout",
          "text": [
            "313/313 [==============================] - 1s 2ms/step - loss: 0.3614 - accuracy: 0.8658\n",
            "Perda: 0.3614228367805481\n",
            "Acuráci: 0.8658000230789185\n"
          ]
        }
      ]
    },
    {
      "cell_type": "markdown",
      "source": [
        "## Conjunto de Validação"
      ],
      "metadata": {
        "id": "HBpLitjJJO9q"
      }
    },
    {
      "cell_type": "markdown",
      "source": [
        "* Com a definição do validation_split, o treinamento passa a separar um conjunto para validação do modelo.\n",
        "\n",
        "* Os valores de perda e acurácia da validação são retornados junto com os do treino."
      ],
      "metadata": {
        "id": "__psUsIrzIly"
      }
    },
    {
      "cell_type": "code",
      "source": [
        "model = keras.Sequential([\n",
        "    keras.layers.Flatten(input_shape = (28, 28)),\n",
        "    keras.layers.Dense(256, activation = tensorflow.nn.relu),\n",
        "    keras.layers.Dense(128, activation = tensorflow.nn.relu),\n",
        "    keras.layers.Dense(10, activation = tensorflow.nn.softmax)\n",
        "])\n",
        "\n",
        "model.compile(optimizer = 'adam', loss = 'sparse_categorical_crossentropy', metrics = ['accuracy'])\n",
        "historico = model.fit(train_imgs, train_labels, epochs = 5, validation_split = 0.2)"
      ],
      "metadata": {
        "colab": {
          "base_uri": "https://localhost:8080/"
        },
        "id": "j633JUJKF88H",
        "outputId": "cf446e08-cf55-48d1-e39a-d50511182f18"
      },
      "execution_count": 94,
      "outputs": [
        {
          "output_type": "stream",
          "name": "stdout",
          "text": [
            "Epoch 1/5\n",
            "1500/1500 [==============================] - 8s 5ms/step - loss: 0.4944 - accuracy: 0.8227 - val_loss: 0.3827 - val_accuracy: 0.8597\n",
            "Epoch 2/5\n",
            "1500/1500 [==============================] - 6s 4ms/step - loss: 0.3700 - accuracy: 0.8639 - val_loss: 0.3722 - val_accuracy: 0.8617\n",
            "Epoch 3/5\n",
            "1500/1500 [==============================] - 9s 6ms/step - loss: 0.3346 - accuracy: 0.8767 - val_loss: 0.3438 - val_accuracy: 0.8758\n",
            "Epoch 4/5\n",
            "1500/1500 [==============================] - 6s 4ms/step - loss: 0.3065 - accuracy: 0.8857 - val_loss: 0.3326 - val_accuracy: 0.8768\n",
            "Epoch 5/5\n",
            "1500/1500 [==============================] - 6s 4ms/step - loss: 0.2880 - accuracy: 0.8920 - val_loss: 0.3296 - val_accuracy: 0.8822\n"
          ]
        }
      ]
    },
    {
      "cell_type": "markdown",
      "source": [
        "# Gráficos de Acurácia e Perda"
      ],
      "metadata": {
        "id": "b46eEYGb0EyL"
      }
    },
    {
      "cell_type": "code",
      "source": [
        "def plot_accuracy_loss(historico):\n",
        "  fig, axs = plt.subplots(1, 2, figsize = (12, 5))\n",
        "\n",
        "  axs[0].set_title('Acurácia por épocas', fontsize = 15)\n",
        "  axs[0].set(xlabel = 'épocas', ylabel = 'perda')\n",
        "  axs[0].plot(historico.history['accuracy'])\n",
        "  axs[0].plot(historico.history['val_accuracy'])\n",
        "\n",
        "  axs[1].set_title('Perda por épocas', fontsize = 15)\n",
        "  axs[1].set(xlabel = 'épocas', ylabel = 'perda')\n",
        "  axs[1].plot(historico.history['loss'])\n",
        "  axs[1].plot(historico.history['val_loss'])\n",
        "\n",
        "  plt.show()"
      ],
      "metadata": {
        "id": "StsbdyIUxOal"
      },
      "execution_count": null,
      "outputs": []
    },
    {
      "cell_type": "markdown",
      "source": [
        "## Análise de 5 épocas"
      ],
      "metadata": {
        "id": "h1qdBZZBCLQ2"
      }
    },
    {
      "cell_type": "code",
      "source": [
        "historico.history"
      ],
      "metadata": {
        "colab": {
          "base_uri": "https://localhost:8080/"
        },
        "id": "AZxtUmHeJeYO",
        "outputId": "cca000db-b368-4707-e9a4-a5a280e031c5"
      },
      "execution_count": 28,
      "outputs": [
        {
          "output_type": "execute_result",
          "data": {
            "text/plain": [
              "{'loss': [0.498549222946167,\n",
              "  0.3717551529407501,\n",
              "  0.33270883560180664,\n",
              "  0.3089047372341156,\n",
              "  0.2884579002857208],\n",
              " 'accuracy': [0.8202083110809326,\n",
              "  0.8634583353996277,\n",
              "  0.8778541684150696,\n",
              "  0.8856250047683716,\n",
              "  0.8920416831970215],\n",
              " 'val_loss': [0.39552026987075806,\n",
              "  0.3732278347015381,\n",
              "  0.3360172212123871,\n",
              "  0.33688145875930786,\n",
              "  0.32751280069351196],\n",
              " 'val_accuracy': [0.859499990940094,\n",
              "  0.8654999732971191,\n",
              "  0.8776666522026062,\n",
              "  0.8784166574478149,\n",
              "  0.8829166889190674]}"
            ]
          },
          "metadata": {},
          "execution_count": 28
        }
      ]
    },
    {
      "cell_type": "code",
      "source": [
        "plot_accuracy_loss(historico)"
      ],
      "metadata": {
        "colab": {
          "base_uri": "https://localhost:8080/",
          "height": 353
        },
        "id": "_QVOFNPGxi6F",
        "outputId": "48a65a5f-f0e8-42b2-cbaf-112337a5511a"
      },
      "execution_count": 95,
      "outputs": [
        {
          "output_type": "display_data",
          "data": {
            "text/plain": [
              "<Figure size 864x360 with 2 Axes>"
            ],
            "image/png": "[encoded data removed]"
          },
          "metadata": {
            "needs_background": "light"
          }
        }
      ]
    },
    {
      "cell_type": "markdown",
      "source": [
        "* A acurácia aumentou no decorrer das 5 épocas. Portanto, seguiu como desejado.\n",
        "\n",
        "* A perda diminuiu no decorrer das 5 épocas. Também seguiu como desejado."
      ],
      "metadata": {
        "id": "GzV_C2Qn2m9i"
      }
    },
    {
      "cell_type": "markdown",
      "source": [
        "## Análise de 10 épocas"
      ],
      "metadata": {
        "id": "1NpxP2A533C1"
      }
    },
    {
      "cell_type": "code",
      "source": [
        "model = keras.Sequential([\n",
        "    keras.layers.Flatten(input_shape = (28, 28)),\n",
        "    keras.layers.Dense(256, activation = tensorflow.nn.relu),\n",
        "    keras.layers.Dense(128, activation = tensorflow.nn.relu),\n",
        "    keras.layers.Dense(10, activation = tensorflow.nn.softmax)\n",
        "])\n",
        "\n",
        "model.compile(optimizer = 'adam', loss = 'sparse_categorical_crossentropy', metrics = ['accuracy'])\n",
        "historico = model.fit(train_imgs, train_labels, epochs = 10, validation_split = 0.2)"
      ],
      "metadata": {
        "colab": {
          "base_uri": "https://localhost:8080/"
        },
        "id": "Cr6jYa0t2koN",
        "outputId": "07a068b5-5701-4559-913b-5da2e3643bf8"
      },
      "execution_count": 96,
      "outputs": [
        {
          "output_type": "stream",
          "name": "stdout",
          "text": [
            "Epoch 1/10\n",
            "1500/1500 [==============================] - 9s 6ms/step - loss: 0.4933 - accuracy: 0.8245 - val_loss: 0.3962 - val_accuracy: 0.8555\n",
            "Epoch 2/10\n",
            "1500/1500 [==============================] - 7s 5ms/step - loss: 0.3693 - accuracy: 0.8645 - val_loss: 0.3614 - val_accuracy: 0.8684\n",
            "Epoch 3/10\n",
            "1500/1500 [==============================] - 7s 5ms/step - loss: 0.3365 - accuracy: 0.8736 - val_loss: 0.3473 - val_accuracy: 0.8773\n",
            "Epoch 4/10\n",
            "1500/1500 [==============================] - 7s 5ms/step - loss: 0.3101 - accuracy: 0.8848 - val_loss: 0.3170 - val_accuracy: 0.8846\n",
            "Epoch 5/10\n",
            "1500/1500 [==============================] - 7s 5ms/step - loss: 0.2901 - accuracy: 0.8919 - val_loss: 0.3358 - val_accuracy: 0.8796\n",
            "Epoch 6/10\n",
            "1500/1500 [==============================] - 7s 5ms/step - loss: 0.2725 - accuracy: 0.8968 - val_loss: 0.3179 - val_accuracy: 0.8876\n",
            "Epoch 7/10\n",
            "1500/1500 [==============================] - 7s 5ms/step - loss: 0.2610 - accuracy: 0.9008 - val_loss: 0.3295 - val_accuracy: 0.8855\n",
            "Epoch 8/10\n",
            "1500/1500 [==============================] - 7s 4ms/step - loss: 0.2517 - accuracy: 0.9056 - val_loss: 0.3402 - val_accuracy: 0.8804\n",
            "Epoch 9/10\n",
            "1500/1500 [==============================] - 6s 4ms/step - loss: 0.2383 - accuracy: 0.9096 - val_loss: 0.3547 - val_accuracy: 0.8748\n",
            "Epoch 10/10\n",
            "1500/1500 [==============================] - 7s 5ms/step - loss: 0.2280 - accuracy: 0.9129 - val_loss: 0.3462 - val_accuracy: 0.8858\n"
          ]
        }
      ]
    },
    {
      "cell_type": "markdown",
      "source": [
        "### Acurácia"
      ],
      "metadata": {
        "id": "iGpmeZHt-0Ri"
      }
    },
    {
      "cell_type": "code",
      "source": [
        "plt.plot(historico.history['accuracy'])\n",
        "plt.plot(historico.history['val_accuracy'])\n",
        "\n",
        "plt.title('Acurácia por épocas', fontsize = 15)\n",
        "plt.xlabel('épocas')\n",
        "plt.ylabel('acurácia')\n",
        "plt.legend(['treino', 'validação'])\n",
        "plt.show()"
      ],
      "metadata": {
        "colab": {
          "base_uri": "https://localhost:8080/",
          "height": 299
        },
        "id": "keJSe5G_4IIw",
        "outputId": "38bbf571-8ddf-44a7-eff1-cff48bc0509b"
      },
      "execution_count": 32,
      "outputs": [
        {
          "output_type": "display_data",
          "data": {
            "text/plain": [
              "<Figure size 432x288 with 1 Axes>"
            ],
            "image/png": "[encoded data removed]"
          },
          "metadata": {
            "needs_background": "light"
          }
        }
      ]
    },
    {
      "cell_type": "markdown",
      "source": [
        "* A Acurácia do treino sobe de forma consistente, mas a de validação não só não consegue aumentar o suficiente para acompanhá-la como oscila no decorrer das épocas."
      ],
      "metadata": {
        "id": "lmlifLsX727b"
      }
    },
    {
      "cell_type": "markdown",
      "source": [
        "### Perda"
      ],
      "metadata": {
        "id": "eHi1KIy2CaMy"
      }
    },
    {
      "cell_type": "code",
      "source": [
        "plt.plot(historico.history['loss'])\n",
        "plt.plot(historico.history['val_loss'])\n",
        "\n",
        "plt.title('Perda por épocas', fontsize = 15)\n",
        "plt.xlabel('épocas')\n",
        "plt.ylabel('perda')\n",
        "plt.legend(['treino', 'validação'])\n",
        "plt.show()"
      ],
      "metadata": {
        "colab": {
          "base_uri": "https://localhost:8080/",
          "height": 299
        },
        "id": "zMBgCqj14re2",
        "outputId": "c6cb595a-1966-4eb7-83b0-becd0c4e8b88"
      },
      "execution_count": 33,
      "outputs": [
        {
          "output_type": "display_data",
          "data": {
            "text/plain": [
              "<Figure size 432x288 with 1 Axes>"
            ],
            "image/png": "[encoded data removed]"
          },
          "metadata": {
            "needs_background": "light"
          }
        }
      ]
    },
    {
      "cell_type": "markdown",
      "source": [
        "* Algo semelhante acontece com os valores de perda, a validação não consegue acompanhar o treino."
      ],
      "metadata": {
        "id": "KAkBeFf-8Lim"
      }
    },
    {
      "cell_type": "markdown",
      "source": [
        "* Os dois gráficos sugereme o modelo está sofrendo um Overfitting, ou seja, está tão especializado nos padrões das imagens de treinamento que não consegue interpretar novas imagens, do conjunto de validação.\n",
        "\n",
        "* Para evitar o oferfitting, pode-se manter a quantidade de épocas no intervalo em que os resultados estão mais estáveis. Onde a tendência da perda e da acurácia estão favoráveis no treino e os resultados na validação ainda estão próximos.\n",
        "\n",
        "* Neste caso, entre [4, 6]. Será mantido o 4º modelo."
      ],
      "metadata": {
        "id": "YuMBwbU28b7G"
      }
    },
    {
      "cell_type": "markdown",
      "source": [
        "# Mais alterações nas camadas escondidas"
      ],
      "metadata": {
        "id": "dMCEmhOBCxF0"
      }
    },
    {
      "cell_type": "markdown",
      "source": [
        "## Dropout"
      ],
      "metadata": {
        "id": "iOpB4WpSEHmk"
      }
    },
    {
      "cell_type": "markdown",
      "source": [
        "* Irá inativar algumas ligações entre duas camadas, como se os neurônios estivessem inativos. Recebe uma porcentagem de ligações que serão desligadas.\n",
        "\n",
        "* Pode ser considerado uma Normalização."
      ],
      "metadata": {
        "id": "cYLdMGQrFQnN"
      }
    },
    {
      "cell_type": "code",
      "source": [
        "model = keras.Sequential([\n",
        "    keras.layers.Flatten(input_shape = (28, 28)),\n",
        "    keras.layers.Dense(256, activation = tensorflow.nn.relu),\n",
        "    keras.layers.Dense(128, activation = tensorflow.nn.relu),\n",
        "    keras.layers.Dropout(0.2),  # nova camada escondida\n",
        "    keras.layers.Dense(10, activation = tensorflow.nn.softmax)\n",
        "])\n",
        "\n",
        "model.compile(optimizer = 'adam', loss = 'sparse_categorical_crossentropy', metrics = ['accuracy'])\n",
        "historico = model.fit(train_imgs, train_labels, epochs = 5, validation_split = 0.2)"
      ],
      "metadata": {
        "colab": {
          "base_uri": "https://localhost:8080/"
        },
        "id": "oTpcBx9FBDmD",
        "outputId": "ac91da75-f0b6-4acc-e4d4-e14cfcfaa08a"
      },
      "execution_count": 97,
      "outputs": [
        {
          "output_type": "stream",
          "name": "stdout",
          "text": [
            "Epoch 1/5\n",
            "1500/1500 [==============================] - 8s 5ms/step - loss: 0.5200 - accuracy: 0.8135 - val_loss: 0.4011 - val_accuracy: 0.8528\n",
            "Epoch 2/5\n",
            "1500/1500 [==============================] - 7s 4ms/step - loss: 0.3825 - accuracy: 0.8578 - val_loss: 0.3829 - val_accuracy: 0.8620\n",
            "Epoch 3/5\n",
            "1500/1500 [==============================] - 7s 5ms/step - loss: 0.3449 - accuracy: 0.8710 - val_loss: 0.3465 - val_accuracy: 0.8741\n",
            "Epoch 4/5\n",
            "1500/1500 [==============================] - 7s 5ms/step - loss: 0.3206 - accuracy: 0.8814 - val_loss: 0.3521 - val_accuracy: 0.8763\n",
            "Epoch 5/5\n",
            "1500/1500 [==============================] - 7s 4ms/step - loss: 0.3017 - accuracy: 0.8870 - val_loss: 0.3317 - val_accuracy: 0.8787\n"
          ]
        }
      ]
    },
    {
      "cell_type": "markdown",
      "source": [
        "### Gráficos de Validação"
      ],
      "metadata": {
        "id": "FQ3n1TuXDA1e"
      }
    },
    {
      "cell_type": "code",
      "source": [
        "plot_accuracy_loss(historico)"
      ],
      "metadata": {
        "colab": {
          "base_uri": "https://localhost:8080/",
          "height": 353
        },
        "id": "sKCUhR3VySn4",
        "outputId": "626e1042-a9bf-41fa-e9b3-4f3b2bde2368"
      },
      "execution_count": 98,
      "outputs": [
        {
          "output_type": "display_data",
          "data": {
            "text/plain": [
              "<Figure size 864x360 with 2 Axes>"
            ],
            "image/png": "[encoded data removed]"
          },
          "metadata": {
            "needs_background": "light"
          }
        }
      ]
    },
    {
      "cell_type": "markdown",
      "source": [
        "* O comportamento das curvas de validação melhoraram em comparação com o modelo sem Dropout. Apesar dos resultados de treino serem um pouco piores, a perda e acurácia da validação estão melhores."
      ],
      "metadata": {
        "id": "YqUedOuLF6fn"
      }
    },
    {
      "cell_type": "markdown",
      "source": [
        "# Salvando e utilizando modelo treinado"
      ],
      "metadata": {
        "id": "1b7jL9GiL248"
      }
    },
    {
      "cell_type": "code",
      "source": [
        "model.save('model.h5')"
      ],
      "metadata": {
        "id": "PwqlZ3z3DNSq"
      },
      "execution_count": 99,
      "outputs": []
    },
    {
      "cell_type": "code",
      "source": [
        "from tensorflow.keras.models import load_model\n",
        "\n",
        "saved_model = load_model('model.h5')"
      ],
      "metadata": {
        "id": "ll0wpppEMBSY"
      },
      "execution_count": 100,
      "outputs": []
    },
    {
      "cell_type": "code",
      "source": [
        "tests = saved_model.predict(test_imgs_normalized)\n",
        "print(f'Resultado do teste: {np.argmax(tests[0])}')\n",
        "print(f'Rótulo da imagem: {test_labels[0]}')"
      ],
      "metadata": {
        "colab": {
          "base_uri": "https://localhost:8080/"
        },
        "id": "YzFx_xLTM-iG",
        "outputId": "3dd0c85e-a62e-40cc-eaf0-a18c109b88e3"
      },
      "execution_count": 101,
      "outputs": [
        {
          "output_type": "stream",
          "name": "stdout",
          "text": [
            "313/313 [==============================] - 1s 2ms/step\n",
            "Resultado do teste: 9\n",
            "Rótulo da imagem: 9\n"
          ]
        }
      ]
    },
    {
      "cell_type": "markdown",
      "source": [
        "# Análises sobre o modelo e teoria"
      ],
      "metadata": {
        "id": "dNAeII-hGYem"
      }
    },
    {
      "cell_type": "markdown",
      "source": [
        "* A partir daqui, foram feitos alguns exercícios do curso para fixar conceitos relacionados a Redes Neurais. Não necessariamente têm uma aplicação prática."
      ],
      "metadata": {
        "id": "o07HYW2YX6-P"
      }
    },
    {
      "cell_type": "markdown",
      "source": [
        "## Sumário, descrição das camadas"
      ],
      "metadata": {
        "id": "Nz0LmrWQG223"
      }
    },
    {
      "cell_type": "code",
      "source": [
        "model.summary()"
      ],
      "metadata": {
        "colab": {
          "base_uri": "https://localhost:8080/"
        },
        "id": "a6GiAUdXGfKr",
        "outputId": "eb26dca7-782d-49a7-e3de-5a4187042951"
      },
      "execution_count": 102,
      "outputs": [
        {
          "output_type": "stream",
          "name": "stdout",
          "text": [
            "Model: \"sequential_13\"\n",
            "_________________________________________________________________\n",
            " Layer (type)                Output Shape              Param #   \n",
            "=================================================================\n",
            " flatten_13 (Flatten)        (None, 784)               0         \n",
            "                                                                 \n",
            " dense_38 (Dense)            (None, 256)               200960    \n",
            "                                                                 \n",
            " dense_39 (Dense)            (None, 128)               32896     \n",
            "                                                                 \n",
            " dropout_1 (Dropout)         (None, 128)               0         \n",
            "                                                                 \n",
            " dense_40 (Dense)            (None, 10)                1290      \n",
            "                                                                 \n",
            "=================================================================\n",
            "Total params: 235,146\n",
            "Trainable params: 235,146\n",
            "Non-trainable params: 0\n",
            "_________________________________________________________________\n"
          ]
        }
      ]
    },
    {
      "cell_type": "markdown",
      "source": [
        "* O Param # mostra a quantidade de parâmetros que são considerados na camada.\n",
        "  * 1º há apenas o achatamento, o valor ficou 0\n",
        "  * 2º (784 (achatamento 28x28) + 1 (viés)) x 256 (neurônios) \n",
        "  * 3º 256 (valores propagados da camada anterior) x 128 (neurônios) + 128 (pesos)\n",
        "  * 4º Dropout 20%\n",
        "  * 5º 128 (valores propagados) x 10 (neurônios) + 10 (pesos)\n",
        "\n",
        "* Os pesos são calculadosn e otimizados nas etapas de backpropagation."
      ],
      "metadata": {
        "id": "ejuTtwoJHQRd"
      }
    },
    {
      "cell_type": "markdown",
      "source": [
        "## Pesos e Vieses"
      ],
      "metadata": {
        "id": "lM1Eq7pP65a1"
      }
    },
    {
      "cell_type": "markdown",
      "source": [
        "### Pesos da primeira camada Dense"
      ],
      "metadata": {
        "id": "6QzEPmScRHQS"
      }
    },
    {
      "cell_type": "code",
      "source": [
        "model.layers[1].get_weights()[0]"
      ],
      "metadata": {
        "colab": {
          "base_uri": "https://localhost:8080/"
        },
        "id": "N7O084cxGiKj",
        "outputId": "e1ef989d-a87a-4617-f756-9c9878f957d9"
      },
      "execution_count": 103,
      "outputs": [
        {
          "output_type": "execute_result",
          "data": {
            "text/plain": [
              "array([[-0.06414342,  0.05943535, -0.08812422, ..., -0.0223381 ,\n",
              "         0.07103138,  0.06101508],\n",
              "       [ 0.07438552,  0.11767731, -0.1229787 , ...,  0.00258513,\n",
              "        -0.0682162 , -0.01251824],\n",
              "       [ 0.0355987 , -0.01287511, -0.03127015, ..., -0.09496097,\n",
              "         0.03985   , -0.00677122],\n",
              "       ...,\n",
              "       [-0.0215084 , -0.02382693,  0.07012766, ..., -0.05746972,\n",
              "        -0.00610743, -0.10950808],\n",
              "       [ 0.05895659, -0.02187036,  0.2012262 , ..., -0.02341088,\n",
              "        -0.00956941,  0.02526403],\n",
              "       [-0.05242887,  0.02926666, -0.04564621, ...,  0.02707455,\n",
              "        -0.03730689,  0.0924611 ]], dtype=float32)"
            ]
          },
          "metadata": {},
          "execution_count": 103
        }
      ]
    },
    {
      "cell_type": "markdown",
      "source": [
        "### Vieses da primeira camada Dense"
      ],
      "metadata": {
        "id": "w8iqkjelRM2W"
      }
    },
    {
      "cell_type": "markdown",
      "source": [
        "* Os Vieses indicam o que está mais próximo ou mais distante de conseguir o resultado esperado.\n",
        "  * Por exemplo: uma saia está mais próxima de um vestido do que de um sapato."
      ],
      "metadata": {
        "id": "PbWbaimzRWfB"
      }
    },
    {
      "cell_type": "code",
      "source": [
        "len(model.layers[1].get_weights()[1])"
      ],
      "metadata": {
        "colab": {
          "base_uri": "https://localhost:8080/"
        },
        "id": "UXRCwCZ7RztD",
        "outputId": "670b6d03-d0b4-4ce2-ca71-031458f2c708"
      },
      "execution_count": 104,
      "outputs": [
        {
          "output_type": "execute_result",
          "data": {
            "text/plain": [
              "256"
            ]
          },
          "metadata": {},
          "execution_count": 104
        }
      ]
    },
    {
      "cell_type": "code",
      "source": [
        "model.layers[1].get_weights()[1]"
      ],
      "metadata": {
        "colab": {
          "base_uri": "https://localhost:8080/"
        },
        "id": "jYo42MhdKgr7",
        "outputId": "1cf570ab-7007-48aa-fd3a-c5c8027a8fc0"
      },
      "execution_count": 105,
      "outputs": [
        {
          "output_type": "execute_result",
          "data": {
            "text/plain": [
              "array([ 2.06237242e-01,  1.94054693e-01, -9.12339762e-02,  1.74410075e-01,\n",
              "       -1.31014884e-01,  2.01699436e-01,  1.57984421e-01, -1.41026834e-02,\n",
              "        8.23454633e-02,  4.21851501e-02, -2.63924077e-02,  3.19377854e-02,\n",
              "        2.83892125e-01,  6.82607219e-02, -7.92386290e-03, -1.67057067e-02,\n",
              "        8.61302763e-02,  4.33908224e-01, -2.75244843e-02,  6.38017990e-03,\n",
              "        7.46982396e-02,  4.72855568e-02, -6.40730858e-02,  8.93483832e-02,\n",
              "       -1.13250799e-02, -8.98255631e-02, -1.61567867e-01, -2.42204405e-02,\n",
              "        6.34756908e-02,  4.43174802e-02, -3.41517091e-01, -1.03811316e-01,\n",
              "        1.00595765e-01,  1.26800537e-01,  2.45399252e-01, -3.94706465e-02,\n",
              "        1.56166181e-01,  1.91998199e-01,  1.86930403e-01,  7.45857581e-02,\n",
              "       -2.99165957e-02, -2.09937599e-02, -1.41556887e-02,  1.46288495e-03,\n",
              "        5.00697531e-02,  1.45946339e-01, -6.01466373e-03,  5.94645962e-02,\n",
              "        3.74263190e-02,  5.62097356e-02, -2.43184082e-02, -7.03847036e-02,\n",
              "        2.69934118e-01,  1.74194247e-01, -2.41760850e-01, -1.40967295e-01,\n",
              "        9.97104198e-02, -1.47836525e-02, -3.86493560e-03, -1.59115613e-01,\n",
              "        2.07557246e-01,  8.38914770e-04,  1.99459791e-01, -1.27321452e-01,\n",
              "       -3.19666773e-01,  2.25876868e-01,  1.70908365e-02,  1.87090859e-01,\n",
              "        1.06518134e-01,  1.62076101e-01,  8.36470202e-02, -7.39339590e-02,\n",
              "       -4.39854562e-02, -8.19175318e-02,  4.51999338e-04,  1.33150190e-01,\n",
              "       -1.25558563e-02,  2.50818450e-02,  1.11525439e-01,  9.54779088e-02,\n",
              "        1.82812929e-01, -1.45868110e-02, -5.62772062e-03,  1.73255637e-01,\n",
              "        1.87826127e-01,  9.23556462e-03, -1.19415946e-01,  2.43977815e-01,\n",
              "        2.46118568e-02,  6.22463366e-03,  1.19522445e-01,  1.41795024e-01,\n",
              "        2.80538112e-01,  9.23013985e-02, -3.64437662e-02,  2.82598525e-01,\n",
              "        4.70976206e-03, -1.01341479e-01,  2.03944966e-01,  6.85711950e-03,\n",
              "        1.90490648e-01, -3.28472763e-01,  1.11118615e-01,  5.88911697e-02,\n",
              "        2.13133052e-01,  1.30156487e-01, -1.07325263e-01,  4.27262485e-02,\n",
              "        1.01858467e-01,  1.94724649e-01,  2.39545777e-01, -1.32938307e-02,\n",
              "        2.30660066e-01,  6.66993111e-02, -2.16156453e-01,  1.46324813e-01,\n",
              "        1.11611590e-01,  1.07479125e-01,  2.93681413e-01, -3.32565159e-02,\n",
              "       -4.03567478e-02,  2.38441616e-01,  2.58098952e-02, -1.11281844e-02,\n",
              "       -9.73694026e-03, -1.16968323e-02,  1.92433298e-01,  1.65761523e-02,\n",
              "        3.06702822e-01, -2.13325128e-01,  1.41709253e-01, -3.57454643e-02,\n",
              "       -2.15324536e-02,  1.93505421e-01,  4.99045551e-02,  7.17781857e-02,\n",
              "        1.06792293e-01, -6.78086579e-02,  1.63194537e-01,  2.09840968e-01,\n",
              "        2.27819696e-01,  2.83591419e-01, -1.20365694e-01,  1.78590924e-01,\n",
              "        2.46145688e-02, -2.05078404e-02, -8.72966368e-03,  2.37713337e-01,\n",
              "        1.68358847e-01,  4.80033010e-02, -5.00097219e-03, -2.63570756e-01,\n",
              "       -1.21865170e-02,  7.01235607e-02,  1.03551224e-01,  4.46501635e-02,\n",
              "       -2.60954403e-04,  1.71574831e-01,  2.16563165e-01,  1.44255787e-01,\n",
              "       -1.73466466e-03,  6.66585863e-02, -6.55838288e-03,  2.22016945e-01,\n",
              "        9.51222032e-02,  3.92708331e-02,  1.58348065e-02,  8.29355698e-03,\n",
              "       -2.41789073e-01, -2.37688258e-01,  1.90313198e-02,  5.77984145e-03,\n",
              "        1.31651938e-01,  3.06078922e-02, -4.45422754e-02,  1.75008446e-01,\n",
              "       -3.73499584e-04, -2.10122734e-01, -1.06462717e-01,  2.39099324e-01,\n",
              "        1.65601015e-01,  1.04779862e-02,  5.01899533e-02,  1.56323150e-01,\n",
              "        3.32609564e-01,  3.10008198e-01,  6.24066480e-02,  3.73043865e-02,\n",
              "        2.10751474e-01,  2.01631263e-01,  2.02607792e-02,  3.11408252e-01,\n",
              "        3.77081901e-01,  7.65628293e-02,  1.00160301e-01, -7.43149547e-03,\n",
              "        1.02606729e-01, -2.02312730e-02,  2.26876691e-01, -9.75445658e-03,\n",
              "        2.17595220e-01, -3.35976034e-02, -1.18452184e-01, -4.48695332e-01,\n",
              "        3.25825900e-01, -8.55402052e-02, -4.30387966e-02,  5.85575998e-02,\n",
              "        7.94000982e-04,  1.76701203e-01, -2.46390581e-01,  2.90876329e-01,\n",
              "        1.50982887e-01, -2.23525465e-02, -1.41317084e-01,  6.45666048e-02,\n",
              "       -8.47798400e-03, -3.65526006e-02, -2.67532855e-01, -9.75585431e-02,\n",
              "        1.96090907e-01,  2.91146457e-01,  9.83475521e-02, -1.41857192e-02,\n",
              "        3.23682457e-01,  1.53473198e-01, -1.29208472e-02,  3.02999467e-01,\n",
              "        1.18453167e-01,  8.59966353e-02,  1.18593760e-02, -2.77397763e-02,\n",
              "        1.60232678e-01, -2.08100557e-01, -3.37222368e-01,  1.89822286e-01,\n",
              "        7.19102621e-02,  2.09767580e-01,  1.58328682e-01,  6.30321950e-02,\n",
              "       -4.97525595e-02,  5.32888509e-02, -1.57453194e-01,  6.84632286e-02,\n",
              "        4.30159271e-02,  1.12473331e-02,  1.73811153e-01,  2.81331807e-01,\n",
              "       -1.28193088e-02, -1.24599384e-02,  9.76502299e-02,  3.91515866e-02,\n",
              "        1.00323476e-01,  1.58072919e-01, -9.38498601e-03, -1.54909730e-01],\n",
              "      dtype=float32)"
            ]
          },
          "metadata": {},
          "execution_count": 105
        }
      ]
    },
    {
      "cell_type": "markdown",
      "source": [
        "### Alterando pesos \"à mão\""
      ],
      "metadata": {
        "id": "-UJ5hlQjWG19"
      }
    },
    {
      "cell_type": "markdown",
      "source": [
        "#### Pesos 0"
      ],
      "metadata": {
        "id": "G-WdN4h3WN6z"
      }
    },
    {
      "cell_type": "code",
      "source": [
        "vieses_camada_dense = model.layers[1].get_weights()[1]\n",
        "print(f'Vieses: {vieses_camada_dense.shape}')\n",
        "pesos_camada_dense = model.layers[1].get_weights()[0]\n",
        "print(f'Pesos: {pesos_camada_dense.shape}')"
      ],
      "metadata": {
        "colab": {
          "base_uri": "https://localhost:8080/"
        },
        "id": "Q-1e8Fp7OhXK",
        "outputId": "f1d5d0a3-af83-4b92-d7fa-64bfa824d2e9"
      },
      "execution_count": 106,
      "outputs": [
        {
          "output_type": "stream",
          "name": "stdout",
          "text": [
            "Vieses: (256,)\n",
            "Pesos: (784, 256)\n"
          ]
        }
      ]
    },
    {
      "cell_type": "code",
      "source": [
        "pesos_camada_dense_zerados = np.zeros((784, 256))\n",
        "model.layers[1].set_weights([pesos_camada_dense_zerados, vieses_camada_dense])"
      ],
      "metadata": {
        "id": "S4uzocJ4WWbH"
      },
      "execution_count": 107,
      "outputs": []
    },
    {
      "cell_type": "code",
      "source": [
        "model.compile(optimizer = 'adam', \n",
        "              loss = 'sparse_categorical_crossentropy', \n",
        "              metrics = ['accuracy'])\n",
        "historico = model.fit(train_imgs, train_labels, epochs = 5, validation_split = 0.2)"
      ],
      "metadata": {
        "colab": {
          "base_uri": "https://localhost:8080/"
        },
        "id": "yc6uL9x1WqDv",
        "outputId": "1da5e895-3479-487b-c540-03862690824b"
      },
      "execution_count": 108,
      "outputs": [
        {
          "output_type": "stream",
          "name": "stdout",
          "text": [
            "Epoch 1/5\n",
            "1500/1500 [==============================] - 7s 5ms/step - loss: 0.5496 - accuracy: 0.8030 - val_loss: 0.4088 - val_accuracy: 0.8529\n",
            "Epoch 2/5\n",
            "1500/1500 [==============================] - 7s 4ms/step - loss: 0.3893 - accuracy: 0.8581 - val_loss: 0.3736 - val_accuracy: 0.8632\n",
            "Epoch 3/5\n",
            "1500/1500 [==============================] - 7s 5ms/step - loss: 0.3512 - accuracy: 0.8700 - val_loss: 0.3614 - val_accuracy: 0.8708\n",
            "Epoch 4/5\n",
            "1500/1500 [==============================] - 7s 5ms/step - loss: 0.3314 - accuracy: 0.8778 - val_loss: 0.3376 - val_accuracy: 0.8802\n",
            "Epoch 5/5\n",
            "1500/1500 [==============================] - 7s 5ms/step - loss: 0.3119 - accuracy: 0.8837 - val_loss: 0.3264 - val_accuracy: 0.8804\n"
          ]
        }
      ]
    },
    {
      "cell_type": "code",
      "source": [
        "plot_accuracy_loss(historico)"
      ],
      "metadata": {
        "colab": {
          "base_uri": "https://localhost:8080/",
          "height": 353
        },
        "id": "YA5ubZ2wypRV",
        "outputId": "20f3034b-fc84-4fd0-9628-d4e792046fd2"
      },
      "execution_count": 109,
      "outputs": [
        {
          "output_type": "display_data",
          "data": {
            "text/plain": [
              "<Figure size 864x360 with 2 Axes>"
            ],
            "image/png": "[encoded data removed]"
          },
          "metadata": {
            "needs_background": "light"
          }
        }
      ]
    },
    {
      "cell_type": "markdown",
      "source": [
        "#### Pesos aleatórios"
      ],
      "metadata": {
        "id": "JXwd0T3siKnS"
      }
    },
    {
      "cell_type": "code",
      "source": [
        "pesos_camada_dense_aleatorios = np.random.rand(784, 256)\n",
        "model.layers[1].set_weights([pesos_camada_dense_aleatorios, vieses_camada_dense])"
      ],
      "metadata": {
        "id": "0Me9E_s8ZBDH"
      },
      "execution_count": 110,
      "outputs": []
    },
    {
      "cell_type": "code",
      "source": [
        "model.compile(optimizer = 'adam', \n",
        "              loss = 'sparse_categorical_crossentropy', \n",
        "              metrics = ['accuracy'])\n",
        "historico = model.fit(train_imgs, train_labels, epochs = 5, validation_split = 0.2)"
      ],
      "metadata": {
        "colab": {
          "base_uri": "https://localhost:8080/"
        },
        "id": "JtUjDK37iWYw",
        "outputId": "f5571590-06dc-48f3-ee69-72954909ed9c"
      },
      "execution_count": 111,
      "outputs": [
        {
          "output_type": "stream",
          "name": "stdout",
          "text": [
            "Epoch 1/5\n",
            "1500/1500 [==============================] - 8s 5ms/step - loss: 18.5027 - accuracy: 0.2099 - val_loss: 1.7957 - val_accuracy: 0.2790\n",
            "Epoch 2/5\n",
            "1500/1500 [==============================] - 7s 5ms/step - loss: 1.8988 - accuracy: 0.2357 - val_loss: 1.7410 - val_accuracy: 0.2962\n",
            "Epoch 3/5\n",
            "1500/1500 [==============================] - 7s 5ms/step - loss: 1.8788 - accuracy: 0.2405 - val_loss: 1.7673 - val_accuracy: 0.2637\n",
            "Epoch 4/5\n",
            "1500/1500 [==============================] - 7s 5ms/step - loss: 1.8813 - accuracy: 0.2400 - val_loss: 1.6916 - val_accuracy: 0.3010\n",
            "Epoch 5/5\n",
            "1500/1500 [==============================] - 8s 5ms/step - loss: 1.8673 - accuracy: 0.2477 - val_loss: 1.6855 - val_accuracy: 0.2875\n"
          ]
        }
      ]
    },
    {
      "cell_type": "code",
      "source": [
        "plot_accuracy_loss(historico)"
      ],
      "metadata": {
        "colab": {
          "base_uri": "https://localhost:8080/",
          "height": 353
        },
        "id": "sNe2jEkxy7G_",
        "outputId": "494609b2-c8d7-4f96-aecd-3335cf58a522"
      },
      "execution_count": 112,
      "outputs": [
        {
          "output_type": "display_data",
          "data": {
            "text/plain": [
              "<Figure size 864x360 with 2 Axes>"
            ],
            "image/png": "[encoded data removed]"
          },
          "metadata": {
            "needs_background": "light"
          }
        }
      ]
    },
    {
      "cell_type": "markdown",
      "source": [
        "### Alterando vieses \"à mão\""
      ],
      "metadata": {
        "id": "MixYMHjwtG-p"
      }
    },
    {
      "cell_type": "markdown",
      "source": [
        "#### Vieses e Pesos 0"
      ],
      "metadata": {
        "id": "V6-czLFatpFh"
      }
    },
    {
      "cell_type": "code",
      "source": [
        "vieses_camada_dense_zerados = np.zeros((256,))\n",
        "model.layers[1].set_weights([pesos_camada_dense_zerados, vieses_camada_dense_zerados])"
      ],
      "metadata": {
        "id": "hrOeXdG1tQ5c"
      },
      "execution_count": 113,
      "outputs": []
    },
    {
      "cell_type": "code",
      "source": [
        "model.compile(optimizer = 'adam', \n",
        "              loss = 'sparse_categorical_crossentropy', \n",
        "              metrics = ['accuracy'])\n",
        "historico = model.fit(train_imgs, train_labels, epochs = 5, validation_split = 0.2)"
      ],
      "metadata": {
        "colab": {
          "base_uri": "https://localhost:8080/"
        },
        "id": "fdxWOaKXtSyQ",
        "outputId": "3eb7a3dc-7f09-4f79-e62c-c62404a542b9"
      },
      "execution_count": 114,
      "outputs": [
        {
          "output_type": "stream",
          "name": "stdout",
          "text": [
            "Epoch 1/5\n",
            "1500/1500 [==============================] - 8s 5ms/step - loss: 2.3622 - accuracy: 0.1006 - val_loss: 2.3039 - val_accuracy: 0.0983\n",
            "Epoch 2/5\n",
            "1500/1500 [==============================] - 8s 5ms/step - loss: 2.3155 - accuracy: 0.0980 - val_loss: 2.3029 - val_accuracy: 0.1030\n",
            "Epoch 3/5\n",
            "1500/1500 [==============================] - 7s 5ms/step - loss: 2.3090 - accuracy: 0.1012 - val_loss: 2.3042 - val_accuracy: 0.1027\n",
            "Epoch 4/5\n",
            "1500/1500 [==============================] - 8s 5ms/step - loss: 2.3076 - accuracy: 0.1015 - val_loss: 2.3056 - val_accuracy: 0.1005\n",
            "Epoch 5/5\n",
            "1500/1500 [==============================] - 7s 5ms/step - loss: 2.3072 - accuracy: 0.0990 - val_loss: 2.3037 - val_accuracy: 0.0983\n"
          ]
        }
      ]
    },
    {
      "cell_type": "code",
      "source": [
        "plot_accuracy_loss(historico)"
      ],
      "metadata": {
        "colab": {
          "base_uri": "https://localhost:8080/",
          "height": 353
        },
        "id": "Bn3NDIP9xAqR",
        "outputId": "8ff0bfa2-f585-4640-f079-a4e0a99fd5f3"
      },
      "execution_count": 115,
      "outputs": [
        {
          "output_type": "display_data",
          "data": {
            "text/plain": [
              "<Figure size 864x360 with 2 Axes>"
            ],
            "image/png": "[encoded data removed]"
          },
          "metadata": {
            "needs_background": "light"
          }
        }
      ]
    },
    {
      "cell_type": "markdown",
      "source": [
        "#### Vieses 0 e Pesos aleatórios"
      ],
      "metadata": {
        "id": "KYJUmq0JzWlL"
      }
    },
    {
      "cell_type": "code",
      "source": [
        "vieses_camada_dense_zerados = np.zeros((256,))\n",
        "model.layers[1].set_weights([pesos_camada_dense_aleatorios, vieses_camada_dense_zerados])\n",
        "\n",
        "model.compile(optimizer = 'adam', \n",
        "              loss = 'sparse_categorical_crossentropy', \n",
        "              metrics = ['accuracy'])\n",
        "historico = model.fit(train_imgs, train_labels, epochs = 5, validation_split = 0.2)\n",
        "\n",
        "plot_accuracy_loss(historico)"
      ],
      "metadata": {
        "colab": {
          "base_uri": "https://localhost:8080/",
          "height": 527
        },
        "id": "EWDU01wzuxq7",
        "outputId": "16d0b707-da8e-48ab-f446-879e5e472aff"
      },
      "execution_count": 117,
      "outputs": [
        {
          "output_type": "stream",
          "name": "stdout",
          "text": [
            "Epoch 1/5\n",
            "1500/1500 [==============================] - 8s 5ms/step - loss: 2.3976 - accuracy: 0.1000 - val_loss: 2.3279 - val_accuracy: 0.1003\n",
            "Epoch 2/5\n",
            "1500/1500 [==============================] - 7s 5ms/step - loss: 2.3108 - accuracy: 0.0979 - val_loss: 2.3035 - val_accuracy: 0.0957\n",
            "Epoch 3/5\n",
            "1500/1500 [==============================] - 8s 5ms/step - loss: 2.3029 - accuracy: 0.0980 - val_loss: 2.3028 - val_accuracy: 0.0957\n",
            "Epoch 4/5\n",
            "1500/1500 [==============================] - 8s 6ms/step - loss: 2.3028 - accuracy: 0.1004 - val_loss: 2.3026 - val_accuracy: 0.0995\n",
            "Epoch 5/5\n",
            "1500/1500 [==============================] - 8s 5ms/step - loss: 2.3028 - accuracy: 0.0973 - val_loss: 2.3028 - val_accuracy: 0.0983\n"
          ]
        },
        {
          "output_type": "display_data",
          "data": {
            "text/plain": [
              "<Figure size 864x360 with 2 Axes>"
            ],
            "image/png": "[encoded data removed]"
          },
          "metadata": {
            "needs_background": "light"
          }
        }
      ]
    },
    {
      "cell_type": "markdown",
      "source": [
        "### Configurações do modelo"
      ],
      "metadata": {
        "id": "_GP5-qSxkDiq"
      }
    },
    {
      "cell_type": "markdown",
      "source": [
        "* **model.get_config()**: Retorna dicionários com todas as definições da rede e suas camadas."
      ],
      "metadata": {
        "id": "JFiXClYEl4bv"
      }
    },
    {
      "cell_type": "code",
      "source": [
        "model.get_config()['layers'][2]"
      ],
      "metadata": {
        "colab": {
          "base_uri": "https://localhost:8080/"
        },
        "id": "zCpYcX7qi0HU",
        "outputId": "716bbf9d-05b4-47ff-8b9f-b66173f5741b"
      },
      "execution_count": 72,
      "outputs": [
        {
          "output_type": "execute_result",
          "data": {
            "text/plain": [
              "{'class_name': 'Dense',\n",
              " 'config': {'name': 'dense_29',\n",
              "  'trainable': True,\n",
              "  'dtype': 'float32',\n",
              "  'units': 256,\n",
              "  'activation': 'relu',\n",
              "  'use_bias': True,\n",
              "  'kernel_initializer': {'class_name': 'GlorotUniform',\n",
              "   'config': {'seed': None}},\n",
              "  'bias_initializer': {'class_name': 'Zeros', 'config': {}},\n",
              "  'kernel_regularizer': None,\n",
              "  'bias_regularizer': None,\n",
              "  'activity_regularizer': None,\n",
              "  'kernel_constraint': None,\n",
              "  'bias_constraint': None}}"
            ]
          },
          "metadata": {},
          "execution_count": 72
        }
      ]
    },
    {
      "cell_type": "markdown",
      "source": [
        "* O kernel_initializes é a função inicializa os pesos.\n",
        "\n",
        "* A classe de inicialização dos pesos nesta rede foi a GlorotUniform, também chamada de Algoritmo de Xavier. Gera valores que não sejam nem muito grandes nem muito próximos de zero, de forma que evite atrapalhar a aprendizagem do modelo.\n",
        "\n",
        "* A ReLu também azjuda a evitar valores extremos."
      ],
      "metadata": {
        "id": "WgRYyGv6mCwZ"
      }
    },
    {
      "cell_type": "markdown",
      "source": [
        "### Conclusões sobre Pesos e Vieses"
      ],
      "metadata": {
        "id": "W0_I2TBn0jM5"
      }
    },
    {
      "cell_type": "markdown",
      "source": [
        "* Os pesos influenciam mais no quanto uma rede aprende do que os vieses.\n",
        "  * Os resultados foram piores quando os pesos foram inicializados aleatoriamente.\n",
        "\n",
        "* É mais indicado inicializar os pesos de uma rede com zeros ou valores próximos de zero.\n",
        "\n",
        "* O **bias_initializer** define como os pesos são inicializados. Na consulta acima, está definindo como 'Zeros', que é o padrão do Keras."
      ],
      "metadata": {
        "id": "GzwFxdcE0le_"
      }
    },
    {
      "cell_type": "markdown",
      "source": [
        "## Função ReLu"
      ],
      "metadata": {
        "id": "xg8QVtGp7f21"
      }
    },
    {
      "cell_type": "markdown",
      "source": [
        "* $a = z^+ = max(0, z)$\n",
        "\n",
        "* Não linear.\n",
        "\n",
        "* A multiplicação da fução ReLu altera a inclinação da sua reta no 1º quadrante (x, y > 0).\n",
        "* A soma desloca as retas no eixo y."
      ],
      "metadata": {
        "id": "N6M8J4sb7lPR"
      }
    },
    {
      "cell_type": "code",
      "source": [
        " "
      ],
      "metadata": {
        "id": "1qWDRcvylRz9"
      },
      "execution_count": null,
      "outputs": []
    }
  ]
}