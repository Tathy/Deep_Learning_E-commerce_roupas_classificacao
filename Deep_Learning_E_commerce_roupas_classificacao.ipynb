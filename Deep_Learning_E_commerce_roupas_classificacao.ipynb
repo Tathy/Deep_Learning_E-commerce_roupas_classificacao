{
  "nbformat": 4,
  "nbformat_minor": 0,
  "metadata": {
    "colab": {
      "provenance": []
    },
    "kernelspec": {
      "name": "python3",
      "display_name": "Python 3"
    },
    "language_info": {
      "name": "python"
    }
  },
  "cells": [
    {
      "cell_type": "markdown",
      "source": [
        "#Classificação de imagens de roupas"
      ],
      "metadata": {
        "id": "KmvzqswAUlWz"
      }
    },
    {
      "cell_type": "markdown",
      "source": [
        "### Sobre o projeto"
      ],
      "metadata": {
        "id": "zvLkpTHoYz4-"
      }
    },
    {
      "cell_type": "markdown",
      "source": [
        "* Estudo introdutório sobre Deep Learning, TensorFlow e Keras.\n",
        "\n",
        "* E-commerce fictício de roupas, as roupas à venda devem ser classificadas em categorias para facilitar as buscas dos clientes no site.\n",
        "\n",
        "* **Dataset:** [Fashion-MNIST](https://github.com/zalandoresearch/fashion-mnist) que contém pequenas imagens (28x28) de roupas, associadas a 10 classes.\n",
        "\n",
        "* **Referência:** Estudo desenvolvido acompanhando o curso [Deep Learning parte 1: Keras](https://cursos.alura.com.br/course/deep-learning-introducao-com-keras), da Alura."
      ],
      "metadata": {
        "id": "1OIihlbrUqYG"
      }
    },
    {
      "cell_type": "markdown",
      "source": [
        "# Abertura do dataset e primeiras visualizações"
      ],
      "metadata": {
        "id": "yu8PUje5Z0_8"
      }
    },
    {
      "cell_type": "markdown",
      "source": [
        "## Fashion MNIST"
      ],
      "metadata": {
        "id": "VO8-aJiJhxpY"
      }
    },
    {
      "cell_type": "code",
      "execution_count": 14,
      "metadata": {
        "id": "fS6V8nSrUbrZ"
      },
      "outputs": [],
      "source": [
        "import tensorflow\n",
        "from tensorflow import keras\n",
        "\n",
        "dataset = keras.datasets.fashion_mnist"
      ]
    },
    {
      "cell_type": "code",
      "source": [
        "# retorna duas tuplas com conjuntos de treino, teste, e suas labels\n",
        "((train_imgs, train_labels),(test_imgs, test_labels)) = dataset.load_data()"
      ],
      "metadata": {
        "id": "4f0L0qw5ah9w"
      },
      "execution_count": 57,
      "outputs": []
    },
    {
      "cell_type": "code",
      "source": [
        "print(f'Conjunto de treino possui {len(train_imgs)} imagens.')\n",
        "print(f'Conjunto de teste possui {len(test_imgs)} imagens.')"
      ],
      "metadata": {
        "colab": {
          "base_uri": "https://localhost:8080/"
        },
        "id": "LKqiz-_Far9N",
        "outputId": "e8073649-4931-4ae3-f6b5-f7513e955c3f"
      },
      "execution_count": 58,
      "outputs": [
        {
          "output_type": "stream",
          "name": "stdout",
          "text": [
            "Conjunto de treino possui 60000 imagens.\n",
            "Conjunto de teste possui 10000 imagens.\n"
          ]
        }
      ]
    },
    {
      "cell_type": "code",
      "source": [
        "print(train_imgs.shape)\n",
        "print(test_imgs.shape)"
      ],
      "metadata": {
        "colab": {
          "base_uri": "https://localhost:8080/"
        },
        "id": "P9x3P4Utd6jF",
        "outputId": "bd69783d-236c-4468-a3d7-273659b7c0aa"
      },
      "execution_count": 59,
      "outputs": [
        {
          "output_type": "stream",
          "name": "stdout",
          "text": [
            "(60000, 28, 28)\n",
            "(10000, 28, 28)\n"
          ]
        }
      ]
    },
    {
      "cell_type": "markdown",
      "source": [
        "## Visualização de alguns itens"
      ],
      "metadata": {
        "id": "QgrPCJPnh0hO"
      }
    },
    {
      "cell_type": "code",
      "source": [
        "import random\n",
        "import matplotlib.pyplot as plt\n",
        "\n",
        "fig, axs = plt.subplots(1, 5, figsize = (15, 25))\n",
        "\n",
        "rand_ids = [random.randint(0, 60000) for i in range(5)]\n",
        "\n",
        "for k, i in zip(range(0,5), rand_ids):\n",
        "  axs[k].imshow(train_imgs[i])\n",
        "  axs[k].axis('off')\n",
        "  axs[k].set_title(train_labels[i], fontsize = 15)\n",
        "\n",
        "plt.show()"
      ],
      "metadata": {
        "colab": {
          "base_uri": "https://localhost:8080/",
          "height": 193
        },
        "id": "QEQffAj3h-4U",
        "outputId": "180a6bc8-426c-4ee6-cffb-e83d1fb3e1f5"
      },
      "execution_count": 55,
      "outputs": [
        {
          "output_type": "display_data",
          "data": {
            "text/plain": [
              "<Figure size 1080x1800 with 5 Axes>"
            ],
            "image/png": "[encoded data removed]"
          },
          "metadata": {
            "needs_background": "light"
          }
        }
      ]
    },
    {
      "cell_type": "code",
      "source": [
        "fig, axs = plt.subplots(1, 5, figsize = (15, 25))\n",
        "\n",
        "rand_ids = [random.randint(0, 10000) for i in range(5)]\n",
        "\n",
        "for k, i in zip(range(0,5), rand_ids):\n",
        "  axs[k].imshow(test_imgs[i])\n",
        "  axs[k].axis('off')\n",
        "  axs[k].set_title(test_labels[i], fontsize = 15)\n",
        "\n",
        "plt.show()"
      ],
      "metadata": {
        "colab": {
          "base_uri": "https://localhost:8080/",
          "height": 193
        },
        "id": "C5BVs5a6oA1K",
        "outputId": "54782125-8d7d-417f-9a74-0f1624a7acf1"
      },
      "execution_count": 60,
      "outputs": [
        {
          "output_type": "display_data",
          "data": {
            "text/plain": [
              "<Figure size 1080x1800 with 5 Axes>"
            ],
            "image/png": "[encoded data removed]"
          },
          "metadata": {
            "needs_background": "light"
          }
        }
      ]
    },
    {
      "cell_type": "code",
      "source": [],
      "metadata": {
        "id": "mUiGHp4kpDKq"
      },
      "execution_count": null,
      "outputs": []
    }
  ]
}