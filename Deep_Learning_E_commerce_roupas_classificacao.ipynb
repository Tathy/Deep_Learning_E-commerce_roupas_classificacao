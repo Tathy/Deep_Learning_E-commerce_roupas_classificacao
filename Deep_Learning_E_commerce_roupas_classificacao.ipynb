{
  "nbformat": 4,
  "nbformat_minor": 0,
  "metadata": {
    "colab": {
      "provenance": []
    },
    "kernelspec": {
      "name": "python3",
      "display_name": "Python 3"
    },
    "language_info": {
      "name": "python"
    }
  },
  "cells": [
    {
      "cell_type": "markdown",
      "source": [
        "#Classificação de imagens de roupas"
      ],
      "metadata": {
        "id": "KmvzqswAUlWz"
      }
    },
    {
      "cell_type": "markdown",
      "source": [
        "### Sobre o projeto"
      ],
      "metadata": {
        "id": "zvLkpTHoYz4-"
      }
    },
    {
      "cell_type": "markdown",
      "source": [
        "* Estudo introdutório sobre Deep Learning, TensorFlow e Keras.\n",
        "\n",
        "* E-commerce fictício de roupas, as roupas à venda devem ser classificadas em categorias para facilitar as buscas dos clientes no site.\n",
        "\n",
        "* **Dataset:** [Fashion-MNIST](https://github.com/zalandoresearch/fashion-mnist) que contém pequenas imagens (28x28) de roupas, associadas a 10 classes.\n",
        "\n",
        "* **Referência:** Estudo desenvolvido acompanhando o curso [Deep Learning parte 1: Keras](https://cursos.alura.com.br/course/deep-learning-introducao-com-keras), da Alura."
      ],
      "metadata": {
        "id": "1OIihlbrUqYG"
      }
    },
    {
      "cell_type": "markdown",
      "source": [
        "# Abertura do dataset e primeiras visualizações"
      ],
      "metadata": {
        "id": "yu8PUje5Z0_8"
      }
    },
    {
      "cell_type": "markdown",
      "source": [
        "## Fashion MNIST"
      ],
      "metadata": {
        "id": "VO8-aJiJhxpY"
      }
    },
    {
      "cell_type": "code",
      "execution_count": 1,
      "metadata": {
        "id": "fS6V8nSrUbrZ"
      },
      "outputs": [],
      "source": [
        "import tensorflow\n",
        "from tensorflow import keras\n",
        "\n",
        "dataset = keras.datasets.fashion_mnist"
      ]
    },
    {
      "cell_type": "code",
      "source": [
        "# retorna duas tuplas com conjuntos de treino, teste, e suas labels\n",
        "((train_imgs, train_labels),(test_imgs, test_labels)) = dataset.load_data()"
      ],
      "metadata": {
        "id": "4f0L0qw5ah9w",
        "colab": {
          "base_uri": "https://localhost:8080/"
        },
        "outputId": "99d51ae5-20c8-46c0-97d4-0cd0af7ace8d"
      },
      "execution_count": 2,
      "outputs": [
        {
          "output_type": "stream",
          "name": "stdout",
          "text": [
            "Downloading data from https://storage.googleapis.com/tensorflow/tf-keras-datasets/train-labels-idx1-ubyte.gz\n",
            "29515/29515 [==============================] - 0s 0us/step\n",
            "Downloading data from https://storage.googleapis.com/tensorflow/tf-keras-datasets/train-images-idx3-ubyte.gz\n",
            "26421880/26421880 [==============================] - 0s 0us/step\n",
            "Downloading data from https://storage.googleapis.com/tensorflow/tf-keras-datasets/t10k-labels-idx1-ubyte.gz\n",
            "5148/5148 [==============================] - 0s 0us/step\n",
            "Downloading data from https://storage.googleapis.com/tensorflow/tf-keras-datasets/t10k-images-idx3-ubyte.gz\n",
            "4422102/4422102 [==============================] - 0s 0us/step\n"
          ]
        }
      ]
    },
    {
      "cell_type": "code",
      "source": [
        "print(f'Conjunto de treino possui {len(train_imgs)} imagens.')\n",
        "print(f'Conjunto de teste possui {len(test_imgs)} imagens.')"
      ],
      "metadata": {
        "colab": {
          "base_uri": "https://localhost:8080/"
        },
        "id": "LKqiz-_Far9N",
        "outputId": "d1a3e5b2-3ccf-458e-9973-e8bbcb1d843b"
      },
      "execution_count": 3,
      "outputs": [
        {
          "output_type": "stream",
          "name": "stdout",
          "text": [
            "Conjunto de treino possui 60000 imagens.\n",
            "Conjunto de teste possui 10000 imagens.\n"
          ]
        }
      ]
    },
    {
      "cell_type": "code",
      "source": [
        "print(train_imgs.shape)\n",
        "print(test_imgs.shape)"
      ],
      "metadata": {
        "colab": {
          "base_uri": "https://localhost:8080/"
        },
        "id": "P9x3P4Utd6jF",
        "outputId": "060ea4c2-cb06-4949-f794-d0d843bf98f2"
      },
      "execution_count": 4,
      "outputs": [
        {
          "output_type": "stream",
          "name": "stdout",
          "text": [
            "(60000, 28, 28)\n",
            "(10000, 28, 28)\n"
          ]
        }
      ]
    },
    {
      "cell_type": "markdown",
      "source": [
        "## Classes"
      ],
      "metadata": {
        "id": "ZKxNqSJXpm4H"
      }
    },
    {
      "cell_type": "code",
      "source": [
        "import numpy as np\n",
        "np.unique(train_labels)"
      ],
      "metadata": {
        "id": "mUiGHp4kpDKq",
        "colab": {
          "base_uri": "https://localhost:8080/"
        },
        "outputId": "59a963f8-8bba-4738-e750-765c897dc9a6"
      },
      "execution_count": 5,
      "outputs": [
        {
          "output_type": "execute_result",
          "data": {
            "text/plain": [
              "array([0, 1, 2, 3, 4, 5, 6, 7, 8, 9], dtype=uint8)"
            ]
          },
          "metadata": {},
          "execution_count": 5
        }
      ]
    },
    {
      "cell_type": "markdown",
      "source": [
        "* Os nomes das classes estão no Readme do dataset."
      ],
      "metadata": {
        "id": "F_dhAivjqMOi"
      }
    },
    {
      "cell_type": "code",
      "source": [
        "class_name = ['T-shirt/top', 'Trouser', 'Pullover', 'Dress', 'Coat', 'Sandal', 'Shirt', 'Sneaker', 'Bag', 'Ankle boot']"
      ],
      "metadata": {
        "id": "YHs1SCq4oZAF"
      },
      "execution_count": 6,
      "outputs": []
    },
    {
      "cell_type": "markdown",
      "source": [
        "## Visualização de alguns itens"
      ],
      "metadata": {
        "id": "QgrPCJPnh0hO"
      }
    },
    {
      "cell_type": "code",
      "source": [
        "import random\n",
        "import matplotlib.pyplot as plt\n",
        "plt.rcParams['image.cmap'] = 'Greys'\n",
        "\n",
        "fig, axs = plt.subplots(1, 5, figsize = (15, 25))\n",
        "\n",
        "rand_ids = [random.randint(0, 60000) for i in range(5)]\n",
        "\n",
        "for k, i in zip(range(0,5), rand_ids):\n",
        "  axs[k].imshow(train_imgs[i])\n",
        "  axs[k].axis('off')\n",
        "  axs[k].set_title(class_name[train_labels[i]], fontsize = 15)\n",
        "\n",
        "plt.show()"
      ],
      "metadata": {
        "colab": {
          "base_uri": "https://localhost:8080/",
          "height": 193
        },
        "id": "QEQffAj3h-4U",
        "outputId": "abcbc10e-68d4-401f-ca54-1202452e06fe"
      },
      "execution_count": 7,
      "outputs": [
        {
          "output_type": "display_data",
          "data": {
            "text/plain": [
              "<Figure size 1080x1800 with 5 Axes>"
            ],
            "image/png": "[encoded data removed]"
          },
          "metadata": {
            "needs_background": "light"
          }
        }
      ]
    },
    {
      "cell_type": "code",
      "source": [
        "fig, axs = plt.subplots(1, 5, figsize = (15, 25))\n",
        "\n",
        "rand_ids = [random.randint(0, 10000) for i in range(5)]\n",
        "\n",
        "for k, i in zip(range(0,5), rand_ids):\n",
        "  axs[k].imshow(test_imgs[i])\n",
        "  axs[k].axis('off')\n",
        "  axs[k].set_title(class_name[test_labels[i]], fontsize = 15)\n",
        "\n",
        "plt.show()"
      ],
      "metadata": {
        "colab": {
          "base_uri": "https://localhost:8080/",
          "height": 193
        },
        "id": "C5BVs5a6oA1K",
        "outputId": "ffb36987-5cc9-4f5c-df66-29a421e5918b"
      },
      "execution_count": 8,
      "outputs": [
        {
          "output_type": "display_data",
          "data": {
            "text/plain": [
              "<Figure size 1080x1800 with 5 Axes>"
            ],
            "image/png": "[encoded data removed]"
          },
          "metadata": {
            "needs_background": "light"
          }
        }
      ]
    },
    {
      "cell_type": "markdown",
      "source": [
        "# Funções de Ativação"
      ],
      "metadata": {
        "id": "x6i_D4pJ3ZvQ"
      }
    },
    {
      "cell_type": "markdown",
      "source": [
        "![teste](https://miro.medium.com/max/720/1*ZafDv3VUm60Eh10OeJu1vw.webp)"
      ],
      "metadata": {
        "id": "YPwRR9zC3cn7"
      }
    },
    {
      "cell_type": "markdown",
      "source": [
        "## ReLu"
      ],
      "metadata": {
        "id": "kpfLItuRFk4y"
      }
    },
    {
      "cell_type": "markdown",
      "source": [
        "* Todos os número negativos se tornam 0.\n",
        "* A ReLu tem a possibilidade de desligar alguns neurônios.\n",
        "* $a = z^+ = max(0, z)$\n",
        "* É não-linear, essencial para separar mais de duas características em uma única função."
      ],
      "metadata": {
        "id": "G86wIQTp2pWz"
      }
    },
    {
      "cell_type": "markdown",
      "source": [
        "## SoftMax"
      ],
      "metadata": {
        "id": "wMeL3Eaq8c82"
      }
    },
    {
      "cell_type": "markdown",
      "source": [
        "* Usada da última camada.\n",
        "* Atribui probabilidades de cada categoria estar correta.\n",
        "\n",
        "* ### $a_j^{(L-1)} = \\frac{exp(z_j^{(L-1)})}{∑_i exp(z_i^{(L-1)})}$\n",
        "\n",
        "  * (L-1) ⟶ camada anterior.\n",
        "  * a > 0, por do exponencial.\n",
        "  * O somatório de todas as probabilidades é 1, 100%."
      ],
      "metadata": {
        "id": "Tr9AYGhu8fHq"
      }
    },
    {
      "cell_type": "markdown",
      "source": [
        "# Construção do Modelo"
      ],
      "metadata": {
        "id": "MXkjs39bt9Y6"
      }
    },
    {
      "cell_type": "markdown",
      "source": [
        "* Modelo >> entrada > processamento > saída\n",
        "\n",
        "* Na primeira camada, Camada 0, a imagem será \"achatada\" para um array de pixels de uma única dimensão.\n",
        "\n",
        "* Na Camda 1, é feita a comunicação com a camada de entrada. Neste caso, será uma camada densa, totalmente conectada com a anterior.\n",
        "  * No primneiro parâmetro, são definidos quantos neurônios estarão nesta camada.É interessante utilizar múltiplos de 2 por questão de processamento.\n",
        "  * Deve ser definida também a função de ativação, que neste caso será a ReLu (https://www.tensorflow.org/api_docs/python/tf/nn/relu).\n",
        "\n",
        "* Na Camada 2, de saída, terá o número de classificações do dataset e totalmente conectada."
      ],
      "metadata": {
        "id": "DNoevCgls4XF"
      }
    },
    {
      "cell_type": "code",
      "source": [
        "model = keras.Sequential([\n",
        "    keras.layers.Flatten(input_shape = (28, 28)),               # camada 0, entrada\n",
        "    keras.layers.Dense(256, activation = tensorflow.nn.relu),   # camada 1, escondida\n",
        "    keras.layers.Dense(10, activation = tensorflow.nn.softmax)  # camada 2, saída\n",
        "])"
      ],
      "metadata": {
        "id": "4evqRO02q0O1"
      },
      "execution_count": 9,
      "outputs": []
    },
    {
      "cell_type": "code",
      "source": [
        "model.compile(optimizer = 'adam', loss = 'sparse_categorical_crossentropy')"
      ],
      "metadata": {
        "id": "Ce1sXSNeAtot"
      },
      "execution_count": 10,
      "outputs": []
    },
    {
      "cell_type": "markdown",
      "source": [
        "* O batch_size padrão é 32, por isso a quantidade que aparece no log não é o tamanho completo do dataset, mas sim esse valor dividido por 32. Todo o dataset é usado no treinamento, mas em grupos menores."
      ],
      "metadata": {
        "id": "kEH0s5Zd5X7T"
      }
    },
    {
      "cell_type": "code",
      "source": [
        "model.fit(train_imgs, train_labels)"
      ],
      "metadata": {
        "colab": {
          "base_uri": "https://localhost:8080/"
        },
        "id": "AUV0IJkmkHOo",
        "outputId": "936c1f9f-0efa-4c5c-fe81-82e72ba7e2fa"
      },
      "execution_count": 11,
      "outputs": [
        {
          "output_type": "stream",
          "name": "stdout",
          "text": [
            "1875/1875 [==============================] - 11s 5ms/step - loss: 3.7775\n"
          ]
        },
        {
          "output_type": "execute_result",
          "data": {
            "text/plain": [
              "<keras.callbacks.History at 0x7fb516e8fa90>"
            ]
          },
          "metadata": {},
          "execution_count": 11
        }
      ]
    },
    {
      "cell_type": "markdown",
      "source": [
        "* O ideal é que a perda esteja o mais próximo de 0 possível."
      ],
      "metadata": {
        "id": "AbkLuh6Fl1_F"
      }
    },
    {
      "cell_type": "markdown",
      "source": [
        "# Redução de perda: Normalização"
      ],
      "metadata": {
        "id": "LAXGB7nrl8XD"
      }
    },
    {
      "cell_type": "markdown",
      "source": [
        "* Os pixels variam em um intervalo contínuo de 0 a 255."
      ],
      "metadata": {
        "id": "8xJZypXXnQLI"
      }
    },
    {
      "cell_type": "code",
      "source": [
        "plt.imshow(train_imgs[0])\n",
        "plt.colorbar()"
      ],
      "metadata": {
        "colab": {
          "base_uri": "https://localhost:8080/",
          "height": 282
        },
        "id": "cu-sPh4LkOjA",
        "outputId": "f5fc00ba-d62e-4f95-df9e-d3aeb995ac98"
      },
      "execution_count": 12,
      "outputs": [
        {
          "output_type": "execute_result",
          "data": {
            "text/plain": [
              "<matplotlib.colorbar.Colorbar at 0x7fb4ae3365e0>"
            ]
          },
          "metadata": {},
          "execution_count": 12
        },
        {
          "output_type": "display_data",
          "data": {
            "text/plain": [
              "<Figure size 432x288 with 2 Axes>"
            ],
            "image/png": "[encoded data removed]"
          },
          "metadata": {
            "needs_background": "light"
          }
        }
      ]
    },
    {
      "cell_type": "markdown",
      "source": [
        "* O valores serão normalizados para um intervalo de 0 a 1."
      ],
      "metadata": {
        "id": "n7kWDXetnr_6"
      }
    },
    {
      "cell_type": "code",
      "source": [
        "train_imgs = train_imgs/255.0\n",
        "\n",
        "plt.imshow(train_imgs[0])\n",
        "plt.colorbar()"
      ],
      "metadata": {
        "colab": {
          "base_uri": "https://localhost:8080/",
          "height": 286
        },
        "id": "avhPutbVmf05",
        "outputId": "5e906f8b-4cd9-492e-9792-78f23ad03492"
      },
      "execution_count": 13,
      "outputs": [
        {
          "output_type": "execute_result",
          "data": {
            "text/plain": [
              "<matplotlib.colorbar.Colorbar at 0x7fb4ae268df0>"
            ]
          },
          "metadata": {},
          "execution_count": 13
        },
        {
          "output_type": "display_data",
          "data": {
            "text/plain": [
              "<Figure size 432x288 with 2 Axes>"
            ],
            "image/png": "[encoded data removed]"
          },
          "metadata": {
            "needs_background": "light"
          }
        }
      ]
    },
    {
      "cell_type": "markdown",
      "source": [
        "# 2º Modelo: Valores normalizados [0, 1]"
      ],
      "metadata": {
        "id": "ogMr2Dlin9MM"
      }
    },
    {
      "cell_type": "code",
      "source": [
        "model = keras.Sequential([\n",
        "    keras.layers.Flatten(input_shape = (28, 28)),\n",
        "    keras.layers.Dense(256, activation = tensorflow.nn.relu),\n",
        "    keras.layers.Dense(10, activation = tensorflow.nn.softmax)\n",
        "])\n",
        "\n",
        "model.compile(optimizer = 'adam', loss = 'sparse_categorical_crossentropy')\n",
        "model.fit(train_imgs, train_labels)"
      ],
      "metadata": {
        "colab": {
          "base_uri": "https://localhost:8080/"
        },
        "id": "PQYmISkdn2fA",
        "outputId": "32ed07a5-11f3-4027-a51e-5963a297883a"
      },
      "execution_count": 14,
      "outputs": [
        {
          "output_type": "stream",
          "name": "stdout",
          "text": [
            "1875/1875 [==============================] - 6s 3ms/step - loss: 0.4836\n"
          ]
        },
        {
          "output_type": "execute_result",
          "data": {
            "text/plain": [
              "<keras.callbacks.History at 0x7fb4ae1caee0>"
            ]
          },
          "metadata": {},
          "execution_count": 14
        }
      ]
    },
    {
      "cell_type": "markdown",
      "source": [
        "* Na execução desta observação, a perda foi reduzida de 4.4171 para 0.4825.\n",
        "\n",
        "* Reduzir a amplitude numérica que a rede precisou processar ajudou muito a evitar perda de informação.\n",
        "\n",
        "* As gradações das imagens se mantiveram, a roupa usada como exemplo anteriormente continuou sendo visualmente identificável, e ainda houve melhoria no modelo."
      ],
      "metadata": {
        "id": "f2Kvve-JoQNQ"
      }
    },
    {
      "cell_type": "markdown",
      "source": [
        "# Redução de perda: Reestruturação das camadas escondidas"
      ],
      "metadata": {
        "id": "KB0oEbDhrSVC"
      }
    },
    {
      "cell_type": "markdown",
      "source": [
        "* Da segunda camada para a camada de saída há conexões de 256 para 10. \n",
        "\n",
        "* A ideia do próximo passo é afunilar estas conexões criando uma camada internediária e verificar se a perda é reduzida."
      ],
      "metadata": {
        "id": "5Y0l_JkNrnwA"
      }
    },
    {
      "cell_type": "markdown",
      "source": [
        "## Segunda camada escondida: 128 neurônios"
      ],
      "metadata": {
        "id": "NXWI5KWptrcA"
      }
    },
    {
      "cell_type": "code",
      "source": [
        "model = keras.Sequential([\n",
        "    keras.layers.Flatten(input_shape = (28, 28)),               # camada de entrada\n",
        "    keras.layers.Dense(256, activation = tensorflow.nn.relu),   # primeira camada escondida\n",
        "    keras.layers.Dense(128, activation = tensorflow.nn.relu),   # nova camda escondida, segunda camada\n",
        "    keras.layers.Dense(10, activation = tensorflow.nn.softmax)  # camada de saída\n",
        "])\n",
        "\n",
        "model.compile(optimizer = 'adam', loss = 'sparse_categorical_crossentropy')\n",
        "model.fit(train_imgs, train_labels)"
      ],
      "metadata": {
        "colab": {
          "base_uri": "https://localhost:8080/"
        },
        "id": "3ZxiJjOSoL3v",
        "outputId": "9dee2ecd-6a3f-4cb0-d022-607720ce5b53"
      },
      "execution_count": 15,
      "outputs": [
        {
          "output_type": "stream",
          "name": "stdout",
          "text": [
            "1875/1875 [==============================] - 6s 3ms/step - loss: 0.4815\n"
          ]
        },
        {
          "output_type": "execute_result",
          "data": {
            "text/plain": [
              "<keras.callbacks.History at 0x7fb4ae213460>"
            ]
          },
          "metadata": {},
          "execution_count": 15
        }
      ]
    },
    {
      "cell_type": "markdown",
      "source": [
        "* Na execução desta observação, a perda foi reduzida de 0.4825 para 0.4777."
      ],
      "metadata": {
        "id": "fvfKoXXJs9q-"
      }
    },
    {
      "cell_type": "markdown",
      "source": [
        "## Terceira camada escondida: 64 neurônios"
      ],
      "metadata": {
        "id": "QxZomCPXuDi_"
      }
    },
    {
      "cell_type": "code",
      "source": [
        "model = keras.Sequential([\n",
        "    keras.layers.Flatten(input_shape = (28, 28)),\n",
        "    keras.layers.Dense(256, activation = tensorflow.nn.relu),\n",
        "    keras.layers.Dense(128, activation = tensorflow.nn.relu),\n",
        "    keras.layers.Dense(64, activation = tensorflow.nn.relu),    # terceira camada escondida\n",
        "    keras.layers.Dense(10, activation = tensorflow.nn.softmax)\n",
        "])\n",
        "\n",
        "model.compile(optimizer = 'adam', loss = 'sparse_categorical_crossentropy')\n",
        "model.fit(train_imgs, train_labels)"
      ],
      "metadata": {
        "colab": {
          "base_uri": "https://localhost:8080/"
        },
        "id": "9OuP-fLfs2QZ",
        "outputId": "a22789d1-a2bc-4d44-a5d9-0900510bac5b"
      },
      "execution_count": 16,
      "outputs": [
        {
          "output_type": "stream",
          "name": "stdout",
          "text": [
            "1875/1875 [==============================] - 7s 3ms/step - loss: 0.4829\n"
          ]
        },
        {
          "output_type": "execute_result",
          "data": {
            "text/plain": [
              "<keras.callbacks.History at 0x7fb4ae0b4730>"
            ]
          },
          "metadata": {},
          "execution_count": 16
        }
      ]
    },
    {
      "cell_type": "markdown",
      "source": [
        "* Na execução desta observação, a perda foi incrementada de 0.4777 para 0.4854.\n",
        "\n",
        "* Neste caso de estudo, o aumento do tempo de execução foi irrelevante.\n",
        "\n",
        "* Aumentar a quantidade de camadas escondidas, tornando a rede mais profunda, nem sempre trará benefícios para o modelo, além de poder aumentar significativamente o tempo de execução em modelos de aplicação real.\n",
        "\n",
        "* Tanto a quantidade de neurônios quanto as funções de ativação precisarão de uma exploração, um processo mais subjetivo do que exato."
      ],
      "metadata": {
        "id": "j-qdcj-1ugzO"
      }
    },
    {
      "cell_type": "markdown",
      "source": [
        "# 3º Modelo: Normalização e 2 camadas escondidas"
      ],
      "metadata": {
        "id": "Y_nZrS7F7Kpj"
      }
    },
    {
      "cell_type": "code",
      "source": [
        "model = keras.Sequential([\n",
        "    keras.layers.Flatten(input_shape = (28, 28)),\n",
        "    keras.layers.Dense(256, activation = tensorflow.nn.relu),\n",
        "    keras.layers.Dense(128, activation = tensorflow.nn.relu),\n",
        "    keras.layers.Dense(10, activation = tensorflow.nn.softmax)\n",
        "])\n",
        "\n",
        "model.compile(optimizer = 'adam', loss = 'sparse_categorical_crossentropy')\n",
        "model.fit(train_imgs, train_labels)"
      ],
      "metadata": {
        "colab": {
          "base_uri": "https://localhost:8080/"
        },
        "id": "_tZsVIVvuTr2",
        "outputId": "e0d60fc0-08cf-4d1d-8692-05021b800a6f"
      },
      "execution_count": 17,
      "outputs": [
        {
          "output_type": "stream",
          "name": "stdout",
          "text": [
            "1875/1875 [==============================] - 7s 3ms/step - loss: 0.4765\n"
          ]
        },
        {
          "output_type": "execute_result",
          "data": {
            "text/plain": [
              "<keras.callbacks.History at 0x7fb4ae06faf0>"
            ]
          },
          "metadata": {},
          "execution_count": 17
        }
      ]
    },
    {
      "cell_type": "markdown",
      "source": [
        "# Redução de perda: Quantidade de épocas"
      ],
      "metadata": {
        "id": "Cff92Zdx8SG0"
      }
    },
    {
      "cell_type": "markdown",
      "source": [
        "* Épocas são os contatos que o modelo tem com o dataset no processo de aprendizagem, em que os ajustes de pesos das conexões são feitas entre os neurônios.\n",
        "\n",
        "* A seguir, as quantidades de épocas serão alteradas para análise da sua influência na perda.\n",
        "\n",
        "* O tempo de execução terá um aumento linear, diretamente proporcional à execução com somento uma época."
      ],
      "metadata": {
        "id": "yBxX1Foa8jGj"
      }
    },
    {
      "cell_type": "code",
      "source": [
        "model = keras.Sequential([\n",
        "    keras.layers.Flatten(input_shape = (28, 28)),\n",
        "    keras.layers.Dense(256, activation = tensorflow.nn.relu),\n",
        "    keras.layers.Dense(128, activation = tensorflow.nn.relu),\n",
        "    keras.layers.Dense(10, activation = tensorflow.nn.softmax)\n",
        "])\n",
        "\n",
        "model.compile(optimizer = 'adam', loss = 'sparse_categorical_crossentropy')\n",
        "model.fit(train_imgs, train_labels, epochs = 5)"
      ],
      "metadata": {
        "colab": {
          "base_uri": "https://localhost:8080/"
        },
        "id": "_H_wQ2tw7UN6",
        "outputId": "bd65b5a7-8015-4385-c6ca-a37f717e1b0e"
      },
      "execution_count": 18,
      "outputs": [
        {
          "output_type": "stream",
          "name": "stdout",
          "text": [
            "Epoch 1/5\n",
            "1875/1875 [==============================] - 6s 3ms/step - loss: 0.4717\n",
            "Epoch 2/5\n",
            "1875/1875 [==============================] - 6s 3ms/step - loss: 0.3589\n",
            "Epoch 3/5\n",
            "1875/1875 [==============================] - 6s 3ms/step - loss: 0.3227\n",
            "Epoch 4/5\n",
            "1875/1875 [==============================] - 6s 3ms/step - loss: 0.3003\n",
            "Epoch 5/5\n",
            "1875/1875 [==============================] - 6s 3ms/step - loss: 0.2835\n"
          ]
        },
        {
          "output_type": "execute_result",
          "data": {
            "text/plain": [
              "<keras.callbacks.History at 0x7fb4ae2fcd30>"
            ]
          },
          "metadata": {},
          "execution_count": 18
        }
      ]
    },
    {
      "cell_type": "markdown",
      "source": [
        "* A perda foi diminindo gradativamente, mas mesmo neste dataset de estudo o aumento de tempo já foi perceptível."
      ],
      "metadata": {
        "id": "UiUbvKtz9dQY"
      }
    },
    {
      "cell_type": "markdown",
      "source": [
        "# 4º Modelo: Normalização, 2 camadas escondidas, 5 épocas"
      ],
      "metadata": {
        "id": "gjPKmJKC_Xze"
      }
    },
    {
      "cell_type": "code",
      "source": [
        "model = keras.Sequential([\n",
        "    keras.layers.Flatten(input_shape = (28, 28)),\n",
        "    keras.layers.Dense(256, activation = tensorflow.nn.relu),\n",
        "    keras.layers.Dense(128, activation = tensorflow.nn.relu),\n",
        "    keras.layers.Dense(10, activation = tensorflow.nn.softmax)\n",
        "])\n",
        "\n",
        "model.compile(optimizer = 'adam', loss = 'sparse_categorical_crossentropy', metrics = ['accuracy'])\n",
        "model.fit(train_imgs, train_labels, epochs = 5)"
      ],
      "metadata": {
        "colab": {
          "base_uri": "https://localhost:8080/"
        },
        "id": "GxdKPzSu_i1t",
        "outputId": "309b8194-b17f-4582-fa16-c04c4545f121"
      },
      "execution_count": 19,
      "outputs": [
        {
          "output_type": "stream",
          "name": "stdout",
          "text": [
            "Epoch 1/5\n",
            "1875/1875 [==============================] - 7s 3ms/step - loss: 0.4747 - accuracy: 0.8294\n",
            "Epoch 2/5\n",
            "1875/1875 [==============================] - 6s 3ms/step - loss: 0.3611 - accuracy: 0.8666\n",
            "Epoch 3/5\n",
            "1875/1875 [==============================] - 6s 3ms/step - loss: 0.3247 - accuracy: 0.8798\n",
            "Epoch 4/5\n",
            "1875/1875 [==============================] - 6s 3ms/step - loss: 0.3020 - accuracy: 0.8875\n",
            "Epoch 5/5\n",
            "1875/1875 [==============================] - 6s 3ms/step - loss: 0.2842 - accuracy: 0.8937\n"
          ]
        },
        {
          "output_type": "execute_result",
          "data": {
            "text/plain": [
              "<keras.callbacks.History at 0x7fb4ade77df0>"
            ]
          },
          "metadata": {},
          "execution_count": 19
        }
      ]
    },
    {
      "cell_type": "markdown",
      "source": [
        "# Métrica de avaliação: Acurácia"
      ],
      "metadata": {
        "id": "L4cm0OXl-Aqn"
      }
    },
    {
      "cell_type": "markdown",
      "source": [
        "* A acurácia irá medir o quanto o modelo está acertando.\n",
        "\n",
        "* O ideal é que, à medida que o modelo é reestruturado, a perda diminua e a acurácia aumente."
      ],
      "metadata": {
        "id": "FVIoUHSh-j4m"
      }
    },
    {
      "cell_type": "code",
      "source": [
        "model = keras.Sequential([\n",
        "    keras.layers.Flatten(input_shape = (28, 28)),\n",
        "    keras.layers.Dense(256, activation = tensorflow.nn.relu),\n",
        "    keras.layers.Dense(128, activation = tensorflow.nn.relu),\n",
        "    keras.layers.Dense(10, activation = tensorflow.nn.softmax)\n",
        "])\n",
        "\n",
        "model.compile(optimizer = 'adam', loss = 'sparse_categorical_crossentropy', metrics = ['accuracy'])\n",
        "model.fit(train_imgs, train_labels, epochs = 5)"
      ],
      "metadata": {
        "colab": {
          "base_uri": "https://localhost:8080/"
        },
        "id": "yWmQATyR9Nvh",
        "outputId": "53f52791-3bde-4bab-e5a4-9bffdc27941d"
      },
      "execution_count": 20,
      "outputs": [
        {
          "output_type": "stream",
          "name": "stdout",
          "text": [
            "Epoch 1/5\n",
            "1875/1875 [==============================] - 7s 3ms/step - loss: 0.4762 - accuracy: 0.8296\n",
            "Epoch 2/5\n",
            "1875/1875 [==============================] - 6s 3ms/step - loss: 0.3614 - accuracy: 0.8666\n",
            "Epoch 3/5\n",
            "1875/1875 [==============================] - 6s 3ms/step - loss: 0.3274 - accuracy: 0.8786\n",
            "Epoch 4/5\n",
            "1875/1875 [==============================] - 6s 3ms/step - loss: 0.3010 - accuracy: 0.8881\n",
            "Epoch 5/5\n",
            "1875/1875 [==============================] - 6s 3ms/step - loss: 0.2826 - accuracy: 0.8942\n"
          ]
        },
        {
          "output_type": "execute_result",
          "data": {
            "text/plain": [
              "<keras.callbacks.History at 0x7fb4add614c0>"
            ]
          },
          "metadata": {},
          "execution_count": 20
        }
      ]
    },
    {
      "cell_type": "markdown",
      "source": [
        "* A acurácia aumentou de acordo com a quantidade de épocas executadas."
      ],
      "metadata": {
        "id": "-IWxtDXN-Zux"
      }
    },
    {
      "cell_type": "markdown",
      "source": [
        "# Testes do Modelo"
      ],
      "metadata": {
        "id": "pcG4UW3I_BJ5"
      }
    },
    {
      "cell_type": "markdown",
      "source": [
        "## Elemento a elemento"
      ],
      "metadata": {
        "id": "Q5U3Z9JkB0Z3"
      }
    },
    {
      "cell_type": "markdown",
      "source": [
        "* Sobre o modelo com as aletrações: imagens normalizadas, segunda camada escondida e 5 épocas."
      ],
      "metadata": {
        "id": "1X9ncUVz_FvL"
      }
    },
    {
      "cell_type": "code",
      "source": [
        "testes = model.predict(test_imgs)"
      ],
      "metadata": {
        "colab": {
          "base_uri": "https://localhost:8080/"
        },
        "id": "U5c0_ZWz-LHr",
        "outputId": "20548472-1f82-4a38-e56f-5f9c9f2fe7d2"
      },
      "execution_count": 21,
      "outputs": [
        {
          "output_type": "stream",
          "name": "stdout",
          "text": [
            "313/313 [==============================] - 1s 2ms/step\n"
          ]
        }
      ]
    },
    {
      "cell_type": "code",
      "source": [
        "testes[0]"
      ],
      "metadata": {
        "colab": {
          "base_uri": "https://localhost:8080/"
        },
        "id": "oBjlOQEE_45J",
        "outputId": "4c6a0aa6-e628-46b9-850c-37673b474f13"
      },
      "execution_count": 22,
      "outputs": [
        {
          "output_type": "execute_result",
          "data": {
            "text/plain": [
              "array([0.        , 0.        , 0.        , 0.        , 0.        ,\n",
              "       0.        , 0.        , 0.        , 0.        , 0.99999994],\n",
              "      dtype=float32)"
            ]
          },
          "metadata": {},
          "execution_count": 22
        }
      ]
    },
    {
      "cell_type": "code",
      "source": [
        "np.argmax(testes[0])"
      ],
      "metadata": {
        "colab": {
          "base_uri": "https://localhost:8080/"
        },
        "id": "BCvF6AVVBPVn",
        "outputId": "764eb8ec-6d2d-4e7e-803c-8d25a9af614c"
      },
      "execution_count": 23,
      "outputs": [
        {
          "output_type": "execute_result",
          "data": {
            "text/plain": [
              "9"
            ]
          },
          "metadata": {},
          "execution_count": 23
        }
      ]
    },
    {
      "cell_type": "markdown",
      "source": [
        "* A Softmax, usada na camada de saída, retorna a probabilidade de uma entrada pertencer a cada categoria.\n",
        "\n",
        "* No primeiro item do dataset, demonstrado acima, foi calculada uma probabilidade de quase 100% da imagem representar um item da última classe."
      ],
      "metadata": {
        "id": "9UhG_FONAs-U"
      }
    },
    {
      "cell_type": "code",
      "source": [
        "print(f'Resultado do teste: {np.argmax(testes[0])}')\n",
        "print(f'Número da imagem de teste: {test_labels[0]}')"
      ],
      "metadata": {
        "colab": {
          "base_uri": "https://localhost:8080/"
        },
        "id": "iYC__khnAfko",
        "outputId": "67acfca4-bb59-44f4-8103-e44aa9e52681"
      },
      "execution_count": 24,
      "outputs": [
        {
          "output_type": "stream",
          "name": "stdout",
          "text": [
            "Resultado do teste: 9\n",
            "Número da imagem de teste: 9\n"
          ]
        }
      ]
    },
    {
      "cell_type": "markdown",
      "source": [
        "## Evaluate"
      ],
      "metadata": {
        "id": "yHqLVwtACSpm"
      }
    },
    {
      "cell_type": "markdown",
      "source": [
        "* 1º Resultados: Perda do teste\n",
        "* 2º Resultado: Acurácia do teste"
      ],
      "metadata": {
        "id": "BFqngXweCjAE"
      }
    },
    {
      "cell_type": "code",
      "source": [
        "test_loss, test_accuracy = model.evaluate(test_imgs, test_labels)\n",
        "print(f'Perda: {test_loss}')\n",
        "print(f'Acuráci: {test_accuracy}')"
      ],
      "metadata": {
        "colab": {
          "base_uri": "https://localhost:8080/"
        },
        "id": "ZfCokf8qB7J3",
        "outputId": "3d309024-6909-4677-a827-8c862c24a2db"
      },
      "execution_count": 25,
      "outputs": [
        {
          "output_type": "stream",
          "name": "stdout",
          "text": [
            "313/313 [==============================] - 1s 2ms/step - loss: 48.8358 - accuracy: 0.8626\n",
            "Perda: 48.835750579833984\n",
            "Acuráci: 0.8626000285148621\n"
          ]
        }
      ]
    },
    {
      "cell_type": "code",
      "source": [
        "test_imgs_normalized = test_imgs/255\n",
        "\n",
        "test_loss, test_accuracy = model.evaluate(test_imgs_normalized, test_labels)\n",
        "print(f'Perda: {test_loss}')\n",
        "print(f'Acuráci: {test_accuracy}')"
      ],
      "metadata": {
        "colab": {
          "base_uri": "https://localhost:8080/"
        },
        "id": "p6bW07tJDoNg",
        "outputId": "f1559206-eb16-42d9-9bde-fbb1a71e9cd7"
      },
      "execution_count": 26,
      "outputs": [
        {
          "output_type": "stream",
          "name": "stdout",
          "text": [
            "313/313 [==============================] - 1s 2ms/step - loss: 0.3295 - accuracy: 0.8809\n",
            "Perda: 0.3295125365257263\n",
            "Acuráci: 0.8809000253677368\n"
          ]
        }
      ]
    },
    {
      "cell_type": "markdown",
      "source": [
        "## Conjunto de Validação"
      ],
      "metadata": {
        "id": "HBpLitjJJO9q"
      }
    },
    {
      "cell_type": "markdown",
      "source": [
        "* Com a definição do validation_split, o treinamento passa a separar um conjunto para validação do modelo.\n",
        "\n",
        "* Os valores de perda e acurácia da validação são retornados junto com os do treino."
      ],
      "metadata": {
        "id": "__psUsIrzIly"
      }
    },
    {
      "cell_type": "code",
      "source": [
        "model = keras.Sequential([\n",
        "    keras.layers.Flatten(input_shape = (28, 28)),\n",
        "    keras.layers.Dense(256, activation = tensorflow.nn.relu),\n",
        "    keras.layers.Dense(128, activation = tensorflow.nn.relu),\n",
        "    keras.layers.Dense(10, activation = tensorflow.nn.softmax)\n",
        "])\n",
        "\n",
        "model.compile(optimizer = 'adam', loss = 'sparse_categorical_crossentropy', metrics = ['accuracy'])\n",
        "historico = model.fit(train_imgs, train_labels, epochs = 5, validation_split = 0.2)"
      ],
      "metadata": {
        "colab": {
          "base_uri": "https://localhost:8080/"
        },
        "id": "j633JUJKF88H",
        "outputId": "4c364e2d-bdf8-4bdd-ec13-e1715f690208"
      },
      "execution_count": 29,
      "outputs": [
        {
          "output_type": "stream",
          "name": "stdout",
          "text": [
            "Epoch 1/5\n",
            "1500/1500 [==============================] - 8s 5ms/step - loss: 0.4918 - accuracy: 0.8236 - val_loss: 0.4152 - val_accuracy: 0.8528\n",
            "Epoch 2/5\n",
            "1500/1500 [==============================] - 6s 4ms/step - loss: 0.3730 - accuracy: 0.8630 - val_loss: 0.3589 - val_accuracy: 0.8694\n",
            "Epoch 3/5\n",
            "1500/1500 [==============================] - 9s 6ms/step - loss: 0.3321 - accuracy: 0.8774 - val_loss: 0.3500 - val_accuracy: 0.8725\n",
            "Epoch 4/5\n",
            "1500/1500 [==============================] - 11s 7ms/step - loss: 0.3059 - accuracy: 0.8866 - val_loss: 0.3257 - val_accuracy: 0.8828\n",
            "Epoch 5/5\n",
            "1500/1500 [==============================] - 6s 4ms/step - loss: 0.2868 - accuracy: 0.8934 - val_loss: 0.3298 - val_accuracy: 0.8813\n"
          ]
        }
      ]
    },
    {
      "cell_type": "markdown",
      "source": [
        "# Gráficos de Acurácia e Perda"
      ],
      "metadata": {
        "id": "b46eEYGb0EyL"
      }
    },
    {
      "cell_type": "markdown",
      "source": [
        "## Análise de 5 épocas"
      ],
      "metadata": {
        "id": "h1qdBZZBCLQ2"
      }
    },
    {
      "cell_type": "code",
      "source": [
        "historico.history"
      ],
      "metadata": {
        "colab": {
          "base_uri": "https://localhost:8080/"
        },
        "id": "AZxtUmHeJeYO",
        "outputId": "dda20ec5-7090-49b5-e7d5-4d27a2ad023a"
      },
      "execution_count": 30,
      "outputs": [
        {
          "output_type": "execute_result",
          "data": {
            "text/plain": [
              "{'loss': [0.49182069301605225,\n",
              "  0.37302324175834656,\n",
              "  0.3320867419242859,\n",
              "  0.3059147894382477,\n",
              "  0.2867877781391144],\n",
              " 'accuracy': [0.823645830154419,\n",
              "  0.8630208373069763,\n",
              "  0.8774166703224182,\n",
              "  0.8866458535194397,\n",
              "  0.8933541774749756],\n",
              " 'val_loss': [0.41522741317749023,\n",
              "  0.35887056589126587,\n",
              "  0.3500000536441803,\n",
              "  0.32574403285980225,\n",
              "  0.3298417627811432],\n",
              " 'val_accuracy': [0.8527500033378601,\n",
              "  0.8694166541099548,\n",
              "  0.8725000023841858,\n",
              "  0.8828333616256714,\n",
              "  0.8813333511352539]}"
            ]
          },
          "metadata": {},
          "execution_count": 30
        }
      ]
    },
    {
      "cell_type": "code",
      "source": [
        "plt.plot(historico.history['accuracy'])\n",
        "plt.plot(historico.history['val_accuracy'])\n",
        "\n",
        "plt.title('Acurácia por épocas', fontsize = 15)\n",
        "plt.xlabel('épocas')\n",
        "plt.ylabel('acurácia')\n",
        "plt.legend(['treino', 'validação'])\n",
        "plt.show()"
      ],
      "metadata": {
        "colab": {
          "base_uri": "https://localhost:8080/",
          "height": 299
        },
        "id": "aDXWPxg80qo_",
        "outputId": "e991723f-bcdf-42f0-822b-1737e89b20c8"
      },
      "execution_count": 42,
      "outputs": [
        {
          "output_type": "display_data",
          "data": {
            "text/plain": [
              "<Figure size 432x288 with 1 Axes>"
            ],
            "image/png": "[encoded data removed]"
          },
          "metadata": {
            "needs_background": "light"
          }
        }
      ]
    },
    {
      "cell_type": "markdown",
      "source": [
        "* A acurácia aumentou no decorrer das 5 épocas. Portanto, seguiu como desejado."
      ],
      "metadata": {
        "id": "GzV_C2Qn2m9i"
      }
    },
    {
      "cell_type": "code",
      "source": [
        "plt.plot(historico.history['loss'])\n",
        "plt.plot(historico.history['val_loss'])\n",
        "\n",
        "plt.title('Perda por épocas', fontsize = 15)\n",
        "plt.xlabel('épocas')\n",
        "plt.ylabel('perda')\n",
        "plt.legend(['treino', 'validação'])\n",
        "plt.show()"
      ],
      "metadata": {
        "colab": {
          "base_uri": "https://localhost:8080/",
          "height": 299
        },
        "id": "D2S0TJ0h2B8G",
        "outputId": "213520a2-5309-4fdb-8a9e-b1c9e06bc5fb"
      },
      "execution_count": 43,
      "outputs": [
        {
          "output_type": "display_data",
          "data": {
            "text/plain": [
              "<Figure size 432x288 with 1 Axes>"
            ],
            "image/png": "[encoded data removed]"
          },
          "metadata": {
            "needs_background": "light"
          }
        }
      ]
    },
    {
      "cell_type": "markdown",
      "source": [
        "* A perda diminuiu no decorrer das 5 épocas. Também seguiu como desejado."
      ],
      "metadata": {
        "id": "7fDGJ9B02_pc"
      }
    },
    {
      "cell_type": "markdown",
      "source": [
        "## Análise de 10 épocas"
      ],
      "metadata": {
        "id": "1NpxP2A533C1"
      }
    },
    {
      "cell_type": "code",
      "source": [
        "model = keras.Sequential([\n",
        "    keras.layers.Flatten(input_shape = (28, 28)),\n",
        "    keras.layers.Dense(256, activation = tensorflow.nn.relu),\n",
        "    keras.layers.Dense(128, activation = tensorflow.nn.relu),\n",
        "    keras.layers.Dense(10, activation = tensorflow.nn.softmax)\n",
        "])\n",
        "\n",
        "model.compile(optimizer = 'adam', loss = 'sparse_categorical_crossentropy', metrics = ['accuracy'])\n",
        "historico = model.fit(train_imgs, train_labels, epochs = 10, validation_split = 0.2)"
      ],
      "metadata": {
        "colab": {
          "base_uri": "https://localhost:8080/"
        },
        "id": "Cr6jYa0t2koN",
        "outputId": "abd0daab-542a-41ad-c18a-83f24ebc92a0"
      },
      "execution_count": 53,
      "outputs": [
        {
          "output_type": "stream",
          "name": "stdout",
          "text": [
            "Epoch 1/10\n",
            "1500/1500 [==============================] - 7s 4ms/step - loss: 0.4971 - accuracy: 0.8214 - val_loss: 0.3889 - val_accuracy: 0.8605\n",
            "Epoch 2/10\n",
            "1500/1500 [==============================] - 7s 5ms/step - loss: 0.3692 - accuracy: 0.8659 - val_loss: 0.3552 - val_accuracy: 0.8735\n",
            "Epoch 3/10\n",
            "1500/1500 [==============================] - 6s 4ms/step - loss: 0.3339 - accuracy: 0.8774 - val_loss: 0.3519 - val_accuracy: 0.8709\n",
            "Epoch 4/10\n",
            "1500/1500 [==============================] - 7s 5ms/step - loss: 0.3071 - accuracy: 0.8855 - val_loss: 0.3534 - val_accuracy: 0.8694\n",
            "Epoch 5/10\n",
            "1500/1500 [==============================] - 6s 4ms/step - loss: 0.2875 - accuracy: 0.8934 - val_loss: 0.3218 - val_accuracy: 0.8821\n",
            "Epoch 6/10\n",
            "1500/1500 [==============================] - 7s 5ms/step - loss: 0.2732 - accuracy: 0.8977 - val_loss: 0.3184 - val_accuracy: 0.8829\n",
            "Epoch 7/10\n",
            "1500/1500 [==============================] - 7s 5ms/step - loss: 0.2610 - accuracy: 0.9020 - val_loss: 0.3206 - val_accuracy: 0.8855\n",
            "Epoch 8/10\n",
            "1500/1500 [==============================] - 7s 5ms/step - loss: 0.2486 - accuracy: 0.9062 - val_loss: 0.3325 - val_accuracy: 0.8788\n",
            "Epoch 9/10\n",
            "1500/1500 [==============================] - 7s 5ms/step - loss: 0.2381 - accuracy: 0.9101 - val_loss: 0.3198 - val_accuracy: 0.8857\n",
            "Epoch 10/10\n",
            "1500/1500 [==============================] - 6s 4ms/step - loss: 0.2270 - accuracy: 0.9124 - val_loss: 0.3199 - val_accuracy: 0.8882\n"
          ]
        }
      ]
    },
    {
      "cell_type": "markdown",
      "source": [
        "### Acurácia"
      ],
      "metadata": {
        "id": "iGpmeZHt-0Ri"
      }
    },
    {
      "cell_type": "code",
      "source": [
        "plt.plot(historico.history['accuracy'])\n",
        "plt.plot(historico.history['val_accuracy'])\n",
        "\n",
        "plt.title('Acurácia por épocas', fontsize = 15)\n",
        "plt.xlabel('épocas')\n",
        "plt.ylabel('acurácia')\n",
        "plt.legend(['treino', 'validação'])\n",
        "plt.show()"
      ],
      "metadata": {
        "colab": {
          "base_uri": "https://localhost:8080/",
          "height": 299
        },
        "id": "keJSe5G_4IIw",
        "outputId": "b925004e-8101-4733-da69-64eea9c25273"
      },
      "execution_count": 54,
      "outputs": [
        {
          "output_type": "display_data",
          "data": {
            "text/plain": [
              "<Figure size 432x288 with 1 Axes>"
            ],
            "image/png": "[encoded data removed]"
          },
          "metadata": {
            "needs_background": "light"
          }
        }
      ]
    },
    {
      "cell_type": "markdown",
      "source": [
        "* A Acurácia do treino sobe de forma consistente, mas a de validação não só não consegue aumentar o suficiente para acompanhá-la como oscila no decorrer das épocas."
      ],
      "metadata": {
        "id": "lmlifLsX727b"
      }
    },
    {
      "cell_type": "markdown",
      "source": [
        "### Perda"
      ],
      "metadata": {
        "id": "eHi1KIy2CaMy"
      }
    },
    {
      "cell_type": "code",
      "source": [
        "plt.plot(historico.history['loss'])\n",
        "plt.plot(historico.history['val_loss'])\n",
        "\n",
        "plt.title('Perda por épocas', fontsize = 15)\n",
        "plt.xlabel('épocas')\n",
        "plt.ylabel('perda')\n",
        "plt.legend(['treino', 'validação'])\n",
        "plt.show()"
      ],
      "metadata": {
        "colab": {
          "base_uri": "https://localhost:8080/",
          "height": 299
        },
        "id": "zMBgCqj14re2",
        "outputId": "ce342b26-f2de-4f39-a3cd-89b84319b56c"
      },
      "execution_count": 55,
      "outputs": [
        {
          "output_type": "display_data",
          "data": {
            "text/plain": [
              "<Figure size 432x288 with 1 Axes>"
            ],
            "image/png": "[encoded data removed]"
          },
          "metadata": {
            "needs_background": "light"
          }
        }
      ]
    },
    {
      "cell_type": "markdown",
      "source": [
        "* Algo semelhante acontece com os valores de perda, a validação não consegue acompanhar o treino."
      ],
      "metadata": {
        "id": "KAkBeFf-8Lim"
      }
    },
    {
      "cell_type": "markdown",
      "source": [
        "* Os dois gráficos sugereme o modelo está sofrendo um Overfitting, ou seja, está tão especializado nos padrões das imagens de treinamento que não consegue interpretar novas imagens, do conjunto de validação.\n",
        "\n",
        "* Para evitar o oferfitting, pode-se manter a quantidade de épocas no intervalo em que os resultados estão mais estáveis. Onde a tendência da perda e da acurácia estão favoráveis no treino e os resultados na validação ainda estão próximos.\n",
        "\n",
        "* Neste caso, entre [4, 6]. Será mantido o 4º modelo."
      ],
      "metadata": {
        "id": "YuMBwbU28b7G"
      }
    },
    {
      "cell_type": "markdown",
      "source": [
        "# Mais alterações nas camadas escondidas"
      ],
      "metadata": {
        "id": "dMCEmhOBCxF0"
      }
    },
    {
      "cell_type": "markdown",
      "source": [
        "## Dropout"
      ],
      "metadata": {
        "id": "iOpB4WpSEHmk"
      }
    },
    {
      "cell_type": "markdown",
      "source": [
        "* Irá inativar algumas ligações entre duas camadas, como se os neurônios estivessem inativos. Recebe uma porcentagem de ligações que serão desligadas.\n",
        "\n",
        "* Pode ser considerado uma Normalização."
      ],
      "metadata": {
        "id": "cYLdMGQrFQnN"
      }
    },
    {
      "cell_type": "code",
      "source": [
        "model = keras.Sequential([\n",
        "    keras.layers.Flatten(input_shape = (28, 28)),\n",
        "    keras.layers.Dense(256, activation = tensorflow.nn.relu),\n",
        "    keras.layers.Dense(128, activation = tensorflow.nn.relu),\n",
        "    keras.layers.Dropout(0.2),  # nova camada escondida\n",
        "    keras.layers.Dense(10, activation = tensorflow.nn.softmax)\n",
        "])\n",
        "\n",
        "model.compile(optimizer = 'adam', loss = 'sparse_categorical_crossentropy', metrics = ['accuracy'])\n",
        "historico = model.fit(train_imgs, train_labels, epochs = 5, validation_split = 0.2)"
      ],
      "metadata": {
        "colab": {
          "base_uri": "https://localhost:8080/"
        },
        "id": "oTpcBx9FBDmD",
        "outputId": "02f36646-7dc3-4534-b0c0-57fcbf280888"
      },
      "execution_count": 60,
      "outputs": [
        {
          "output_type": "stream",
          "name": "stdout",
          "text": [
            "Epoch 1/5\n",
            "1500/1500 [==============================] - 7s 5ms/step - loss: 0.5192 - accuracy: 0.8145 - val_loss: 0.4135 - val_accuracy: 0.8507\n",
            "Epoch 2/5\n",
            "1500/1500 [==============================] - 7s 5ms/step - loss: 0.3859 - accuracy: 0.8579 - val_loss: 0.3774 - val_accuracy: 0.8662\n",
            "Epoch 3/5\n",
            "1500/1500 [==============================] - 11s 7ms/step - loss: 0.3468 - accuracy: 0.8711 - val_loss: 0.3519 - val_accuracy: 0.8748\n",
            "Epoch 4/5\n",
            "1500/1500 [==============================] - 8s 5ms/step - loss: 0.3223 - accuracy: 0.8803 - val_loss: 0.3458 - val_accuracy: 0.8722\n",
            "Epoch 5/5\n",
            "1500/1500 [==============================] - 7s 4ms/step - loss: 0.3041 - accuracy: 0.8865 - val_loss: 0.3387 - val_accuracy: 0.8767\n"
          ]
        }
      ]
    },
    {
      "cell_type": "markdown",
      "source": [
        "### Gráficos de Validação"
      ],
      "metadata": {
        "id": "FQ3n1TuXDA1e"
      }
    },
    {
      "cell_type": "code",
      "source": [
        "plt.plot(historico.history['accuracy'])\n",
        "plt.plot(historico.history['val_accuracy'])\n",
        "\n",
        "plt.title('Acurácia por épocas', fontsize = 15)\n",
        "plt.xlabel('épocas')\n",
        "plt.ylabel('acurácia')\n",
        "plt.legend(['treino', 'validação'])\n",
        "plt.show()"
      ],
      "metadata": {
        "colab": {
          "base_uri": "https://localhost:8080/",
          "height": 299
        },
        "id": "FHBM0M_7C9zS",
        "outputId": "1ac3107c-b515-4339-ae70-8b2aea7fb0ec"
      },
      "execution_count": 61,
      "outputs": [
        {
          "output_type": "display_data",
          "data": {
            "text/plain": [
              "<Figure size 432x288 with 1 Axes>"
            ],
            "image/png": "[encoded data removed]"
          },
          "metadata": {
            "needs_background": "light"
          }
        }
      ]
    },
    {
      "cell_type": "code",
      "source": [
        "plt.plot(historico.history['loss'])\n",
        "plt.plot(historico.history['val_loss'])\n",
        "\n",
        "plt.title('Perda por épocas', fontsize = 15)\n",
        "plt.xlabel('épocas')\n",
        "plt.ylabel('perda')\n",
        "plt.legend(['treino', 'validação'])\n",
        "plt.show()"
      ],
      "metadata": {
        "colab": {
          "base_uri": "https://localhost:8080/",
          "height": 299
        },
        "id": "EruZi2c_DIqN",
        "outputId": "86a3381f-a5da-4ef0-c944-a983bd0ea7ea"
      },
      "execution_count": 62,
      "outputs": [
        {
          "output_type": "display_data",
          "data": {
            "text/plain": [
              "<Figure size 432x288 with 1 Axes>"
            ],
            "image/png": "[encoded data removed]"
          },
          "metadata": {
            "needs_background": "light"
          }
        }
      ]
    },
    {
      "cell_type": "markdown",
      "source": [
        "* O comportamento das curvas de validação melhoraram em comparação com o modelo sem Dropout. Apesar dos resultados de treino serem um pouco piores, a perda e acurácia da validação estão melhores."
      ],
      "metadata": {
        "id": "YqUedOuLF6fn"
      }
    },
    {
      "cell_type": "markdown",
      "source": [
        "# Salvando e utilizando modelo treinado"
      ],
      "metadata": {
        "id": "1b7jL9GiL248"
      }
    },
    {
      "cell_type": "code",
      "source": [
        "model.save('model.h5')"
      ],
      "metadata": {
        "id": "PwqlZ3z3DNSq"
      },
      "execution_count": 63,
      "outputs": []
    },
    {
      "cell_type": "code",
      "source": [
        "from tensorflow.keras.models import load_model\n",
        "\n",
        "saved_model = load_model('model.h5')"
      ],
      "metadata": {
        "id": "ll0wpppEMBSY"
      },
      "execution_count": 72,
      "outputs": []
    },
    {
      "cell_type": "code",
      "source": [
        "tests = saved_model.predict(test_imgs_normalized)\n",
        "print(f'Resultado do teste: {np.argmax(tests[0])}')\n",
        "print(f'Rótulo da imagem: {test_labels[0]}')"
      ],
      "metadata": {
        "colab": {
          "base_uri": "https://localhost:8080/"
        },
        "id": "YzFx_xLTM-iG",
        "outputId": "81843d5b-a10f-4bed-8c28-fa6fe68976af"
      },
      "execution_count": 74,
      "outputs": [
        {
          "output_type": "stream",
          "name": "stdout",
          "text": [
            "313/313 [==============================] - 1s 3ms/step\n",
            "Resultado do teste: 9\n",
            "Rótulo da imagem: 9\n"
          ]
        }
      ]
    }
  ]
}