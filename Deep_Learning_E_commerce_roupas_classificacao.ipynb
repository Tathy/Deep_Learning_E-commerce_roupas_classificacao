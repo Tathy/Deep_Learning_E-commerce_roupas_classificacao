{
  "nbformat": 4,
  "nbformat_minor": 0,
  "metadata": {
    "colab": {
      "provenance": []
    },
    "kernelspec": {
      "name": "python3",
      "display_name": "Python 3"
    },
    "language_info": {
      "name": "python"
    }
  },
  "cells": [
    {
      "cell_type": "markdown",
      "source": [
        "#Classificação de imagens de roupas"
      ],
      "metadata": {
        "id": "KmvzqswAUlWz"
      }
    },
    {
      "cell_type": "markdown",
      "source": [
        "### Sobre o projeto"
      ],
      "metadata": {
        "id": "zvLkpTHoYz4-"
      }
    },
    {
      "cell_type": "markdown",
      "source": [
        "* Estudo introdutório sobre Deep Learning, TensorFlow e Keras.\n",
        "\n",
        "* E-commerce fictício de roupas, as roupas à venda devem ser classificadas em categorias para facilitar as buscas dos clientes no site.\n",
        "\n",
        "* **Dataset:** [Fashion-MNIST](https://github.com/zalandoresearch/fashion-mnist) que contém pequenas imagens (28x28) de roupas, associadas a 10 classes.\n",
        "\n",
        "* **Referência:** Estudo desenvolvido acompanhando o curso [Deep Learning parte 1: Keras](https://cursos.alura.com.br/course/deep-learning-introducao-com-keras), da Alura."
      ],
      "metadata": {
        "id": "1OIihlbrUqYG"
      }
    },
    {
      "cell_type": "markdown",
      "source": [
        "# Abertura do dataset e primeiras visualizações"
      ],
      "metadata": {
        "id": "yu8PUje5Z0_8"
      }
    },
    {
      "cell_type": "markdown",
      "source": [
        "## Fashion MNIST"
      ],
      "metadata": {
        "id": "VO8-aJiJhxpY"
      }
    },
    {
      "cell_type": "code",
      "execution_count": 1,
      "metadata": {
        "id": "fS6V8nSrUbrZ"
      },
      "outputs": [],
      "source": [
        "import tensorflow\n",
        "from tensorflow import keras\n",
        "\n",
        "dataset = keras.datasets.fashion_mnist"
      ]
    },
    {
      "cell_type": "code",
      "source": [
        "# retorna duas tuplas com conjuntos de treino, teste, e suas labels\n",
        "((train_imgs, train_labels),(test_imgs, test_labels)) = dataset.load_data()"
      ],
      "metadata": {
        "id": "4f0L0qw5ah9w",
        "colab": {
          "base_uri": "https://localhost:8080/"
        },
        "outputId": "a9b535fa-1872-4ea3-f069-88c02194fade"
      },
      "execution_count": 2,
      "outputs": [
        {
          "output_type": "stream",
          "name": "stdout",
          "text": [
            "Downloading data from https://storage.googleapis.com/tensorflow/tf-keras-datasets/train-labels-idx1-ubyte.gz\n",
            "29515/29515 [==============================] - 0s 0us/step\n",
            "Downloading data from https://storage.googleapis.com/tensorflow/tf-keras-datasets/train-images-idx3-ubyte.gz\n",
            "26421880/26421880 [==============================] - 0s 0us/step\n",
            "Downloading data from https://storage.googleapis.com/tensorflow/tf-keras-datasets/t10k-labels-idx1-ubyte.gz\n",
            "5148/5148 [==============================] - 0s 0us/step\n",
            "Downloading data from https://storage.googleapis.com/tensorflow/tf-keras-datasets/t10k-images-idx3-ubyte.gz\n",
            "4422102/4422102 [==============================] - 0s 0us/step\n"
          ]
        }
      ]
    },
    {
      "cell_type": "code",
      "source": [
        "print(f'Conjunto de treino possui {len(train_imgs)} imagens.')\n",
        "print(f'Conjunto de teste possui {len(test_imgs)} imagens.')"
      ],
      "metadata": {
        "colab": {
          "base_uri": "https://localhost:8080/"
        },
        "id": "LKqiz-_Far9N",
        "outputId": "6ee1f05b-eba2-40ed-a756-caca663cecc8"
      },
      "execution_count": 3,
      "outputs": [
        {
          "output_type": "stream",
          "name": "stdout",
          "text": [
            "Conjunto de treino possui 60000 imagens.\n",
            "Conjunto de teste possui 10000 imagens.\n"
          ]
        }
      ]
    },
    {
      "cell_type": "code",
      "source": [
        "print(train_imgs.shape)\n",
        "print(test_imgs.shape)"
      ],
      "metadata": {
        "colab": {
          "base_uri": "https://localhost:8080/"
        },
        "id": "P9x3P4Utd6jF",
        "outputId": "91afebdb-aaea-4f46-9b32-15e783829e5d"
      },
      "execution_count": 4,
      "outputs": [
        {
          "output_type": "stream",
          "name": "stdout",
          "text": [
            "(60000, 28, 28)\n",
            "(10000, 28, 28)\n"
          ]
        }
      ]
    },
    {
      "cell_type": "markdown",
      "source": [
        "## Classes"
      ],
      "metadata": {
        "id": "ZKxNqSJXpm4H"
      }
    },
    {
      "cell_type": "code",
      "source": [
        "import numpy as np\n",
        "np.unique(train_labels)"
      ],
      "metadata": {
        "id": "mUiGHp4kpDKq",
        "colab": {
          "base_uri": "https://localhost:8080/"
        },
        "outputId": "3d5615d0-2224-4a47-b22e-ff231ad00a26"
      },
      "execution_count": 11,
      "outputs": [
        {
          "output_type": "execute_result",
          "data": {
            "text/plain": [
              "array([0, 1, 2, 3, 4, 5, 6, 7, 8, 9], dtype=uint8)"
            ]
          },
          "metadata": {},
          "execution_count": 11
        }
      ]
    },
    {
      "cell_type": "markdown",
      "source": [
        "* Os nomes das classes estão no Readme do dataset."
      ],
      "metadata": {
        "id": "F_dhAivjqMOi"
      }
    },
    {
      "cell_type": "code",
      "source": [
        "class_name = ['T-shirt/top', 'Trouser', 'Pullover', 'Dress', 'Coat', 'Sandal', 'Shirt', 'Sneaker', 'Bag', 'Ankle boot']"
      ],
      "metadata": {
        "id": "YHs1SCq4oZAF"
      },
      "execution_count": 16,
      "outputs": []
    },
    {
      "cell_type": "markdown",
      "source": [
        "## Visualização de alguns itens"
      ],
      "metadata": {
        "id": "QgrPCJPnh0hO"
      }
    },
    {
      "cell_type": "code",
      "source": [
        "import random\n",
        "import matplotlib.pyplot as plt\n",
        "plt.rcParams['image.cmap'] = 'Greys'\n",
        "\n",
        "fig, axs = plt.subplots(1, 5, figsize = (15, 25))\n",
        "\n",
        "rand_ids = [random.randint(0, 60000) for i in range(5)]\n",
        "\n",
        "for k, i in zip(range(0,5), rand_ids):\n",
        "  axs[k].imshow(train_imgs[i])\n",
        "  axs[k].axis('off')\n",
        "  axs[k].set_title(class_name[train_labels[i]], fontsize = 15)\n",
        "\n",
        "plt.show()"
      ],
      "metadata": {
        "colab": {
          "base_uri": "https://localhost:8080/",
          "height": 193
        },
        "id": "QEQffAj3h-4U",
        "outputId": "8be86d85-640e-422f-cc8b-3eaced2468be"
      },
      "execution_count": 20,
      "outputs": [
        {
          "output_type": "display_data",
          "data": {
            "text/plain": [
              "<Figure size 1080x1800 with 5 Axes>"
            ],
            "image/png": "[encoded data removed]"
          },
          "metadata": {
            "needs_background": "light"
          }
        }
      ]
    },
    {
      "cell_type": "code",
      "source": [
        "fig, axs = plt.subplots(1, 5, figsize = (15, 25))\n",
        "\n",
        "rand_ids = [random.randint(0, 10000) for i in range(5)]\n",
        "\n",
        "for k, i in zip(range(0,5), rand_ids):\n",
        "  axs[k].imshow(test_imgs[i])\n",
        "  axs[k].axis('off')\n",
        "  axs[k].set_title(class_name[test_labels[i]], fontsize = 15)\n",
        "\n",
        "plt.show()"
      ],
      "metadata": {
        "colab": {
          "base_uri": "https://localhost:8080/",
          "height": 193
        },
        "id": "C5BVs5a6oA1K",
        "outputId": "7f599c13-7aa2-4a4d-be15-c7026c39d209"
      },
      "execution_count": 21,
      "outputs": [
        {
          "output_type": "display_data",
          "data": {
            "text/plain": [
              "<Figure size 1080x1800 with 5 Axes>"
            ],
            "image/png": "[encoded data removed]"
          },
          "metadata": {
            "needs_background": "light"
          }
        }
      ]
    },
    {
      "cell_type": "markdown",
      "source": [
        "# Funções de Ativação"
      ],
      "metadata": {
        "id": "x6i_D4pJ3ZvQ"
      }
    },
    {
      "cell_type": "markdown",
      "source": [
        "![teste](https://miro.medium.com/max/720/1*ZafDv3VUm60Eh10OeJu1vw.webp)"
      ],
      "metadata": {
        "id": "YPwRR9zC3cn7"
      }
    },
    {
      "cell_type": "markdown",
      "source": [
        "## ReLu"
      ],
      "metadata": {
        "id": "kpfLItuRFk4y"
      }
    },
    {
      "cell_type": "markdown",
      "source": [
        "* Todos os número negativos se tornam 0.\n",
        "* A ReLu tem a possibilidade de desligar alguns neurônios.\n",
        "* $a = z^+ = max(0, z)$\n",
        "* É não-linear, essencial para separar mais de duas características em uma única função."
      ],
      "metadata": {
        "id": "G86wIQTp2pWz"
      }
    },
    {
      "cell_type": "markdown",
      "source": [
        "## SoftMax"
      ],
      "metadata": {
        "id": "wMeL3Eaq8c82"
      }
    },
    {
      "cell_type": "markdown",
      "source": [
        "* Usada da última camada.\n",
        "* Atribui probabilidades de cada categoria estar correta.\n",
        "\n",
        "* ### $a_j^{(L-1)} = \\frac{exp(z_j^{(L-1)})}{∑_i exp(z_i^{(L-1)})}$\n",
        "\n",
        "  * (L-1) ⟶ camada anterior.\n",
        "  * a > 0, por do exponencial.\n",
        "  * O somatório de todas as probabilidades é 1, 100%."
      ],
      "metadata": {
        "id": "Tr9AYGhu8fHq"
      }
    },
    {
      "cell_type": "markdown",
      "source": [
        "# Construção do Modelo"
      ],
      "metadata": {
        "id": "MXkjs39bt9Y6"
      }
    },
    {
      "cell_type": "markdown",
      "source": [
        "* Modelo >> entrada > processamento > saída\n",
        "\n",
        "* Na primeira camada, Camada 0, a imagem será \"achatada\" para um array de pixels de uma única dimensão.\n",
        "\n",
        "* Na Camda 1, é feita a comunicação com a camada de entrada. Neste caso, será uma camada densa, totalmente conectada com a anterior, de entrada.\n",
        "  * No primneiro parâmetro, são definidos quantos neurônios estarão nesta camada.É interessante utilizar múltiplos de 2 por questão de processamento.\n",
        "  * Deve ser definida também a função de ativação, que neste caso será a ReLu (https://www.tensorflow.org/api_docs/python/tf/nn/relu).\n",
        "\n",
        "* Na Camada 2, de saída, terá o número de classificações do dataset e totalmente conectada."
      ],
      "metadata": {
        "id": "DNoevCgls4XF"
      }
    },
    {
      "cell_type": "code",
      "source": [
        "model = keras.Sequential([\n",
        "    keras.layers.Flatten(input_shape = (28, 28)),               # camada 0, entrada\n",
        "    keras.layers.Dense(256, activation = tensorflow.nn.relu),   # camada 1, escondida\n",
        "    keras.layers.Dense(10, activation = tensorflow.nn.softmax)  # camada 2, saída\n",
        "])"
      ],
      "metadata": {
        "id": "4evqRO02q0O1"
      },
      "execution_count": 26,
      "outputs": []
    },
    {
      "cell_type": "code",
      "source": [
        " "
      ],
      "metadata": {
        "id": "Ce1sXSNeAtot"
      },
      "execution_count": null,
      "outputs": []
    }
  ]
}