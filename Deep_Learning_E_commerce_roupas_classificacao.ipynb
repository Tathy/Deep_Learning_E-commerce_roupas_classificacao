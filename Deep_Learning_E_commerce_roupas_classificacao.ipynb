{
  "nbformat": 4,
  "nbformat_minor": 0,
  "metadata": {
    "colab": {
      "provenance": []
    },
    "kernelspec": {
      "name": "python3",
      "display_name": "Python 3"
    },
    "language_info": {
      "name": "python"
    }
  },
  "cells": [
    {
      "cell_type": "markdown",
      "source": [
        "#Classificação de imagens de roupas"
      ],
      "metadata": {
        "id": "KmvzqswAUlWz"
      }
    },
    {
      "cell_type": "markdown",
      "source": [
        "### Sobre o projeto"
      ],
      "metadata": {
        "id": "zvLkpTHoYz4-"
      }
    },
    {
      "cell_type": "markdown",
      "source": [
        "* Estudo introdutório sobre Deep Learning, TensorFlow e Keras.\n",
        "\n",
        "* E-commerce fictício de roupas, as roupas à venda devem ser classificadas em categorias para facilitar as buscas dos clientes no site.\n",
        "\n",
        "* **Dataset:** [Fashion-MNIST](https://github.com/zalandoresearch/fashion-mnist) que contém pequenas imagens (28x28) de roupas, associadas a 10 classes.\n",
        "\n",
        "* **Referência:** Estudo desenvolvido acompanhando o curso [Deep Learning parte 1: Keras](https://cursos.alura.com.br/course/deep-learning-introducao-com-keras), da Alura."
      ],
      "metadata": {
        "id": "1OIihlbrUqYG"
      }
    },
    {
      "cell_type": "markdown",
      "source": [
        "# Abertura do dataset e primeiras visualizações"
      ],
      "metadata": {
        "id": "yu8PUje5Z0_8"
      }
    },
    {
      "cell_type": "markdown",
      "source": [
        "## Fashion MNIST"
      ],
      "metadata": {
        "id": "VO8-aJiJhxpY"
      }
    },
    {
      "cell_type": "code",
      "execution_count": 1,
      "metadata": {
        "id": "fS6V8nSrUbrZ"
      },
      "outputs": [],
      "source": [
        "import tensorflow\n",
        "from tensorflow import keras\n",
        "\n",
        "dataset = keras.datasets.fashion_mnist"
      ]
    },
    {
      "cell_type": "code",
      "source": [
        "# retorna duas tuplas com conjuntos de treino, teste, e suas labels\n",
        "((train_imgs, train_labels),(test_imgs, test_labels)) = dataset.load_data()"
      ],
      "metadata": {
        "id": "4f0L0qw5ah9w",
        "colab": {
          "base_uri": "https://localhost:8080/"
        },
        "outputId": "e66d6fd5-5ffd-430e-af56-2799f8736c31"
      },
      "execution_count": 2,
      "outputs": [
        {
          "output_type": "stream",
          "name": "stdout",
          "text": [
            "Downloading data from https://storage.googleapis.com/tensorflow/tf-keras-datasets/train-labels-idx1-ubyte.gz\n",
            "29515/29515 [==============================] - 0s 0us/step\n",
            "Downloading data from https://storage.googleapis.com/tensorflow/tf-keras-datasets/train-images-idx3-ubyte.gz\n",
            "26421880/26421880 [==============================] - 1s 0us/step\n",
            "Downloading data from https://storage.googleapis.com/tensorflow/tf-keras-datasets/t10k-labels-idx1-ubyte.gz\n",
            "5148/5148 [==============================] - 0s 0us/step\n",
            "Downloading data from https://storage.googleapis.com/tensorflow/tf-keras-datasets/t10k-images-idx3-ubyte.gz\n",
            "4422102/4422102 [==============================] - 0s 0us/step\n"
          ]
        }
      ]
    },
    {
      "cell_type": "code",
      "source": [
        "print(f'Conjunto de treino possui {len(train_imgs)} imagens.')\n",
        "print(f'Conjunto de teste possui {len(test_imgs)} imagens.')"
      ],
      "metadata": {
        "colab": {
          "base_uri": "https://localhost:8080/"
        },
        "id": "LKqiz-_Far9N",
        "outputId": "a22938a0-8877-4aaa-bc0f-b049891b7eae"
      },
      "execution_count": 3,
      "outputs": [
        {
          "output_type": "stream",
          "name": "stdout",
          "text": [
            "Conjunto de treino possui 60000 imagens.\n",
            "Conjunto de teste possui 10000 imagens.\n"
          ]
        }
      ]
    },
    {
      "cell_type": "code",
      "source": [
        "print(train_imgs.shape)\n",
        "print(test_imgs.shape)"
      ],
      "metadata": {
        "colab": {
          "base_uri": "https://localhost:8080/"
        },
        "id": "P9x3P4Utd6jF",
        "outputId": "e786a523-7cac-4964-eee4-b5cf70f3ae06"
      },
      "execution_count": 4,
      "outputs": [
        {
          "output_type": "stream",
          "name": "stdout",
          "text": [
            "(60000, 28, 28)\n",
            "(10000, 28, 28)\n"
          ]
        }
      ]
    },
    {
      "cell_type": "markdown",
      "source": [
        "## Classes"
      ],
      "metadata": {
        "id": "ZKxNqSJXpm4H"
      }
    },
    {
      "cell_type": "code",
      "source": [
        "import numpy as np\n",
        "np.unique(train_labels)"
      ],
      "metadata": {
        "id": "mUiGHp4kpDKq",
        "colab": {
          "base_uri": "https://localhost:8080/"
        },
        "outputId": "bb5e477b-0955-4f34-a5ef-4221bd41a482"
      },
      "execution_count": 5,
      "outputs": [
        {
          "output_type": "execute_result",
          "data": {
            "text/plain": [
              "array([0, 1, 2, 3, 4, 5, 6, 7, 8, 9], dtype=uint8)"
            ]
          },
          "metadata": {},
          "execution_count": 5
        }
      ]
    },
    {
      "cell_type": "markdown",
      "source": [
        "* Os nomes das classes estão no Readme do dataset."
      ],
      "metadata": {
        "id": "F_dhAivjqMOi"
      }
    },
    {
      "cell_type": "code",
      "source": [
        "class_name = ['T-shirt/top', 'Trouser', 'Pullover', 'Dress', 'Coat', 'Sandal', 'Shirt', 'Sneaker', 'Bag', 'Ankle boot']"
      ],
      "metadata": {
        "id": "YHs1SCq4oZAF"
      },
      "execution_count": 6,
      "outputs": []
    },
    {
      "cell_type": "markdown",
      "source": [
        "## Visualização de alguns itens"
      ],
      "metadata": {
        "id": "QgrPCJPnh0hO"
      }
    },
    {
      "cell_type": "code",
      "source": [
        "import random\n",
        "import matplotlib.pyplot as plt\n",
        "plt.rcParams['image.cmap'] = 'Greys'\n",
        "\n",
        "fig, axs = plt.subplots(1, 5, figsize = (15, 25))\n",
        "\n",
        "rand_ids = [random.randint(0, 60000) for i in range(5)]\n",
        "\n",
        "for k, i in zip(range(0,5), rand_ids):\n",
        "  axs[k].imshow(train_imgs[i])\n",
        "  axs[k].axis('off')\n",
        "  axs[k].set_title(class_name[train_labels[i]], fontsize = 15)\n",
        "\n",
        "plt.show()"
      ],
      "metadata": {
        "colab": {
          "base_uri": "https://localhost:8080/",
          "height": 193
        },
        "id": "QEQffAj3h-4U",
        "outputId": "a6e9c4c8-f32e-4f15-fb32-62f1ea604e28"
      },
      "execution_count": 7,
      "outputs": [
        {
          "output_type": "display_data",
          "data": {
            "text/plain": [
              "<Figure size 1080x1800 with 5 Axes>"
            ],
            "image/png": "[encoded data removed]"
          },
          "metadata": {
            "needs_background": "light"
          }
        }
      ]
    },
    {
      "cell_type": "code",
      "source": [
        "fig, axs = plt.subplots(1, 5, figsize = (15, 25))\n",
        "\n",
        "rand_ids = [random.randint(0, 10000) for i in range(5)]\n",
        "\n",
        "for k, i in zip(range(0,5), rand_ids):\n",
        "  axs[k].imshow(test_imgs[i])\n",
        "  axs[k].axis('off')\n",
        "  axs[k].set_title(class_name[test_labels[i]], fontsize = 15)\n",
        "\n",
        "plt.show()"
      ],
      "metadata": {
        "colab": {
          "base_uri": "https://localhost:8080/",
          "height": 193
        },
        "id": "C5BVs5a6oA1K",
        "outputId": "64f7a3eb-82e5-456d-e0fd-761ed3b8c3e6"
      },
      "execution_count": 8,
      "outputs": [
        {
          "output_type": "display_data",
          "data": {
            "text/plain": [
              "<Figure size 1080x1800 with 5 Axes>"
            ],
            "image/png": "[encoded data removed]"
          },
          "metadata": {
            "needs_background": "light"
          }
        }
      ]
    },
    {
      "cell_type": "markdown",
      "source": [
        "# Funções de Ativação"
      ],
      "metadata": {
        "id": "x6i_D4pJ3ZvQ"
      }
    },
    {
      "cell_type": "markdown",
      "source": [
        "![teste](https://miro.medium.com/max/720/1*ZafDv3VUm60Eh10OeJu1vw.webp)"
      ],
      "metadata": {
        "id": "YPwRR9zC3cn7"
      }
    },
    {
      "cell_type": "markdown",
      "source": [
        "## ReLu"
      ],
      "metadata": {
        "id": "kpfLItuRFk4y"
      }
    },
    {
      "cell_type": "markdown",
      "source": [
        "* Todos os número negativos se tornam 0.\n",
        "* A ReLu tem a possibilidade de desligar alguns neurônios.\n",
        "* $a = z^+ = max(0, z)$\n",
        "* É não-linear, essencial para separar mais de duas características em uma única função."
      ],
      "metadata": {
        "id": "G86wIQTp2pWz"
      }
    },
    {
      "cell_type": "markdown",
      "source": [
        "## SoftMax"
      ],
      "metadata": {
        "id": "wMeL3Eaq8c82"
      }
    },
    {
      "cell_type": "markdown",
      "source": [
        "* Usada da última camada.\n",
        "* Atribui probabilidades de cada categoria estar correta.\n",
        "\n",
        "* ### $a_j^{(L-1)} = \\frac{exp(z_j^{(L-1)})}{∑_i exp(z_i^{(L-1)})}$\n",
        "\n",
        "  * (L-1) ⟶ camada anterior.\n",
        "  * a > 0, por do exponencial.\n",
        "  * O somatório de todas as probabilidades é 1, 100%."
      ],
      "metadata": {
        "id": "Tr9AYGhu8fHq"
      }
    },
    {
      "cell_type": "markdown",
      "source": [
        "# Construção do Modelo"
      ],
      "metadata": {
        "id": "MXkjs39bt9Y6"
      }
    },
    {
      "cell_type": "markdown",
      "source": [
        "* Modelo >> entrada > processamento > saída\n",
        "\n",
        "* Na primeira camada, Camada 0, a imagem será \"achatada\" para um array de pixels de uma única dimensão.\n",
        "\n",
        "* Na Camda 1, é feita a comunicação com a camada de entrada. Neste caso, será uma camada densa, totalmente conectada com a anterior.\n",
        "  * No primneiro parâmetro, são definidos quantos neurônios estarão nesta camada.É interessante utilizar múltiplos de 2 por questão de processamento.\n",
        "  * Deve ser definida também a função de ativação, que neste caso será a ReLu (https://www.tensorflow.org/api_docs/python/tf/nn/relu).\n",
        "\n",
        "* Na Camada 2, de saída, terá o número de classificações do dataset e totalmente conectada."
      ],
      "metadata": {
        "id": "DNoevCgls4XF"
      }
    },
    {
      "cell_type": "code",
      "source": [
        "model = keras.Sequential([\n",
        "    keras.layers.Flatten(input_shape = (28, 28)),               # camada 0, entrada\n",
        "    keras.layers.Dense(256, activation = tensorflow.nn.relu),   # camada 1, escondida\n",
        "    keras.layers.Dense(10, activation = tensorflow.nn.softmax)  # camada 2, saída\n",
        "])"
      ],
      "metadata": {
        "id": "4evqRO02q0O1"
      },
      "execution_count": 9,
      "outputs": []
    },
    {
      "cell_type": "code",
      "source": [
        "model.compile(optimizer = 'adam', loss = 'sparse_categorical_crossentropy')"
      ],
      "metadata": {
        "id": "Ce1sXSNeAtot"
      },
      "execution_count": 10,
      "outputs": []
    },
    {
      "cell_type": "markdown",
      "source": [
        "* O batch_size padrão é 32, por isso a quantidade que aparece no log não é o tamanho completo do dataset, mas sim esse valor dividido por 32. Todo o dataset é usado no treinamento, mas em grupos menores."
      ],
      "metadata": {
        "id": "kEH0s5Zd5X7T"
      }
    },
    {
      "cell_type": "code",
      "source": [
        "model.fit(train_imgs, train_labels)"
      ],
      "metadata": {
        "colab": {
          "base_uri": "https://localhost:8080/"
        },
        "id": "AUV0IJkmkHOo",
        "outputId": "f4a40ffe-30b5-4af4-fa73-e5e5308aa80d"
      },
      "execution_count": 11,
      "outputs": [
        {
          "output_type": "stream",
          "name": "stdout",
          "text": [
            "1875/1875 [==============================] - 7s 3ms/step - loss: 4.0656\n"
          ]
        },
        {
          "output_type": "execute_result",
          "data": {
            "text/plain": [
              "<keras.callbacks.History at 0x7fc362a2ee80>"
            ]
          },
          "metadata": {},
          "execution_count": 11
        }
      ]
    },
    {
      "cell_type": "markdown",
      "source": [
        "* O ideal é que a perda esteja o mais próximo de 0 possível."
      ],
      "metadata": {
        "id": "AbkLuh6Fl1_F"
      }
    },
    {
      "cell_type": "markdown",
      "source": [
        "# Redução de perda: Normalização"
      ],
      "metadata": {
        "id": "LAXGB7nrl8XD"
      }
    },
    {
      "cell_type": "markdown",
      "source": [
        "* Os pixels variam em um intervalo contínuo de 0 a 255."
      ],
      "metadata": {
        "id": "8xJZypXXnQLI"
      }
    },
    {
      "cell_type": "code",
      "source": [
        "plt.imshow(train_imgs[0])\n",
        "plt.colorbar()"
      ],
      "metadata": {
        "colab": {
          "base_uri": "https://localhost:8080/",
          "height": 282
        },
        "id": "cu-sPh4LkOjA",
        "outputId": "457270f8-76ba-458e-8bd9-e989479652d7"
      },
      "execution_count": 12,
      "outputs": [
        {
          "output_type": "execute_result",
          "data": {
            "text/plain": [
              "<matplotlib.colorbar.Colorbar at 0x7fc35e26f100>"
            ]
          },
          "metadata": {},
          "execution_count": 12
        },
        {
          "output_type": "display_data",
          "data": {
            "text/plain": [
              "<Figure size 432x288 with 2 Axes>"
            ],
            "image/png": "[encoded data removed]"
          },
          "metadata": {
            "needs_background": "light"
          }
        }
      ]
    },
    {
      "cell_type": "markdown",
      "source": [
        "* O valores serão normalizados para um intervalo de 0 a 1."
      ],
      "metadata": {
        "id": "n7kWDXetnr_6"
      }
    },
    {
      "cell_type": "code",
      "source": [
        "train_imgs = train_imgs/255.0\n",
        "\n",
        "plt.imshow(train_imgs[0])\n",
        "plt.colorbar()"
      ],
      "metadata": {
        "colab": {
          "base_uri": "https://localhost:8080/",
          "height": 286
        },
        "id": "avhPutbVmf05",
        "outputId": "a96a111e-c232-40c8-cd33-932fd2ae0aec"
      },
      "execution_count": 13,
      "outputs": [
        {
          "output_type": "execute_result",
          "data": {
            "text/plain": [
              "<matplotlib.colorbar.Colorbar at 0x7fc35e1a1610>"
            ]
          },
          "metadata": {},
          "execution_count": 13
        },
        {
          "output_type": "display_data",
          "data": {
            "text/plain": [
              "<Figure size 432x288 with 2 Axes>"
            ],
            "image/png": "[encoded data removed]"
          },
          "metadata": {
            "needs_background": "light"
          }
        }
      ]
    },
    {
      "cell_type": "markdown",
      "source": [
        "# 2º Modelo: Valores normalizados [0, 1]"
      ],
      "metadata": {
        "id": "ogMr2Dlin9MM"
      }
    },
    {
      "cell_type": "code",
      "source": [
        "model = keras.Sequential([\n",
        "    keras.layers.Flatten(input_shape = (28, 28)),\n",
        "    keras.layers.Dense(256, activation = tensorflow.nn.relu),\n",
        "    keras.layers.Dense(10, activation = tensorflow.nn.softmax)\n",
        "])\n",
        "\n",
        "model.compile(optimizer = 'adam', loss = 'sparse_categorical_crossentropy')\n",
        "model.fit(train_imgs, train_labels)"
      ],
      "metadata": {
        "colab": {
          "base_uri": "https://localhost:8080/"
        },
        "id": "PQYmISkdn2fA",
        "outputId": "95463751-1316-4fb7-81c9-bd70b463f862"
      },
      "execution_count": 14,
      "outputs": [
        {
          "output_type": "stream",
          "name": "stdout",
          "text": [
            "1875/1875 [==============================] - 6s 3ms/step - loss: 0.4788\n"
          ]
        },
        {
          "output_type": "execute_result",
          "data": {
            "text/plain": [
              "<keras.callbacks.History at 0x7fc35e1793a0>"
            ]
          },
          "metadata": {},
          "execution_count": 14
        }
      ]
    },
    {
      "cell_type": "markdown",
      "source": [
        "* Na execução desta observação, a perda foi reduzida de 4.4171 para 0.4825.\n",
        "\n",
        "* Reduzir a amplitude numérica que a rede precisou processar ajudou muito a evitar perda de informação.\n",
        "\n",
        "* As gradações das imagens se mantiveram, a roupa usada como exemplo anteriormente continuou sendo visualmente identificável, e ainda houve melhoria no modelo."
      ],
      "metadata": {
        "id": "f2Kvve-JoQNQ"
      }
    },
    {
      "cell_type": "markdown",
      "source": [
        "# Redução de perda: Reestruturação das camadas escondidas"
      ],
      "metadata": {
        "id": "KB0oEbDhrSVC"
      }
    },
    {
      "cell_type": "markdown",
      "source": [
        "* Da segunda camada para a camada de saída há conexões de 256 para 10. \n",
        "\n",
        "* A ideia do próximo passo é afunilar estas conexões criando uma camada internediária e verificar se a perda é reduzida."
      ],
      "metadata": {
        "id": "5Y0l_JkNrnwA"
      }
    },
    {
      "cell_type": "markdown",
      "source": [
        "## Segunda camada escondida: 128 neurônios"
      ],
      "metadata": {
        "id": "NXWI5KWptrcA"
      }
    },
    {
      "cell_type": "code",
      "source": [
        "model = keras.Sequential([\n",
        "    keras.layers.Flatten(input_shape = (28, 28)),               # camada de entrada\n",
        "    keras.layers.Dense(256, activation = tensorflow.nn.relu),   # primeira camada escondida\n",
        "    keras.layers.Dense(128, activation = tensorflow.nn.relu),   # nova camda escondida, segunda camada\n",
        "    keras.layers.Dense(10, activation = tensorflow.nn.softmax)  # camada de saída\n",
        "])\n",
        "\n",
        "model.compile(optimizer = 'adam', loss = 'sparse_categorical_crossentropy')\n",
        "model.fit(train_imgs, train_labels)"
      ],
      "metadata": {
        "colab": {
          "base_uri": "https://localhost:8080/"
        },
        "id": "3ZxiJjOSoL3v",
        "outputId": "a69a56eb-92ba-446c-fbbb-c779d1407c25"
      },
      "execution_count": 15,
      "outputs": [
        {
          "output_type": "stream",
          "name": "stdout",
          "text": [
            "1875/1875 [==============================] - 8s 4ms/step - loss: 0.4750\n"
          ]
        },
        {
          "output_type": "execute_result",
          "data": {
            "text/plain": [
              "<keras.callbacks.History at 0x7fc35e160e80>"
            ]
          },
          "metadata": {},
          "execution_count": 15
        }
      ]
    },
    {
      "cell_type": "markdown",
      "source": [
        "* Na execução desta observação, a perda foi reduzida de 0.4825 para 0.4777."
      ],
      "metadata": {
        "id": "fvfKoXXJs9q-"
      }
    },
    {
      "cell_type": "markdown",
      "source": [
        "## Terceira camada escondida: 64 neurônios"
      ],
      "metadata": {
        "id": "QxZomCPXuDi_"
      }
    },
    {
      "cell_type": "code",
      "source": [
        "model = keras.Sequential([\n",
        "    keras.layers.Flatten(input_shape = (28, 28)),\n",
        "    keras.layers.Dense(256, activation = tensorflow.nn.relu),\n",
        "    keras.layers.Dense(128, activation = tensorflow.nn.relu),\n",
        "    keras.layers.Dense(64, activation = tensorflow.nn.relu),    # terceira camada escondida\n",
        "    keras.layers.Dense(10, activation = tensorflow.nn.softmax)\n",
        "])\n",
        "\n",
        "model.compile(optimizer = 'adam', loss = 'sparse_categorical_crossentropy')\n",
        "model.fit(train_imgs, train_labels)"
      ],
      "metadata": {
        "colab": {
          "base_uri": "https://localhost:8080/"
        },
        "id": "9OuP-fLfs2QZ",
        "outputId": "13dec141-8806-4a5d-b70c-e4fe45f950bf"
      },
      "execution_count": 16,
      "outputs": [
        {
          "output_type": "stream",
          "name": "stdout",
          "text": [
            "1875/1875 [==============================] - 8s 4ms/step - loss: 0.4855\n"
          ]
        },
        {
          "output_type": "execute_result",
          "data": {
            "text/plain": [
              "<keras.callbacks.History at 0x7fc35dfe3220>"
            ]
          },
          "metadata": {},
          "execution_count": 16
        }
      ]
    },
    {
      "cell_type": "markdown",
      "source": [
        "* Na execução desta observação, a perda foi incrementada de 0.4777 para 0.4854.\n",
        "\n",
        "* Neste caso de estudo, o aumento do tempo de execução foi irrelevante.\n",
        "\n",
        "* Aumentar a quantidade de camadas escondidas, tornando a rede mais profunda, nem sempre trará benefícios para o modelo, além de poder aumentar significativamente o tempo de execução em modelos de aplicação real.\n",
        "\n",
        "* Tanto a quantidade de neurônios quanto as funções de ativação precisarão de uma exploração, um processo mais subjetivo do que exato."
      ],
      "metadata": {
        "id": "j-qdcj-1ugzO"
      }
    },
    {
      "cell_type": "markdown",
      "source": [
        "# 3º Modelo: Normalização e 2 camadas escondidas"
      ],
      "metadata": {
        "id": "Y_nZrS7F7Kpj"
      }
    },
    {
      "cell_type": "code",
      "source": [
        "model = keras.Sequential([\n",
        "    keras.layers.Flatten(input_shape = (28, 28)),\n",
        "    keras.layers.Dense(256, activation = tensorflow.nn.relu),\n",
        "    keras.layers.Dense(128, activation = tensorflow.nn.relu),\n",
        "    keras.layers.Dense(10, activation = tensorflow.nn.softmax)\n",
        "])\n",
        "\n",
        "model.compile(optimizer = 'adam', loss = 'sparse_categorical_crossentropy')\n",
        "model.fit(train_imgs, train_labels)"
      ],
      "metadata": {
        "colab": {
          "base_uri": "https://localhost:8080/"
        },
        "id": "_tZsVIVvuTr2",
        "outputId": "cad3c7c3-49e7-4afc-9a61-c8d799e93891"
      },
      "execution_count": 17,
      "outputs": [
        {
          "output_type": "stream",
          "name": "stdout",
          "text": [
            "1875/1875 [==============================] - 7s 4ms/step - loss: 0.4743\n"
          ]
        },
        {
          "output_type": "execute_result",
          "data": {
            "text/plain": [
              "<keras.callbacks.History at 0x7fc35df1fd90>"
            ]
          },
          "metadata": {},
          "execution_count": 17
        }
      ]
    },
    {
      "cell_type": "markdown",
      "source": [
        "# Redução de perda: Quantidade de épocas"
      ],
      "metadata": {
        "id": "Cff92Zdx8SG0"
      }
    },
    {
      "cell_type": "markdown",
      "source": [
        "* Épocas são os contatos que o modelo tem com o dataset no processo de aprendizagem, em que os ajustes de pesos das conexões são feitas entre os neurônios.\n",
        "\n",
        "* A seguir, as quantidades de épocas serão alteradas para análise da sua influência na perda.\n",
        "\n",
        "* O tempo de execução terá um aumento linear, diretamente proporcional à execução com somento uma época."
      ],
      "metadata": {
        "id": "yBxX1Foa8jGj"
      }
    },
    {
      "cell_type": "code",
      "source": [
        "model = keras.Sequential([\n",
        "    keras.layers.Flatten(input_shape = (28, 28)),\n",
        "    keras.layers.Dense(256, activation = tensorflow.nn.relu),\n",
        "    keras.layers.Dense(128, activation = tensorflow.nn.relu),\n",
        "    keras.layers.Dense(10, activation = tensorflow.nn.softmax)\n",
        "])\n",
        "\n",
        "model.compile(optimizer = 'adam', loss = 'sparse_categorical_crossentropy')\n",
        "model.fit(train_imgs, train_labels, epochs = 5)"
      ],
      "metadata": {
        "colab": {
          "base_uri": "https://localhost:8080/"
        },
        "id": "_H_wQ2tw7UN6",
        "outputId": "7ca69792-38bf-4606-fbfa-d55f992bf1b8"
      },
      "execution_count": 18,
      "outputs": [
        {
          "output_type": "stream",
          "name": "stdout",
          "text": [
            "Epoch 1/5\n",
            "1875/1875 [==============================] - 9s 5ms/step - loss: 0.4749\n",
            "Epoch 2/5\n",
            "1875/1875 [==============================] - 7s 4ms/step - loss: 0.3610\n",
            "Epoch 3/5\n",
            "1875/1875 [==============================] - 7s 4ms/step - loss: 0.3244\n",
            "Epoch 4/5\n",
            "1875/1875 [==============================] - 7s 4ms/step - loss: 0.3004\n",
            "Epoch 5/5\n",
            "1875/1875 [==============================] - 7s 4ms/step - loss: 0.2822\n"
          ]
        },
        {
          "output_type": "execute_result",
          "data": {
            "text/plain": [
              "<keras.callbacks.History at 0x7fc35deca550>"
            ]
          },
          "metadata": {},
          "execution_count": 18
        }
      ]
    },
    {
      "cell_type": "markdown",
      "source": [
        "* A perda foi diminindo gradativamente, mas mesmo neste dataset de estudo o aumento de tempo já foi perceptível."
      ],
      "metadata": {
        "id": "UiUbvKtz9dQY"
      }
    },
    {
      "cell_type": "markdown",
      "source": [
        "# 4º Modelo: Normalização, 2 camadas escondidas, 5 épocas"
      ],
      "metadata": {
        "id": "gjPKmJKC_Xze"
      }
    },
    {
      "cell_type": "code",
      "source": [
        "model = keras.Sequential([\n",
        "    keras.layers.Flatten(input_shape = (28, 28)),\n",
        "    keras.layers.Dense(256, activation = tensorflow.nn.relu),\n",
        "    keras.layers.Dense(128, activation = tensorflow.nn.relu),\n",
        "    keras.layers.Dense(10, activation = tensorflow.nn.softmax)\n",
        "])\n",
        "\n",
        "model.compile(optimizer = 'adam', loss = 'sparse_categorical_crossentropy', metrics = ['accuracy'])\n",
        "model.fit(train_imgs, train_labels, epochs = 5)"
      ],
      "metadata": {
        "colab": {
          "base_uri": "https://localhost:8080/"
        },
        "id": "GxdKPzSu_i1t",
        "outputId": "65c7f117-5b9b-41f0-f9fd-8138ba1d20a9"
      },
      "execution_count": 19,
      "outputs": [
        {
          "output_type": "stream",
          "name": "stdout",
          "text": [
            "Epoch 1/5\n",
            "1875/1875 [==============================] - 8s 4ms/step - loss: 0.4715 - accuracy: 0.8298\n",
            "Epoch 2/5\n",
            "1875/1875 [==============================] - 8s 4ms/step - loss: 0.3594 - accuracy: 0.8677\n",
            "Epoch 3/5\n",
            "1875/1875 [==============================] - 8s 4ms/step - loss: 0.3259 - accuracy: 0.8791\n",
            "Epoch 4/5\n",
            "1875/1875 [==============================] - 8s 4ms/step - loss: 0.3008 - accuracy: 0.8876\n",
            "Epoch 5/5\n",
            "1875/1875 [==============================] - 7s 4ms/step - loss: 0.2816 - accuracy: 0.8945\n"
          ]
        },
        {
          "output_type": "execute_result",
          "data": {
            "text/plain": [
              "<keras.callbacks.History at 0x7fc35dd95f40>"
            ]
          },
          "metadata": {},
          "execution_count": 19
        }
      ]
    },
    {
      "cell_type": "markdown",
      "source": [
        "# Métrica de avaliação: Acurácia"
      ],
      "metadata": {
        "id": "L4cm0OXl-Aqn"
      }
    },
    {
      "cell_type": "markdown",
      "source": [
        "* A acurácia irá medir o quanto o modelo está acertando.\n",
        "\n",
        "* O ideal é que, à medida que o modelo é reestruturado, a perda diminua e a acurácia aumente."
      ],
      "metadata": {
        "id": "FVIoUHSh-j4m"
      }
    },
    {
      "cell_type": "code",
      "source": [
        "model = keras.Sequential([\n",
        "    keras.layers.Flatten(input_shape = (28, 28)),\n",
        "    keras.layers.Dense(256, activation = tensorflow.nn.relu),\n",
        "    keras.layers.Dense(128, activation = tensorflow.nn.relu),\n",
        "    keras.layers.Dense(10, activation = tensorflow.nn.softmax)\n",
        "])\n",
        "\n",
        "model.compile(optimizer = 'adam', loss = 'sparse_categorical_crossentropy', metrics = ['accuracy'])\n",
        "model.fit(train_imgs, train_labels, epochs = 5)"
      ],
      "metadata": {
        "colab": {
          "base_uri": "https://localhost:8080/"
        },
        "id": "yWmQATyR9Nvh",
        "outputId": "a6b1cd9f-1c36-4195-f616-87a897558ff3"
      },
      "execution_count": 20,
      "outputs": [
        {
          "output_type": "stream",
          "name": "stdout",
          "text": [
            "Epoch 1/5\n",
            "1875/1875 [==============================] - 8s 4ms/step - loss: 0.4776 - accuracy: 0.8263\n",
            "Epoch 2/5\n",
            "1875/1875 [==============================] - 7s 4ms/step - loss: 0.3604 - accuracy: 0.8672\n",
            "Epoch 3/5\n",
            "1875/1875 [==============================] - 8s 4ms/step - loss: 0.3254 - accuracy: 0.8811\n",
            "Epoch 4/5\n",
            "1875/1875 [==============================] - 7s 4ms/step - loss: 0.2996 - accuracy: 0.8890\n",
            "Epoch 5/5\n",
            "1875/1875 [==============================] - 7s 4ms/step - loss: 0.2821 - accuracy: 0.8963\n"
          ]
        },
        {
          "output_type": "execute_result",
          "data": {
            "text/plain": [
              "<keras.callbacks.History at 0x7fc35dcfd610>"
            ]
          },
          "metadata": {},
          "execution_count": 20
        }
      ]
    },
    {
      "cell_type": "markdown",
      "source": [
        "* A acurácia aumentou de acordo com a quantidade de épocas executadas."
      ],
      "metadata": {
        "id": "-IWxtDXN-Zux"
      }
    },
    {
      "cell_type": "markdown",
      "source": [
        "# Testes do Modelo"
      ],
      "metadata": {
        "id": "pcG4UW3I_BJ5"
      }
    },
    {
      "cell_type": "markdown",
      "source": [
        "## Elemento a elemento"
      ],
      "metadata": {
        "id": "Q5U3Z9JkB0Z3"
      }
    },
    {
      "cell_type": "markdown",
      "source": [
        "* Sobre o modelo com as aletrações: imagens normalizadas, segunda camada escondida e 5 épocas."
      ],
      "metadata": {
        "id": "1X9ncUVz_FvL"
      }
    },
    {
      "cell_type": "code",
      "source": [
        "testes = model.predict(test_imgs)"
      ],
      "metadata": {
        "colab": {
          "base_uri": "https://localhost:8080/"
        },
        "id": "U5c0_ZWz-LHr",
        "outputId": "9885d821-5908-4d8f-8b73-76b68958c9f1"
      },
      "execution_count": 21,
      "outputs": [
        {
          "output_type": "stream",
          "name": "stdout",
          "text": [
            "313/313 [==============================] - 1s 2ms/step\n"
          ]
        }
      ]
    },
    {
      "cell_type": "code",
      "source": [
        "testes[0]"
      ],
      "metadata": {
        "colab": {
          "base_uri": "https://localhost:8080/"
        },
        "id": "oBjlOQEE_45J",
        "outputId": "33f2bf36-6641-4488-ccae-e497d2464f44"
      },
      "execution_count": 22,
      "outputs": [
        {
          "output_type": "execute_result",
          "data": {
            "text/plain": [
              "array([0.        , 0.        , 0.        , 0.        , 0.        ,\n",
              "       0.        , 0.        , 0.        , 0.        , 0.99999994],\n",
              "      dtype=float32)"
            ]
          },
          "metadata": {},
          "execution_count": 22
        }
      ]
    },
    {
      "cell_type": "code",
      "source": [
        "np.argmax(testes[0])"
      ],
      "metadata": {
        "colab": {
          "base_uri": "https://localhost:8080/"
        },
        "id": "BCvF6AVVBPVn",
        "outputId": "ce5c500b-c4de-428a-cf91-16a5a1f62237"
      },
      "execution_count": 23,
      "outputs": [
        {
          "output_type": "execute_result",
          "data": {
            "text/plain": [
              "9"
            ]
          },
          "metadata": {},
          "execution_count": 23
        }
      ]
    },
    {
      "cell_type": "markdown",
      "source": [
        "* A Softmax, usada na camada de saída, retorna a probabilidade de uma entrada pertencer a cada categoria.\n",
        "\n",
        "* No primeiro item do dataset, demonstrado acima, foi calculada uma probabilidade de quase 100% da imagem representar um item da última classe."
      ],
      "metadata": {
        "id": "9UhG_FONAs-U"
      }
    },
    {
      "cell_type": "code",
      "source": [
        "print(f'Resultado do teste: {np.argmax(testes[0])}')\n",
        "print(f'Número da imagem de teste: {test_labels[0]}')"
      ],
      "metadata": {
        "colab": {
          "base_uri": "https://localhost:8080/"
        },
        "id": "iYC__khnAfko",
        "outputId": "ae0d8885-4742-4dca-b52c-5ea5aa64bfaa"
      },
      "execution_count": 24,
      "outputs": [
        {
          "output_type": "stream",
          "name": "stdout",
          "text": [
            "Resultado do teste: 9\n",
            "Número da imagem de teste: 9\n"
          ]
        }
      ]
    },
    {
      "cell_type": "markdown",
      "source": [
        "## Evaluate"
      ],
      "metadata": {
        "id": "yHqLVwtACSpm"
      }
    },
    {
      "cell_type": "markdown",
      "source": [
        "* 1º Resultados: Perda do teste\n",
        "* 2º Resultado: Acurácia do teste"
      ],
      "metadata": {
        "id": "BFqngXweCjAE"
      }
    },
    {
      "cell_type": "code",
      "source": [
        "test_loss, test_accuracy = model.evaluate(test_imgs, test_labels)\n",
        "print(f'Perda: {test_loss}')\n",
        "print(f'Acuráci: {test_accuracy}')"
      ],
      "metadata": {
        "colab": {
          "base_uri": "https://localhost:8080/"
        },
        "id": "ZfCokf8qB7J3",
        "outputId": "38cfc43c-c4d3-4497-d773-aa89c2067a74"
      },
      "execution_count": 25,
      "outputs": [
        {
          "output_type": "stream",
          "name": "stdout",
          "text": [
            "313/313 [==============================] - 1s 2ms/step - loss: 58.5007 - accuracy: 0.8511\n",
            "Perda: 58.50068664550781\n",
            "Acuráci: 0.8511000275611877\n"
          ]
        }
      ]
    },
    {
      "cell_type": "code",
      "source": [
        "test_imgs_normalized = test_imgs/255\n",
        "\n",
        "test_loss, test_accuracy = model.evaluate(test_imgs_normalized, test_labels)\n",
        "print(f'Perda: {test_loss}')\n",
        "print(f'Acuráci: {test_accuracy}')"
      ],
      "metadata": {
        "colab": {
          "base_uri": "https://localhost:8080/"
        },
        "id": "p6bW07tJDoNg",
        "outputId": "0a8f520c-b6b7-4995-905c-6dc729546573"
      },
      "execution_count": 26,
      "outputs": [
        {
          "output_type": "stream",
          "name": "stdout",
          "text": [
            "313/313 [==============================] - 1s 2ms/step - loss: 0.3557 - accuracy: 0.8735\n",
            "Perda: 0.3556540906429291\n",
            "Acuráci: 0.8734999895095825\n"
          ]
        }
      ]
    },
    {
      "cell_type": "markdown",
      "source": [
        "## Conjunto de Validação"
      ],
      "metadata": {
        "id": "HBpLitjJJO9q"
      }
    },
    {
      "cell_type": "markdown",
      "source": [
        "* Com a definição do validation_split, o treinamento passa a separar um conjunto para validação do modelo.\n",
        "\n",
        "* Os valores de perda e acurácia da validação são retornados junto com os do treino."
      ],
      "metadata": {
        "id": "__psUsIrzIly"
      }
    },
    {
      "cell_type": "code",
      "source": [
        "model = keras.Sequential([\n",
        "    keras.layers.Flatten(input_shape = (28, 28)),\n",
        "    keras.layers.Dense(256, activation = tensorflow.nn.relu),\n",
        "    keras.layers.Dense(128, activation = tensorflow.nn.relu),\n",
        "    keras.layers.Dense(10, activation = tensorflow.nn.softmax)\n",
        "])\n",
        "\n",
        "model.compile(optimizer = 'adam', loss = 'sparse_categorical_crossentropy', metrics = ['accuracy'])\n",
        "historico = model.fit(train_imgs, train_labels, epochs = 5, validation_split = 0.2)"
      ],
      "metadata": {
        "colab": {
          "base_uri": "https://localhost:8080/"
        },
        "id": "j633JUJKF88H",
        "outputId": "adc6eb05-045e-4ebf-b220-1d7a71c78f84"
      },
      "execution_count": 27,
      "outputs": [
        {
          "output_type": "stream",
          "name": "stdout",
          "text": [
            "Epoch 1/5\n",
            "1500/1500 [==============================] - 7s 5ms/step - loss: 0.4958 - accuracy: 0.8233 - val_loss: 0.3828 - val_accuracy: 0.8617\n",
            "Epoch 2/5\n",
            "1500/1500 [==============================] - 7s 5ms/step - loss: 0.3684 - accuracy: 0.8661 - val_loss: 0.3705 - val_accuracy: 0.8651\n",
            "Epoch 3/5\n",
            "1500/1500 [==============================] - 7s 5ms/step - loss: 0.3346 - accuracy: 0.8776 - val_loss: 0.3373 - val_accuracy: 0.8780\n",
            "Epoch 4/5\n",
            "1500/1500 [==============================] - 7s 4ms/step - loss: 0.3079 - accuracy: 0.8853 - val_loss: 0.3704 - val_accuracy: 0.8694\n",
            "Epoch 5/5\n",
            "1500/1500 [==============================] - 7s 5ms/step - loss: 0.2881 - accuracy: 0.8921 - val_loss: 0.3248 - val_accuracy: 0.8836\n"
          ]
        }
      ]
    },
    {
      "cell_type": "markdown",
      "source": [
        "# Gráficos de Acurácia e Perda"
      ],
      "metadata": {
        "id": "b46eEYGb0EyL"
      }
    },
    {
      "cell_type": "markdown",
      "source": [
        "## Análise de 5 épocas"
      ],
      "metadata": {
        "id": "h1qdBZZBCLQ2"
      }
    },
    {
      "cell_type": "code",
      "source": [
        "historico.history"
      ],
      "metadata": {
        "colab": {
          "base_uri": "https://localhost:8080/"
        },
        "id": "AZxtUmHeJeYO",
        "outputId": "39c20352-a1cc-4f3f-bb85-2b8a69daca69"
      },
      "execution_count": 28,
      "outputs": [
        {
          "output_type": "execute_result",
          "data": {
            "text/plain": [
              "{'loss': [0.4958003759384155,\n",
              "  0.36843207478523254,\n",
              "  0.3345933258533478,\n",
              "  0.3078816831111908,\n",
              "  0.2881490886211395],\n",
              " 'accuracy': [0.823312520980835,\n",
              "  0.8661041855812073,\n",
              "  0.8776458501815796,\n",
              "  0.8852708339691162,\n",
              "  0.8921250104904175],\n",
              " 'val_loss': [0.38280802965164185,\n",
              "  0.3705156147480011,\n",
              "  0.33727946877479553,\n",
              "  0.37040087580680847,\n",
              "  0.324750691652298],\n",
              " 'val_accuracy': [0.8616666793823242,\n",
              "  0.8650833368301392,\n",
              "  0.878000020980835,\n",
              "  0.8694166541099548,\n",
              "  0.8835833072662354]}"
            ]
          },
          "metadata": {},
          "execution_count": 28
        }
      ]
    },
    {
      "cell_type": "code",
      "source": [
        "plt.plot(historico.history['accuracy'])\n",
        "plt.plot(historico.history['val_accuracy'])\n",
        "\n",
        "plt.title('Acurácia por épocas', fontsize = 15)\n",
        "plt.xlabel('épocas')\n",
        "plt.ylabel('acurácia')\n",
        "plt.legend(['treino', 'validação'])\n",
        "plt.show()"
      ],
      "metadata": {
        "colab": {
          "base_uri": "https://localhost:8080/",
          "height": 299
        },
        "id": "aDXWPxg80qo_",
        "outputId": "00ebb911-60e0-460f-d764-f0520206bcb2"
      },
      "execution_count": 29,
      "outputs": [
        {
          "output_type": "display_data",
          "data": {
            "text/plain": [
              "<Figure size 432x288 with 1 Axes>"
            ],
            "image/png": "[encoded data removed]"
          },
          "metadata": {
            "needs_background": "light"
          }
        }
      ]
    },
    {
      "cell_type": "markdown",
      "source": [
        "* A acurácia aumentou no decorrer das 5 épocas. Portanto, seguiu como desejado."
      ],
      "metadata": {
        "id": "GzV_C2Qn2m9i"
      }
    },
    {
      "cell_type": "code",
      "source": [
        "plt.plot(historico.history['loss'])\n",
        "plt.plot(historico.history['val_loss'])\n",
        "\n",
        "plt.title('Perda por épocas', fontsize = 15)\n",
        "plt.xlabel('épocas')\n",
        "plt.ylabel('perda')\n",
        "plt.legend(['treino', 'validação'])\n",
        "plt.show()"
      ],
      "metadata": {
        "colab": {
          "base_uri": "https://localhost:8080/",
          "height": 299
        },
        "id": "D2S0TJ0h2B8G",
        "outputId": "65620f62-196a-4d87-d165-82a177ab92ec"
      },
      "execution_count": 30,
      "outputs": [
        {
          "output_type": "display_data",
          "data": {
            "text/plain": [
              "<Figure size 432x288 with 1 Axes>"
            ],
            "image/png": "[encoded data removed]"
          },
          "metadata": {
            "needs_background": "light"
          }
        }
      ]
    },
    {
      "cell_type": "markdown",
      "source": [
        "* A perda diminuiu no decorrer das 5 épocas. Também seguiu como desejado."
      ],
      "metadata": {
        "id": "7fDGJ9B02_pc"
      }
    },
    {
      "cell_type": "markdown",
      "source": [
        "## Análise de 10 épocas"
      ],
      "metadata": {
        "id": "1NpxP2A533C1"
      }
    },
    {
      "cell_type": "code",
      "source": [
        "model = keras.Sequential([\n",
        "    keras.layers.Flatten(input_shape = (28, 28)),\n",
        "    keras.layers.Dense(256, activation = tensorflow.nn.relu),\n",
        "    keras.layers.Dense(128, activation = tensorflow.nn.relu),\n",
        "    keras.layers.Dense(10, activation = tensorflow.nn.softmax)\n",
        "])\n",
        "\n",
        "model.compile(optimizer = 'adam', loss = 'sparse_categorical_crossentropy', metrics = ['accuracy'])\n",
        "historico = model.fit(train_imgs, train_labels, epochs = 10, validation_split = 0.2)"
      ],
      "metadata": {
        "colab": {
          "base_uri": "https://localhost:8080/"
        },
        "id": "Cr6jYa0t2koN",
        "outputId": "5a4c13de-25b7-45fe-a736-76fa4d8d1574"
      },
      "execution_count": 31,
      "outputs": [
        {
          "output_type": "stream",
          "name": "stdout",
          "text": [
            "Epoch 1/10\n",
            "1500/1500 [==============================] - 8s 5ms/step - loss: 0.4926 - accuracy: 0.8223 - val_loss: 0.3837 - val_accuracy: 0.8635\n",
            "Epoch 2/10\n",
            "1500/1500 [==============================] - 7s 5ms/step - loss: 0.3653 - accuracy: 0.8660 - val_loss: 0.3738 - val_accuracy: 0.8642\n",
            "Epoch 3/10\n",
            "1500/1500 [==============================] - 7s 4ms/step - loss: 0.3309 - accuracy: 0.8777 - val_loss: 0.3365 - val_accuracy: 0.8783\n",
            "Epoch 4/10\n",
            "1500/1500 [==============================] - 7s 4ms/step - loss: 0.3051 - accuracy: 0.8864 - val_loss: 0.3171 - val_accuracy: 0.8842\n",
            "Epoch 5/10\n",
            "1500/1500 [==============================] - 7s 5ms/step - loss: 0.2853 - accuracy: 0.8930 - val_loss: 0.3326 - val_accuracy: 0.8788\n",
            "Epoch 6/10\n",
            "1500/1500 [==============================] - 8s 5ms/step - loss: 0.2755 - accuracy: 0.8969 - val_loss: 0.3218 - val_accuracy: 0.8849\n",
            "Epoch 7/10\n",
            "1500/1500 [==============================] - 7s 5ms/step - loss: 0.2602 - accuracy: 0.9033 - val_loss: 0.3416 - val_accuracy: 0.8782\n",
            "Epoch 8/10\n",
            "1500/1500 [==============================] - 7s 5ms/step - loss: 0.2462 - accuracy: 0.9073 - val_loss: 0.3462 - val_accuracy: 0.8827\n",
            "Epoch 9/10\n",
            "1500/1500 [==============================] - 7s 4ms/step - loss: 0.2378 - accuracy: 0.9108 - val_loss: 0.3161 - val_accuracy: 0.8905\n",
            "Epoch 10/10\n",
            "1500/1500 [==============================] - 7s 4ms/step - loss: 0.2262 - accuracy: 0.9143 - val_loss: 0.3172 - val_accuracy: 0.8892\n"
          ]
        }
      ]
    },
    {
      "cell_type": "markdown",
      "source": [
        "### Acurácia"
      ],
      "metadata": {
        "id": "iGpmeZHt-0Ri"
      }
    },
    {
      "cell_type": "code",
      "source": [
        "plt.plot(historico.history['accuracy'])\n",
        "plt.plot(historico.history['val_accuracy'])\n",
        "\n",
        "plt.title('Acurácia por épocas', fontsize = 15)\n",
        "plt.xlabel('épocas')\n",
        "plt.ylabel('acurácia')\n",
        "plt.legend(['treino', 'validação'])\n",
        "plt.show()"
      ],
      "metadata": {
        "colab": {
          "base_uri": "https://localhost:8080/",
          "height": 299
        },
        "id": "keJSe5G_4IIw",
        "outputId": "f0cb901b-57cd-470b-aa61-e4d89e64de16"
      },
      "execution_count": 32,
      "outputs": [
        {
          "output_type": "display_data",
          "data": {
            "text/plain": [
              "<Figure size 432x288 with 1 Axes>"
            ],
            "image/png": "[encoded data removed]"
          },
          "metadata": {
            "needs_background": "light"
          }
        }
      ]
    },
    {
      "cell_type": "markdown",
      "source": [
        "* A Acurácia do treino sobe de forma consistente, mas a de validação não só não consegue aumentar o suficiente para acompanhá-la como oscila no decorrer das épocas."
      ],
      "metadata": {
        "id": "lmlifLsX727b"
      }
    },
    {
      "cell_type": "markdown",
      "source": [
        "### Perda"
      ],
      "metadata": {
        "id": "eHi1KIy2CaMy"
      }
    },
    {
      "cell_type": "code",
      "source": [
        "plt.plot(historico.history['loss'])\n",
        "plt.plot(historico.history['val_loss'])\n",
        "\n",
        "plt.title('Perda por épocas', fontsize = 15)\n",
        "plt.xlabel('épocas')\n",
        "plt.ylabel('perda')\n",
        "plt.legend(['treino', 'validação'])\n",
        "plt.show()"
      ],
      "metadata": {
        "colab": {
          "base_uri": "https://localhost:8080/",
          "height": 299
        },
        "id": "zMBgCqj14re2",
        "outputId": "4f58b389-3c06-4495-b138-be26d8729858"
      },
      "execution_count": 33,
      "outputs": [
        {
          "output_type": "display_data",
          "data": {
            "text/plain": [
              "<Figure size 432x288 with 1 Axes>"
            ],
            "image/png": "[encoded data removed]"
          },
          "metadata": {
            "needs_background": "light"
          }
        }
      ]
    },
    {
      "cell_type": "markdown",
      "source": [
        "* Algo semelhante acontece com os valores de perda, a validação não consegue acompanhar o treino."
      ],
      "metadata": {
        "id": "KAkBeFf-8Lim"
      }
    },
    {
      "cell_type": "markdown",
      "source": [
        "* Os dois gráficos sugereme o modelo está sofrendo um Overfitting, ou seja, está tão especializado nos padrões das imagens de treinamento que não consegue interpretar novas imagens, do conjunto de validação.\n",
        "\n",
        "* Para evitar o oferfitting, pode-se manter a quantidade de épocas no intervalo em que os resultados estão mais estáveis. Onde a tendência da perda e da acurácia estão favoráveis no treino e os resultados na validação ainda estão próximos.\n",
        "\n",
        "* Neste caso, entre [4, 6]. Será mantido o 4º modelo."
      ],
      "metadata": {
        "id": "YuMBwbU28b7G"
      }
    },
    {
      "cell_type": "markdown",
      "source": [
        "# Mais alterações nas camadas escondidas"
      ],
      "metadata": {
        "id": "dMCEmhOBCxF0"
      }
    },
    {
      "cell_type": "markdown",
      "source": [
        "## Dropout"
      ],
      "metadata": {
        "id": "iOpB4WpSEHmk"
      }
    },
    {
      "cell_type": "markdown",
      "source": [
        "* Irá inativar algumas ligações entre duas camadas, como se os neurônios estivessem inativos. Recebe uma porcentagem de ligações que serão desligadas.\n",
        "\n",
        "* Pode ser considerado uma Normalização."
      ],
      "metadata": {
        "id": "cYLdMGQrFQnN"
      }
    },
    {
      "cell_type": "code",
      "source": [
        "model = keras.Sequential([\n",
        "    keras.layers.Flatten(input_shape = (28, 28)),\n",
        "    keras.layers.Dense(256, activation = tensorflow.nn.relu),\n",
        "    keras.layers.Dense(128, activation = tensorflow.nn.relu),\n",
        "    keras.layers.Dropout(0.2),  # nova camada escondida\n",
        "    keras.layers.Dense(10, activation = tensorflow.nn.softmax)\n",
        "])\n",
        "\n",
        "model.compile(optimizer = 'adam', loss = 'sparse_categorical_crossentropy', metrics = ['accuracy'])\n",
        "historico = model.fit(train_imgs, train_labels, epochs = 5, validation_split = 0.2)"
      ],
      "metadata": {
        "colab": {
          "base_uri": "https://localhost:8080/"
        },
        "id": "oTpcBx9FBDmD",
        "outputId": "74f22b0a-fae5-4eec-c2b5-542a96a006d0"
      },
      "execution_count": 34,
      "outputs": [
        {
          "output_type": "stream",
          "name": "stdout",
          "text": [
            "Epoch 1/5\n",
            "1500/1500 [==============================] - 7s 5ms/step - loss: 0.5202 - accuracy: 0.8128 - val_loss: 0.3933 - val_accuracy: 0.8562\n",
            "Epoch 2/5\n",
            "1500/1500 [==============================] - 7s 5ms/step - loss: 0.3851 - accuracy: 0.8587 - val_loss: 0.3560 - val_accuracy: 0.8694\n",
            "Epoch 3/5\n",
            "1500/1500 [==============================] - 7s 5ms/step - loss: 0.3435 - accuracy: 0.8719 - val_loss: 0.3544 - val_accuracy: 0.8681\n",
            "Epoch 4/5\n",
            "1500/1500 [==============================] - 10s 6ms/step - loss: 0.3206 - accuracy: 0.8814 - val_loss: 0.3429 - val_accuracy: 0.8765\n",
            "Epoch 5/5\n",
            "1500/1500 [==============================] - 10s 7ms/step - loss: 0.3022 - accuracy: 0.8882 - val_loss: 0.3397 - val_accuracy: 0.8736\n"
          ]
        }
      ]
    },
    {
      "cell_type": "markdown",
      "source": [
        "### Gráficos de Validação"
      ],
      "metadata": {
        "id": "FQ3n1TuXDA1e"
      }
    },
    {
      "cell_type": "code",
      "source": [
        "plt.plot(historico.history['accuracy'])\n",
        "plt.plot(historico.history['val_accuracy'])\n",
        "\n",
        "plt.title('Acurácia por épocas', fontsize = 15)\n",
        "plt.xlabel('épocas')\n",
        "plt.ylabel('acurácia')\n",
        "plt.legend(['treino', 'validação'])\n",
        "plt.show()"
      ],
      "metadata": {
        "colab": {
          "base_uri": "https://localhost:8080/",
          "height": 299
        },
        "id": "FHBM0M_7C9zS",
        "outputId": "c0ce5aa1-9de1-46cf-8e2c-fcc5cb24011c"
      },
      "execution_count": 35,
      "outputs": [
        {
          "output_type": "display_data",
          "data": {
            "text/plain": [
              "<Figure size 432x288 with 1 Axes>"
            ],
            "image/png": "[encoded data removed]"
          },
          "metadata": {
            "needs_background": "light"
          }
        }
      ]
    },
    {
      "cell_type": "code",
      "source": [
        "plt.plot(historico.history['loss'])\n",
        "plt.plot(historico.history['val_loss'])\n",
        "\n",
        "plt.title('Perda por épocas', fontsize = 15)\n",
        "plt.xlabel('épocas')\n",
        "plt.ylabel('perda')\n",
        "plt.legend(['treino', 'validação'])\n",
        "plt.show()"
      ],
      "metadata": {
        "colab": {
          "base_uri": "https://localhost:8080/",
          "height": 299
        },
        "id": "EruZi2c_DIqN",
        "outputId": "5b6ac1d6-ad23-465a-b276-2e9e6209b70b"
      },
      "execution_count": 36,
      "outputs": [
        {
          "output_type": "display_data",
          "data": {
            "text/plain": [
              "<Figure size 432x288 with 1 Axes>"
            ],
            "image/png": "[encoded data removed]"
          },
          "metadata": {
            "needs_background": "light"
          }
        }
      ]
    },
    {
      "cell_type": "markdown",
      "source": [
        "* O comportamento das curvas de validação melhoraram em comparação com o modelo sem Dropout. Apesar dos resultados de treino serem um pouco piores, a perda e acurácia da validação estão melhores."
      ],
      "metadata": {
        "id": "YqUedOuLF6fn"
      }
    },
    {
      "cell_type": "markdown",
      "source": [
        "# Salvando e utilizando modelo treinado"
      ],
      "metadata": {
        "id": "1b7jL9GiL248"
      }
    },
    {
      "cell_type": "code",
      "source": [
        "model.save('model.h5')"
      ],
      "metadata": {
        "id": "PwqlZ3z3DNSq"
      },
      "execution_count": 37,
      "outputs": []
    },
    {
      "cell_type": "code",
      "source": [
        "from tensorflow.keras.models import load_model\n",
        "\n",
        "saved_model = load_model('model.h5')"
      ],
      "metadata": {
        "id": "ll0wpppEMBSY"
      },
      "execution_count": 38,
      "outputs": []
    },
    {
      "cell_type": "code",
      "source": [
        "tests = saved_model.predict(test_imgs_normalized)\n",
        "print(f'Resultado do teste: {np.argmax(tests[0])}')\n",
        "print(f'Rótulo da imagem: {test_labels[0]}')"
      ],
      "metadata": {
        "colab": {
          "base_uri": "https://localhost:8080/"
        },
        "id": "YzFx_xLTM-iG",
        "outputId": "90550586-6631-40f7-82ca-3580ab25c75d"
      },
      "execution_count": 39,
      "outputs": [
        {
          "output_type": "stream",
          "name": "stdout",
          "text": [
            "313/313 [==============================] - 1s 3ms/step\n",
            "Resultado do teste: 9\n",
            "Rótulo da imagem: 9\n"
          ]
        }
      ]
    },
    {
      "cell_type": "markdown",
      "source": [
        "# Análises sobre o modelo e teoria"
      ],
      "metadata": {
        "id": "dNAeII-hGYem"
      }
    },
    {
      "cell_type": "markdown",
      "source": [
        "* A partir daqui, foram feitos alguns exercícios do curso para fixar conceitos relacionados às Redes Neurais. Não necessariamente têm uma aplicação prática."
      ],
      "metadata": {
        "id": "o07HYW2YX6-P"
      }
    },
    {
      "cell_type": "markdown",
      "source": [
        "## Sumário, descrição das camadas"
      ],
      "metadata": {
        "id": "Nz0LmrWQG223"
      }
    },
    {
      "cell_type": "code",
      "source": [
        "model.summary()"
      ],
      "metadata": {
        "colab": {
          "base_uri": "https://localhost:8080/"
        },
        "id": "a6GiAUdXGfKr",
        "outputId": "8d623677-3b13-49a5-8c36-f112b1607966"
      },
      "execution_count": 40,
      "outputs": [
        {
          "output_type": "stream",
          "name": "stdout",
          "text": [
            "Model: \"sequential_10\"\n",
            "_________________________________________________________________\n",
            " Layer (type)                Output Shape              Param #   \n",
            "=================================================================\n",
            " flatten_10 (Flatten)        (None, 784)               0         \n",
            "                                                                 \n",
            " dense_29 (Dense)            (None, 256)               200960    \n",
            "                                                                 \n",
            " dense_30 (Dense)            (None, 128)               32896     \n",
            "                                                                 \n",
            " dropout (Dropout)           (None, 128)               0         \n",
            "                                                                 \n",
            " dense_31 (Dense)            (None, 10)                1290      \n",
            "                                                                 \n",
            "=================================================================\n",
            "Total params: 235,146\n",
            "Trainable params: 235,146\n",
            "Non-trainable params: 0\n",
            "_________________________________________________________________\n"
          ]
        }
      ]
    },
    {
      "cell_type": "markdown",
      "source": [
        "* O Param # mostra a quantidade de parâmetros que são considerados na camada.\n",
        "  * 1º há apenas o achatamento, o valor ficou 0\n",
        "  * 2º (784 (achatamento 28x28) + 1 (viés)) x 256 (neurônios) \n",
        "  * 3º 256 (valores propagados da camada anterior) x 128 (neurônios) + 128 (pesos)\n",
        "  * 4º Dropout 20%\n",
        "  * 5º 128 (valores propagados) x 10 (neurônios) + 10 (pesos)\n",
        "\n",
        "* Os pesos são calculadosn e otimizados nas etapas de backpropagation."
      ],
      "metadata": {
        "id": "ejuTtwoJHQRd"
      }
    },
    {
      "cell_type": "markdown",
      "source": [
        "### Pesos da primeira camada Dense"
      ],
      "metadata": {
        "id": "6QzEPmScRHQS"
      }
    },
    {
      "cell_type": "code",
      "source": [
        "model.layers[1].get_weights()[0]"
      ],
      "metadata": {
        "colab": {
          "base_uri": "https://localhost:8080/"
        },
        "id": "N7O084cxGiKj",
        "outputId": "3e0c0b50-b417-412d-8555-d8408556ca35"
      },
      "execution_count": 45,
      "outputs": [
        {
          "output_type": "execute_result",
          "data": {
            "text/plain": [
              "array([[-0.02886431,  0.03141145,  0.14719513, ..., -0.05172582,\n",
              "         0.03383387,  0.07651757],\n",
              "       [-0.04977333,  0.00920796,  0.06995192, ..., -0.00105661,\n",
              "         0.0630625 ,  0.16767558],\n",
              "       [ 0.03234804,  0.1182477 ,  0.00921446, ...,  0.05370774,\n",
              "        -0.00440575,  0.19454457],\n",
              "       ...,\n",
              "       [ 0.03432364,  0.05822747, -0.17906152, ...,  0.05495149,\n",
              "         0.13937211,  0.16215996],\n",
              "       [-0.09116857,  0.15424785, -0.03871771, ..., -0.02673548,\n",
              "         0.08064268, -0.06815667],\n",
              "       [-0.07305832,  0.24564926,  0.06530512, ..., -0.09183856,\n",
              "         0.04328014,  0.01265766]], dtype=float32)"
            ]
          },
          "metadata": {},
          "execution_count": 45
        }
      ]
    },
    {
      "cell_type": "markdown",
      "source": [
        "### Vieses da primeira camada Dense"
      ],
      "metadata": {
        "id": "w8iqkjelRM2W"
      }
    },
    {
      "cell_type": "markdown",
      "source": [
        "* Os Vieses indicam o que está mais próximo ou mais distante de conseguir o resultado esperado.\n",
        "  * Por exemplo: uma saia está mais próxima de um vestido do que de um sapato."
      ],
      "metadata": {
        "id": "PbWbaimzRWfB"
      }
    },
    {
      "cell_type": "code",
      "source": [
        "len(model.layers[1].get_weights()[1])"
      ],
      "metadata": {
        "colab": {
          "base_uri": "https://localhost:8080/"
        },
        "id": "UXRCwCZ7RztD",
        "outputId": "3dee92c5-2ae5-48fa-b403-91ecfa2680b1"
      },
      "execution_count": 48,
      "outputs": [
        {
          "output_type": "execute_result",
          "data": {
            "text/plain": [
              "256"
            ]
          },
          "metadata": {},
          "execution_count": 48
        }
      ]
    },
    {
      "cell_type": "code",
      "source": [
        "model.layers[1].get_weights()[1]"
      ],
      "metadata": {
        "colab": {
          "base_uri": "https://localhost:8080/"
        },
        "id": "jYo42MhdKgr7",
        "outputId": "c5c59f92-60cb-42e9-dbe4-78bcb3ebcfe7"
      },
      "execution_count": 47,
      "outputs": [
        {
          "output_type": "execute_result",
          "data": {
            "text/plain": [
              "array([ 5.12790494e-02,  1.81695491e-01,  1.26245081e-01,  9.32416618e-02,\n",
              "        2.26295218e-01, -3.42362106e-01, -2.89601326e-01, -1.81664258e-01,\n",
              "       -4.73947302e-02, -4.02560644e-03,  3.06154341e-01, -1.21519379e-02,\n",
              "       -6.10164255e-02,  3.07216700e-02,  2.04684243e-01,  2.55073309e-02,\n",
              "       -7.43365288e-02,  1.42830506e-01,  2.24064991e-01,  5.79655208e-02,\n",
              "       -1.68132350e-01,  3.62446189e-01,  1.09486513e-01,  4.71248664e-02,\n",
              "        1.29161462e-01, -1.04283001e-02,  1.50125921e-01,  9.42455754e-02,\n",
              "        1.71484761e-02, -1.80865660e-01,  1.96737543e-01,  1.84363425e-01,\n",
              "       -3.64599347e-01, -1.42155250e-03,  1.51293665e-01, -3.06226373e-01,\n",
              "        1.11999132e-01,  1.21305145e-01,  2.01849893e-01, -6.72782119e-03,\n",
              "        8.78343955e-02,  4.21750635e-01,  2.88193583e-01, -1.77467782e-02,\n",
              "        1.46704197e-01,  3.35837603e-02, -2.44346261e-02,  1.63140744e-01,\n",
              "       -1.08630650e-01, -2.83117983e-02, -1.35091320e-02,  5.13923466e-02,\n",
              "       -1.44391805e-01, -5.65702878e-02,  9.59633440e-02, -1.84502769e-02,\n",
              "        3.34466517e-01,  6.54612556e-02,  2.15595558e-01, -9.81482561e-04,\n",
              "        7.31472522e-02,  1.04048163e-01, -4.41654964e-04,  3.55354324e-02,\n",
              "        1.72615454e-01,  6.62550181e-02,  3.05142757e-02,  3.47805284e-02,\n",
              "        2.95643896e-01,  2.45710164e-01,  1.88370004e-01,  4.03777771e-02,\n",
              "        6.97881207e-02, -3.48869935e-02, -8.13975185e-03,  5.79338297e-02,\n",
              "        1.45182256e-02,  2.25937083e-01,  4.93947491e-02, -1.88634634e-01,\n",
              "        1.91709567e-02, -2.09050655e-01, -8.61188620e-02, -5.08062094e-02,\n",
              "        2.17727393e-01,  6.77594841e-02,  1.31218493e-01,  2.15615649e-02,\n",
              "        2.61472583e-01,  2.22038608e-02,  1.32185951e-01,  8.70316923e-02,\n",
              "       -3.84524576e-02,  1.03438430e-01,  1.89377412e-01,  8.20938498e-02,\n",
              "        1.72435550e-03, -3.51334736e-02,  6.99322065e-03, -5.92351099e-03,\n",
              "        1.44145384e-01,  1.85593113e-01,  1.50016516e-01,  4.18123491e-02,\n",
              "       -1.58303335e-01,  2.75813431e-01, -8.15557875e-03, -2.24943012e-02,\n",
              "        2.00809315e-02, -3.91348392e-01,  2.39618227e-01,  9.27553922e-02,\n",
              "        3.59816514e-02,  2.81724855e-02,  1.92716047e-01,  2.76916921e-02,\n",
              "        5.22744469e-02, -7.50653148e-02,  2.17914954e-01,  3.42543989e-01,\n",
              "       -3.45243551e-02,  4.97901104e-02, -1.34819476e-02, -9.23811495e-02,\n",
              "       -2.03471221e-02,  3.03904768e-02, -2.98814684e-01,  1.53455317e-01,\n",
              "       -5.16518801e-02, -7.10681528e-02,  1.68462247e-02,  6.97763860e-02,\n",
              "       -2.55206898e-02, -1.67576551e-01, -3.49378330e-03,  5.40091991e-02,\n",
              "        3.05197958e-04,  5.51505899e-03,  8.20109844e-02,  2.48475336e-02,\n",
              "        2.04230636e-01,  1.07127406e-01,  2.25841820e-01, -2.75297463e-02,\n",
              "        6.60064146e-02,  3.52833234e-02,  1.59163281e-01, -1.57717481e-01,\n",
              "       -1.35791497e-02,  1.54178828e-01, -1.04922205e-02,  1.89063326e-01,\n",
              "        2.03244314e-01,  1.80508465e-01, -1.54347330e-01, -5.26844338e-02,\n",
              "        8.79478455e-02,  3.29157077e-02, -2.67205954e-01, -2.31905654e-02,\n",
              "        1.22721367e-01, -1.87957231e-02,  1.73284024e-01, -1.25100166e-02,\n",
              "       -8.56086984e-02, -2.98874397e-02,  4.14661855e-01,  2.57619917e-01,\n",
              "        1.54979795e-01, -4.47366536e-01,  1.12347610e-01,  1.47504762e-01,\n",
              "        7.74413571e-02,  5.13986275e-02,  5.01273982e-02,  2.23705083e-01,\n",
              "        8.00607353e-02, -1.03158310e-01,  2.79405750e-02,  2.80435711e-01,\n",
              "       -4.77782004e-02, -5.50164049e-03, -2.05570161e-02, -8.90423171e-03,\n",
              "       -2.76843250e-01,  3.49249631e-01,  5.80966361e-02,  9.79862064e-02,\n",
              "        1.45982102e-01,  3.02323382e-02,  8.05811435e-02, -1.07476145e-01,\n",
              "        2.80468762e-01,  3.14515352e-01,  3.32080536e-02,  3.73659320e-02,\n",
              "        3.39383855e-02, -5.63443303e-02,  6.44976720e-02, -8.61939788e-02,\n",
              "       -8.19362625e-02,  3.31957102e-01,  1.70830451e-02,  2.60834724e-01,\n",
              "        2.47781724e-02,  2.69017508e-03,  1.92401901e-01,  6.07423373e-02,\n",
              "        1.95766106e-01,  8.86541009e-02,  1.33981511e-01,  6.04986772e-02,\n",
              "        1.34628564e-01,  2.60330409e-01, -1.75388232e-02,  2.52952278e-01,\n",
              "       -1.10080421e-01,  1.42307714e-01, -1.12647220e-01,  1.14040777e-01,\n",
              "        2.43373111e-01,  1.51380062e-01,  1.40403971e-01,  9.79753863e-03,\n",
              "        1.71329584e-02, -1.00141158e-02, -2.39276160e-02, -6.74285647e-03,\n",
              "       -6.36585504e-02, -3.83407399e-02, -4.03715447e-02,  1.13806151e-01,\n",
              "        2.38646436e-02, -9.67414156e-02,  2.29838192e-01, -7.32309185e-03,\n",
              "        1.66771766e-02, -1.69340856e-02,  8.36292803e-02,  3.03503633e-01,\n",
              "        1.34754613e-01,  1.39067382e-01,  1.18789375e-01,  2.12451637e-01,\n",
              "        2.83518076e-01,  1.93901762e-01,  3.05885263e-02,  1.96785137e-01,\n",
              "        2.08294466e-02,  3.55358243e-01, -8.41160119e-02,  2.78556317e-01,\n",
              "        3.23427022e-01, -1.36136726e-01,  1.38004810e-01,  1.69152260e-01],\n",
              "      dtype=float32)"
            ]
          },
          "metadata": {},
          "execution_count": 47
        }
      ]
    },
    {
      "cell_type": "markdown",
      "source": [
        "## Alterando pesos \"à mão\""
      ],
      "metadata": {
        "id": "-UJ5hlQjWG19"
      }
    },
    {
      "cell_type": "markdown",
      "source": [
        "### Pesos 0"
      ],
      "metadata": {
        "id": "G-WdN4h3WN6z"
      }
    },
    {
      "cell_type": "code",
      "source": [
        "vieses_camada_dense = model.layers[1].get_weights()[1]\n",
        "print(f'Vieses: {vieses_camada_dense.shape}')\n",
        "pesos_camada_dense = model.layers[1].get_weights()[0]\n",
        "print(f'Pesos: {pesos_camada_dense.shape}')"
      ],
      "metadata": {
        "colab": {
          "base_uri": "https://localhost:8080/"
        },
        "id": "Q-1e8Fp7OhXK",
        "outputId": "ab31efcc-e700-420a-8935-3c668da2c32a"
      },
      "execution_count": 52,
      "outputs": [
        {
          "output_type": "stream",
          "name": "stdout",
          "text": [
            "Vieses: (256,)\n",
            "Pesos: (784, 256)\n"
          ]
        }
      ]
    },
    {
      "cell_type": "code",
      "source": [
        "pesos_camada_dense_zerados = np.zeros((784, 256))\n",
        "model.layers[1].set_weights([pesos_camada_dense_zerados, vieses_camada_dense])"
      ],
      "metadata": {
        "id": "S4uzocJ4WWbH"
      },
      "execution_count": 53,
      "outputs": []
    },
    {
      "cell_type": "code",
      "source": [
        "model.compile(optimizer = 'adam', \n",
        "              loss = 'sparse_categorical_crossentropy', \n",
        "              metrics = ['accuracy'])\n",
        "historico = model.fit(train_imgs, train_labels, epochs = 5, validation_split = 0.2)"
      ],
      "metadata": {
        "colab": {
          "base_uri": "https://localhost:8080/"
        },
        "id": "yc6uL9x1WqDv",
        "outputId": "932b7fc2-97d1-42b6-d3d7-3e6c628635a1"
      },
      "execution_count": 54,
      "outputs": [
        {
          "output_type": "stream",
          "name": "stdout",
          "text": [
            "Epoch 1/5\n",
            "1500/1500 [==============================] - 9s 6ms/step - loss: 0.5312 - accuracy: 0.8050 - val_loss: 0.4472 - val_accuracy: 0.8261\n",
            "Epoch 2/5\n",
            "1500/1500 [==============================] - 8s 5ms/step - loss: 0.3883 - accuracy: 0.8570 - val_loss: 0.3954 - val_accuracy: 0.8492\n",
            "Epoch 3/5\n",
            "1500/1500 [==============================] - 8s 5ms/step - loss: 0.3517 - accuracy: 0.8706 - val_loss: 0.3525 - val_accuracy: 0.8713\n",
            "Epoch 4/5\n",
            "1500/1500 [==============================] - 8s 5ms/step - loss: 0.3315 - accuracy: 0.8774 - val_loss: 0.3418 - val_accuracy: 0.8741\n",
            "Epoch 5/5\n",
            "1500/1500 [==============================] - 8s 6ms/step - loss: 0.3131 - accuracy: 0.8840 - val_loss: 0.3566 - val_accuracy: 0.8748\n"
          ]
        }
      ]
    },
    {
      "cell_type": "code",
      "source": [
        "plt.plot(historico.history['accuracy'])\n",
        "plt.plot(historico.history['val_accuracy'])\n",
        "\n",
        "plt.title('Acurácia por épocas', fontsize = 15)\n",
        "plt.xlabel('épocas')\n",
        "plt.ylabel('acurácia')\n",
        "plt.legend(['treino', 'validação'])\n",
        "plt.show()"
      ],
      "metadata": {
        "colab": {
          "base_uri": "https://localhost:8080/",
          "height": 299
        },
        "id": "tydJ7G-FYlVv",
        "outputId": "b7275625-4b05-4e19-bd7e-b48d3d8d10d9"
      },
      "execution_count": 55,
      "outputs": [
        {
          "output_type": "display_data",
          "data": {
            "text/plain": [
              "<Figure size 432x288 with 1 Axes>"
            ],
            "image/png": "[encoded data removed]"
          },
          "metadata": {
            "needs_background": "light"
          }
        }
      ]
    },
    {
      "cell_type": "code",
      "source": [
        "plt.plot(historico.history['loss'])\n",
        "plt.plot(historico.history['val_loss'])\n",
        "\n",
        "plt.title('Perda por épocas', fontsize = 15)\n",
        "plt.xlabel('épocas')\n",
        "plt.ylabel('perda')\n",
        "plt.legend(['treino', 'validação'])\n",
        "plt.show()"
      ],
      "metadata": {
        "colab": {
          "base_uri": "https://localhost:8080/",
          "height": 299
        },
        "id": "BNFDgHIqYySc",
        "outputId": "0280436c-c52e-4458-ba05-d6c85745e410"
      },
      "execution_count": 56,
      "outputs": [
        {
          "output_type": "display_data",
          "data": {
            "text/plain": [
              "<Figure size 432x288 with 1 Axes>"
            ],
            "image/png": "[encoded data removed]"
          },
          "metadata": {
            "needs_background": "light"
          }
        }
      ]
    },
    {
      "cell_type": "code",
      "source": [],
      "metadata": {
        "id": "0Me9E_s8ZBDH"
      },
      "execution_count": null,
      "outputs": []
    }
  ]
}