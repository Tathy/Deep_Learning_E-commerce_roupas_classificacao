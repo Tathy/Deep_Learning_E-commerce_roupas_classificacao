{
  "nbformat": 4,
  "nbformat_minor": 0,
  "metadata": {
    "colab": {
      "provenance": []
    },
    "kernelspec": {
      "name": "python3",
      "display_name": "Python 3"
    },
    "language_info": {
      "name": "python"
    }
  },
  "cells": [
    {
      "cell_type": "markdown",
      "source": [
        "#Classificação de imagens de roupas"
      ],
      "metadata": {
        "id": "KmvzqswAUlWz"
      }
    },
    {
      "cell_type": "markdown",
      "source": [
        "### Sobre o projeto"
      ],
      "metadata": {
        "id": "zvLkpTHoYz4-"
      }
    },
    {
      "cell_type": "markdown",
      "source": [
        "* Estudo introdutório sobre Deep Learning, TensorFlow e Keras.\n",
        "\n",
        "* E-commerce fictício de roupas, as roupas à venda devem ser classificadas em categorias para facilitar as buscas dos clientes no site.\n",
        "\n",
        "* **Dataset:** [Fashion-MNIST](https://github.com/zalandoresearch/fashion-mnist) que contém pequenas imagens (28x28) de roupas, associadas a 10 classes.\n",
        "\n",
        "* **Referência:** Estudo desenvolvido acompanhando o curso [Deep Learning parte 1: Keras](https://cursos.alura.com.br/course/deep-learning-introducao-com-keras), da Alura."
      ],
      "metadata": {
        "id": "1OIihlbrUqYG"
      }
    },
    {
      "cell_type": "markdown",
      "source": [
        "# Abertura do dataset e primeiras visualizações"
      ],
      "metadata": {
        "id": "yu8PUje5Z0_8"
      }
    },
    {
      "cell_type": "markdown",
      "source": [
        "## Fashion MNIST"
      ],
      "metadata": {
        "id": "VO8-aJiJhxpY"
      }
    },
    {
      "cell_type": "code",
      "execution_count": 2,
      "metadata": {
        "id": "fS6V8nSrUbrZ"
      },
      "outputs": [],
      "source": [
        "import tensorflow\n",
        "from tensorflow import keras\n",
        "\n",
        "dataset = keras.datasets.fashion_mnist"
      ]
    },
    {
      "cell_type": "code",
      "source": [
        "# retorna duas tuplas com conjuntos de treino, teste, e suas labels\n",
        "((train_imgs, train_labels),(test_imgs, test_labels)) = dataset.load_data()"
      ],
      "metadata": {
        "id": "4f0L0qw5ah9w"
      },
      "execution_count": 3,
      "outputs": []
    },
    {
      "cell_type": "code",
      "source": [
        "print(f'Conjunto de treino possui {len(train_imgs)} imagens.')\n",
        "print(f'Conjunto de teste possui {len(test_imgs)} imagens.')"
      ],
      "metadata": {
        "colab": {
          "base_uri": "https://localhost:8080/"
        },
        "id": "LKqiz-_Far9N",
        "outputId": "eb751dcc-7128-4380-e344-3ab048f0c734"
      },
      "execution_count": 3,
      "outputs": [
        {
          "output_type": "stream",
          "name": "stdout",
          "text": [
            "Conjunto de treino possui 60000 imagens.\n",
            "Conjunto de teste possui 10000 imagens.\n"
          ]
        }
      ]
    },
    {
      "cell_type": "code",
      "source": [
        "print(train_imgs.shape)\n",
        "print(test_imgs.shape)"
      ],
      "metadata": {
        "colab": {
          "base_uri": "https://localhost:8080/"
        },
        "id": "P9x3P4Utd6jF",
        "outputId": "aaab6d4c-30b6-411f-badc-dce0ee8b8c1e"
      },
      "execution_count": 4,
      "outputs": [
        {
          "output_type": "stream",
          "name": "stdout",
          "text": [
            "(60000, 28, 28)\n",
            "(10000, 28, 28)\n"
          ]
        }
      ]
    },
    {
      "cell_type": "markdown",
      "source": [
        "## Classes"
      ],
      "metadata": {
        "id": "ZKxNqSJXpm4H"
      }
    },
    {
      "cell_type": "code",
      "source": [
        "import numpy as np\n",
        "np.unique(train_labels)"
      ],
      "metadata": {
        "id": "mUiGHp4kpDKq",
        "colab": {
          "base_uri": "https://localhost:8080/"
        },
        "outputId": "60de6427-da50-40eb-e495-0e1310b245a0"
      },
      "execution_count": 5,
      "outputs": [
        {
          "output_type": "execute_result",
          "data": {
            "text/plain": [
              "array([0, 1, 2, 3, 4, 5, 6, 7, 8, 9], dtype=uint8)"
            ]
          },
          "metadata": {},
          "execution_count": 5
        }
      ]
    },
    {
      "cell_type": "markdown",
      "source": [
        "* Os nomes das classes estão no Readme do dataset."
      ],
      "metadata": {
        "id": "F_dhAivjqMOi"
      }
    },
    {
      "cell_type": "code",
      "source": [
        "class_name = ['T-shirt/top', 'Trouser', 'Pullover', 'Dress', 'Coat', 'Sandal', 'Shirt', 'Sneaker', 'Bag', 'Ankle boot']"
      ],
      "metadata": {
        "id": "YHs1SCq4oZAF"
      },
      "execution_count": 6,
      "outputs": []
    },
    {
      "cell_type": "markdown",
      "source": [
        "## Visualização de alguns itens"
      ],
      "metadata": {
        "id": "QgrPCJPnh0hO"
      }
    },
    {
      "cell_type": "code",
      "source": [
        "import random\n",
        "import matplotlib.pyplot as plt\n",
        "plt.rcParams['image.cmap'] = 'Greys'\n",
        "\n",
        "fig, axs = plt.subplots(1, 5, figsize = (15, 25))\n",
        "\n",
        "rand_ids = [random.randint(0, 60000) for i in range(5)]\n",
        "\n",
        "for k, i in zip(range(0,5), rand_ids):\n",
        "  axs[k].imshow(train_imgs[i])\n",
        "  axs[k].axis('off')\n",
        "  axs[k].set_title(class_name[train_labels[i]], fontsize = 15)\n",
        "\n",
        "plt.show()"
      ],
      "metadata": {
        "colab": {
          "base_uri": "https://localhost:8080/",
          "height": 193
        },
        "id": "QEQffAj3h-4U",
        "outputId": "9c104b8d-f750-4ddb-9fd8-32b14d32981e"
      },
      "execution_count": 7,
      "outputs": [
        {
          "output_type": "display_data",
          "data": {
            "text/plain": [
              "<Figure size 1080x1800 with 5 Axes>"
            ],
            "image/png": "[encoded data removed]"
          },
          "metadata": {
            "needs_background": "light"
          }
        }
      ]
    },
    {
      "cell_type": "code",
      "source": [
        "fig, axs = plt.subplots(1, 5, figsize = (15, 25))\n",
        "\n",
        "rand_ids = [random.randint(0, 10000) for i in range(5)]\n",
        "\n",
        "for k, i in zip(range(0,5), rand_ids):\n",
        "  axs[k].imshow(test_imgs[i])\n",
        "  axs[k].axis('off')\n",
        "  axs[k].set_title(class_name[test_labels[i]], fontsize = 15)\n",
        "\n",
        "plt.show()"
      ],
      "metadata": {
        "colab": {
          "base_uri": "https://localhost:8080/",
          "height": 193
        },
        "id": "C5BVs5a6oA1K",
        "outputId": "9d37144c-5bde-434c-ce16-66c705b2382e"
      },
      "execution_count": 8,
      "outputs": [
        {
          "output_type": "display_data",
          "data": {
            "text/plain": [
              "<Figure size 1080x1800 with 5 Axes>"
            ],
            "image/png": "[encoded data removed]"
          },
          "metadata": {
            "needs_background": "light"
          }
        }
      ]
    },
    {
      "cell_type": "markdown",
      "source": [
        "# Funções de Ativação"
      ],
      "metadata": {
        "id": "x6i_D4pJ3ZvQ"
      }
    },
    {
      "cell_type": "markdown",
      "source": [
        "![teste](https://miro.medium.com/max/720/1*ZafDv3VUm60Eh10OeJu1vw.webp)"
      ],
      "metadata": {
        "id": "YPwRR9zC3cn7"
      }
    },
    {
      "cell_type": "markdown",
      "source": [
        "## ReLu"
      ],
      "metadata": {
        "id": "kpfLItuRFk4y"
      }
    },
    {
      "cell_type": "markdown",
      "source": [
        "* Todos os número negativos se tornam 0.\n",
        "* A ReLu tem a possibilidade de desligar alguns neurônios.\n",
        "* $a = z^+ = max(0, z)$\n",
        "* É não-linear, essencial para separar mais de duas características em uma única função."
      ],
      "metadata": {
        "id": "G86wIQTp2pWz"
      }
    },
    {
      "cell_type": "markdown",
      "source": [
        "## SoftMax"
      ],
      "metadata": {
        "id": "wMeL3Eaq8c82"
      }
    },
    {
      "cell_type": "markdown",
      "source": [
        "* Usada da última camada.\n",
        "* Atribui probabilidades de cada categoria estar correta.\n",
        "\n",
        "* ### $a_j^{(L-1)} = \\frac{exp(z_j^{(L-1)})}{∑_i exp(z_i^{(L-1)})}$\n",
        "\n",
        "  * (L-1) ⟶ camada anterior.\n",
        "  * a > 0, por do exponencial.\n",
        "  * O somatório de todas as probabilidades é 1, 100%."
      ],
      "metadata": {
        "id": "Tr9AYGhu8fHq"
      }
    },
    {
      "cell_type": "markdown",
      "source": [
        "# Construção do Modelo"
      ],
      "metadata": {
        "id": "MXkjs39bt9Y6"
      }
    },
    {
      "cell_type": "markdown",
      "source": [
        "* Modelo >> entrada > processamento > saída\n",
        "\n",
        "* Na primeira camada, Camada 0, a imagem será \"achatada\" para um array de pixels de uma única dimensão.\n",
        "\n",
        "* Na Camda 1, é feita a comunicação com a camada de entrada. Neste caso, será uma camada densa, totalmente conectada com a anterior.\n",
        "  * No primneiro parâmetro, são definidos quantos neurônios estarão nesta camada.É interessante utilizar múltiplos de 2 por questão de processamento.\n",
        "  * Deve ser definida também a função de ativação, que neste caso será a ReLu (https://www.tensorflow.org/api_docs/python/tf/nn/relu).\n",
        "\n",
        "* Na Camada 2, de saída, terá o número de classificações do dataset e totalmente conectada."
      ],
      "metadata": {
        "id": "DNoevCgls4XF"
      }
    },
    {
      "cell_type": "code",
      "source": [
        "model = keras.Sequential([\n",
        "    keras.layers.Flatten(input_shape = (28, 28)),               # camada 0, entrada\n",
        "    keras.layers.Dense(256, activation = tensorflow.nn.relu),   # camada 1, escondida\n",
        "    keras.layers.Dense(10, activation = tensorflow.nn.softmax)  # camada 2, saída\n",
        "])"
      ],
      "metadata": {
        "id": "4evqRO02q0O1"
      },
      "execution_count": 9,
      "outputs": []
    },
    {
      "cell_type": "code",
      "source": [
        "model.compile(optimizer = 'adam', loss = 'sparse_categorical_crossentropy')"
      ],
      "metadata": {
        "id": "Ce1sXSNeAtot"
      },
      "execution_count": 10,
      "outputs": []
    },
    {
      "cell_type": "markdown",
      "source": [
        "* O batch_size padrão é 32, por isso a quantidade que aparece no log não é o tamanho completo do dataset, mas sim esse valor dividido por 32. Todo o dataset é usado no treinamento, mas em grupos menores."
      ],
      "metadata": {
        "id": "kEH0s5Zd5X7T"
      }
    },
    {
      "cell_type": "code",
      "source": [
        "model.fit(train_imgs, train_labels)"
      ],
      "metadata": {
        "colab": {
          "base_uri": "https://localhost:8080/"
        },
        "id": "AUV0IJkmkHOo",
        "outputId": "24623a41-4a73-4d07-9937-8f8df5a2af97"
      },
      "execution_count": 11,
      "outputs": [
        {
          "output_type": "stream",
          "name": "stdout",
          "text": [
            "1875/1875 [==============================] - 6s 3ms/step - loss: 4.7855\n"
          ]
        },
        {
          "output_type": "execute_result",
          "data": {
            "text/plain": [
              "<keras.callbacks.History at 0x7f96cbe36a60>"
            ]
          },
          "metadata": {},
          "execution_count": 11
        }
      ]
    },
    {
      "cell_type": "markdown",
      "source": [
        "* O ideal é que a perda esteja o mais próximo de 0 possível."
      ],
      "metadata": {
        "id": "AbkLuh6Fl1_F"
      }
    },
    {
      "cell_type": "markdown",
      "source": [
        "# Redução de perda: Normalização"
      ],
      "metadata": {
        "id": "LAXGB7nrl8XD"
      }
    },
    {
      "cell_type": "markdown",
      "source": [
        "* Os pixels variam em um intervalo contínuo de 0 a 255."
      ],
      "metadata": {
        "id": "8xJZypXXnQLI"
      }
    },
    {
      "cell_type": "code",
      "source": [
        "plt.imshow(train_imgs[0])\n",
        "plt.colorbar()"
      ],
      "metadata": {
        "colab": {
          "base_uri": "https://localhost:8080/",
          "height": 282
        },
        "id": "cu-sPh4LkOjA",
        "outputId": "61ea4570-a93f-42f6-849f-4494bd6c9e94"
      },
      "execution_count": 12,
      "outputs": [
        {
          "output_type": "execute_result",
          "data": {
            "text/plain": [
              "<matplotlib.colorbar.Colorbar at 0x7f96c7828af0>"
            ]
          },
          "metadata": {},
          "execution_count": 12
        },
        {
          "output_type": "display_data",
          "data": {
            "text/plain": [
              "<Figure size 432x288 with 2 Axes>"
            ],
            "image/png": "[encoded data removed]"
          },
          "metadata": {
            "needs_background": "light"
          }
        }
      ]
    },
    {
      "cell_type": "markdown",
      "source": [
        "* O valores serão normalizados para um intervalo de 0 a 1."
      ],
      "metadata": {
        "id": "n7kWDXetnr_6"
      }
    },
    {
      "cell_type": "code",
      "source": [
        "train_imgs = train_imgs/255.0\n",
        "\n",
        "plt.imshow(train_imgs[0])\n",
        "plt.colorbar()"
      ],
      "metadata": {
        "colab": {
          "base_uri": "https://localhost:8080/",
          "height": 286
        },
        "id": "avhPutbVmf05",
        "outputId": "e7ca0c6f-2481-477c-c7f1-c802b6882e39"
      },
      "execution_count": 13,
      "outputs": [
        {
          "output_type": "execute_result",
          "data": {
            "text/plain": [
              "<matplotlib.colorbar.Colorbar at 0x7f96c77630a0>"
            ]
          },
          "metadata": {},
          "execution_count": 13
        },
        {
          "output_type": "display_data",
          "data": {
            "text/plain": [
              "<Figure size 432x288 with 2 Axes>"
            ],
            "image/png": "[encoded data removed]"
          },
          "metadata": {
            "needs_background": "light"
          }
        }
      ]
    },
    {
      "cell_type": "markdown",
      "source": [
        "# 2º Modelo: Valores normalizados [0, 1]"
      ],
      "metadata": {
        "id": "ogMr2Dlin9MM"
      }
    },
    {
      "cell_type": "code",
      "source": [
        "model = keras.Sequential([\n",
        "    keras.layers.Flatten(input_shape = (28, 28)),\n",
        "    keras.layers.Dense(256, activation = tensorflow.nn.relu),\n",
        "    keras.layers.Dense(10, activation = tensorflow.nn.softmax)\n",
        "])\n",
        "\n",
        "model.compile(optimizer = 'adam', loss = 'sparse_categorical_crossentropy')\n",
        "model.fit(train_imgs, train_labels)"
      ],
      "metadata": {
        "colab": {
          "base_uri": "https://localhost:8080/"
        },
        "id": "PQYmISkdn2fA",
        "outputId": "fa3e660a-7d3b-448c-e58f-b2f906f544da"
      },
      "execution_count": 14,
      "outputs": [
        {
          "output_type": "stream",
          "name": "stdout",
          "text": [
            "1875/1875 [==============================] - 6s 3ms/step - loss: 0.4840\n"
          ]
        },
        {
          "output_type": "execute_result",
          "data": {
            "text/plain": [
              "<keras.callbacks.History at 0x7f96c7738f10>"
            ]
          },
          "metadata": {},
          "execution_count": 14
        }
      ]
    },
    {
      "cell_type": "markdown",
      "source": [
        "* Na execução desta observação, a perda foi reduzida de 4.4171 para 0.4825.\n",
        "\n",
        "* Reduzir a amplitude numérica que a rede precisou processar ajudou muito a evitar perda de informação.\n",
        "\n",
        "* As gradações das imagens se mantiveram, a roupa usada como exemplo anteriormente continuou sendo visualmente identificável, e ainda houve melhoria no modelo."
      ],
      "metadata": {
        "id": "f2Kvve-JoQNQ"
      }
    },
    {
      "cell_type": "markdown",
      "source": [
        "# Redução de perda: Reestruturação das camadas escondidas"
      ],
      "metadata": {
        "id": "KB0oEbDhrSVC"
      }
    },
    {
      "cell_type": "markdown",
      "source": [
        "* Da segunda camada para a camada de saída há conexões de 256 para 10. \n",
        "\n",
        "* A ideia do próximo passo é afunilar estas conexões criando uma camada internediária e verificar se a perda é reduzida."
      ],
      "metadata": {
        "id": "5Y0l_JkNrnwA"
      }
    },
    {
      "cell_type": "markdown",
      "source": [
        "## Segunda camada escondida: 128 neurônios"
      ],
      "metadata": {
        "id": "NXWI5KWptrcA"
      }
    },
    {
      "cell_type": "code",
      "source": [
        "model = keras.Sequential([\n",
        "    keras.layers.Flatten(input_shape = (28, 28)),               # camada de entrada\n",
        "    keras.layers.Dense(256, activation = tensorflow.nn.relu),   # primeira camada escondida\n",
        "    keras.layers.Dense(128, activation = tensorflow.nn.relu),   # nova camda escondida, segunda camada\n",
        "    keras.layers.Dense(10, activation = tensorflow.nn.softmax)  # camada de saída\n",
        "])\n",
        "\n",
        "model.compile(optimizer = 'adam', loss = 'sparse_categorical_crossentropy')\n",
        "model.fit(train_imgs, train_labels)"
      ],
      "metadata": {
        "colab": {
          "base_uri": "https://localhost:8080/"
        },
        "id": "3ZxiJjOSoL3v",
        "outputId": "d6f63081-5d55-4cbe-8c33-c6426ae72acb"
      },
      "execution_count": 15,
      "outputs": [
        {
          "output_type": "stream",
          "name": "stdout",
          "text": [
            "1875/1875 [==============================] - 7s 3ms/step - loss: 0.4757\n"
          ]
        },
        {
          "output_type": "execute_result",
          "data": {
            "text/plain": [
              "<keras.callbacks.History at 0x7f96c77384c0>"
            ]
          },
          "metadata": {},
          "execution_count": 15
        }
      ]
    },
    {
      "cell_type": "markdown",
      "source": [
        "* Na execução desta observação, a perda foi reduzida de 0.4825 para 0.4777."
      ],
      "metadata": {
        "id": "fvfKoXXJs9q-"
      }
    },
    {
      "cell_type": "markdown",
      "source": [
        "## Terceira camada escondida: 64 neurônios"
      ],
      "metadata": {
        "id": "QxZomCPXuDi_"
      }
    },
    {
      "cell_type": "code",
      "source": [
        "model = keras.Sequential([\n",
        "    keras.layers.Flatten(input_shape = (28, 28)),\n",
        "    keras.layers.Dense(256, activation = tensorflow.nn.relu),\n",
        "    keras.layers.Dense(128, activation = tensorflow.nn.relu),\n",
        "    keras.layers.Dense(64, activation = tensorflow.nn.relu),    # terceira camada escondida\n",
        "    keras.layers.Dense(10, activation = tensorflow.nn.softmax)\n",
        "])\n",
        "\n",
        "model.compile(optimizer = 'adam', loss = 'sparse_categorical_crossentropy')\n",
        "model.fit(train_imgs, train_labels)"
      ],
      "metadata": {
        "colab": {
          "base_uri": "https://localhost:8080/"
        },
        "id": "9OuP-fLfs2QZ",
        "outputId": "fca8ee25-51e3-47f0-d2a7-03744861e58f"
      },
      "execution_count": 16,
      "outputs": [
        {
          "output_type": "stream",
          "name": "stdout",
          "text": [
            "1875/1875 [==============================] - 7s 3ms/step - loss: 0.4862\n"
          ]
        },
        {
          "output_type": "execute_result",
          "data": {
            "text/plain": [
              "<keras.callbacks.History at 0x7f96c75a6d30>"
            ]
          },
          "metadata": {},
          "execution_count": 16
        }
      ]
    },
    {
      "cell_type": "markdown",
      "source": [
        "* Na execução desta observação, a perda foi incrementada de 0.4777 para 0.4854.\n",
        "\n",
        "* Neste caso de estudo, o aumento do tempo de execução foi irrelevante.\n",
        "\n",
        "* Aumentar a quantidade de camadas escondidas, tornando a rede mais profunda, nem sempre trará benefícios para o modelo, além de poder aumentar significativamente o tempo de execução em modelos de aplicação real.\n",
        "\n",
        "* Tanto a quantidade de neurônios quanto as funções de ativação precisarão de uma exploração, um processo mais subjetivo do que exato."
      ],
      "metadata": {
        "id": "j-qdcj-1ugzO"
      }
    },
    {
      "cell_type": "markdown",
      "source": [
        "# 3º Modelo: Normalização e 2 camadas escondidas"
      ],
      "metadata": {
        "id": "Y_nZrS7F7Kpj"
      }
    },
    {
      "cell_type": "code",
      "source": [
        "model = keras.Sequential([\n",
        "    keras.layers.Flatten(input_shape = (28, 28)),\n",
        "    keras.layers.Dense(256, activation = tensorflow.nn.relu),\n",
        "    keras.layers.Dense(128, activation = tensorflow.nn.relu),\n",
        "    keras.layers.Dense(10, activation = tensorflow.nn.softmax)\n",
        "])\n",
        "\n",
        "model.compile(optimizer = 'adam', loss = 'sparse_categorical_crossentropy')\n",
        "model.fit(train_imgs, train_labels)"
      ],
      "metadata": {
        "colab": {
          "base_uri": "https://localhost:8080/"
        },
        "id": "_tZsVIVvuTr2",
        "outputId": "94b372c5-fa72-43f2-d131-f99104df1fb2"
      },
      "execution_count": 17,
      "outputs": [
        {
          "output_type": "stream",
          "name": "stdout",
          "text": [
            "1875/1875 [==============================] - 7s 3ms/step - loss: 0.4789\n"
          ]
        },
        {
          "output_type": "execute_result",
          "data": {
            "text/plain": [
              "<keras.callbacks.History at 0x7f96c74ef520>"
            ]
          },
          "metadata": {},
          "execution_count": 17
        }
      ]
    },
    {
      "cell_type": "markdown",
      "source": [
        "# Redução de perda: Quantidade de épocas"
      ],
      "metadata": {
        "id": "Cff92Zdx8SG0"
      }
    },
    {
      "cell_type": "markdown",
      "source": [
        "* Épocas são os contatos que o modelo tem com o dataset no processo de aprendizagem, em que os ajustes de pesos das conexões são feitas entre os neurônios.\n",
        "\n",
        "* A seguir, as quantidades de épocas serão alteradas para análise da sua influência na perda.\n",
        "\n",
        "* O tempo de execução terá um aumento linear, diretamente proporcional à execução com somento uma época."
      ],
      "metadata": {
        "id": "yBxX1Foa8jGj"
      }
    },
    {
      "cell_type": "code",
      "source": [
        "model = keras.Sequential([\n",
        "    keras.layers.Flatten(input_shape = (28, 28)),\n",
        "    keras.layers.Dense(256, activation = tensorflow.nn.relu),\n",
        "    keras.layers.Dense(128, activation = tensorflow.nn.relu),\n",
        "    keras.layers.Dense(10, activation = tensorflow.nn.softmax)\n",
        "])\n",
        "\n",
        "model.compile(optimizer = 'adam', loss = 'sparse_categorical_crossentropy')\n",
        "model.fit(train_imgs, train_labels, epochs = 5)"
      ],
      "metadata": {
        "colab": {
          "base_uri": "https://localhost:8080/"
        },
        "id": "_H_wQ2tw7UN6",
        "outputId": "0f215d40-d1b5-45d0-89f1-b9a93053f4d5"
      },
      "execution_count": 18,
      "outputs": [
        {
          "output_type": "stream",
          "name": "stdout",
          "text": [
            "Epoch 1/5\n",
            "1875/1875 [==============================] - 8s 4ms/step - loss: 0.4794\n",
            "Epoch 2/5\n",
            "1875/1875 [==============================] - 6s 3ms/step - loss: 0.3595\n",
            "Epoch 3/5\n",
            "1875/1875 [==============================] - 6s 3ms/step - loss: 0.3221\n",
            "Epoch 4/5\n",
            "1875/1875 [==============================] - 7s 3ms/step - loss: 0.2991\n",
            "Epoch 5/5\n",
            "1875/1875 [==============================] - 6s 3ms/step - loss: 0.2801\n"
          ]
        },
        {
          "output_type": "execute_result",
          "data": {
            "text/plain": [
              "<keras.callbacks.History at 0x7f96c742ee80>"
            ]
          },
          "metadata": {},
          "execution_count": 18
        }
      ]
    },
    {
      "cell_type": "markdown",
      "source": [
        "* A perda foi diminindo gradativamente, mas mesmo neste dataset de estudo o aumento de tempo já foi perceptível."
      ],
      "metadata": {
        "id": "UiUbvKtz9dQY"
      }
    },
    {
      "cell_type": "markdown",
      "source": [
        "# 4º Modelo: Normalização, 2 camadas escondidas, 5 épocas"
      ],
      "metadata": {
        "id": "gjPKmJKC_Xze"
      }
    },
    {
      "cell_type": "code",
      "source": [
        "model = keras.Sequential([\n",
        "    keras.layers.Flatten(input_shape = (28, 28)),\n",
        "    keras.layers.Dense(256, activation = tensorflow.nn.relu),\n",
        "    keras.layers.Dense(128, activation = tensorflow.nn.relu),\n",
        "    keras.layers.Dense(10, activation = tensorflow.nn.softmax)\n",
        "])\n",
        "\n",
        "model.compile(optimizer = 'adam', loss = 'sparse_categorical_crossentropy', metrics = ['accuracy'])\n",
        "model.fit(train_imgs, train_labels, epochs = 5)"
      ],
      "metadata": {
        "colab": {
          "base_uri": "https://localhost:8080/"
        },
        "id": "GxdKPzSu_i1t",
        "outputId": "527ef0fd-2173-4eb0-8f67-49e0444a3f39"
      },
      "execution_count": 19,
      "outputs": [
        {
          "output_type": "stream",
          "name": "stdout",
          "text": [
            "Epoch 1/5\n",
            "1875/1875 [==============================] - 7s 4ms/step - loss: 0.4766 - accuracy: 0.8274\n",
            "Epoch 2/5\n",
            "1875/1875 [==============================] - 7s 4ms/step - loss: 0.3597 - accuracy: 0.8667\n",
            "Epoch 3/5\n",
            "1875/1875 [==============================] - 7s 4ms/step - loss: 0.3267 - accuracy: 0.8794\n",
            "Epoch 4/5\n",
            "1875/1875 [==============================] - 7s 4ms/step - loss: 0.3007 - accuracy: 0.8872\n",
            "Epoch 5/5\n",
            "1875/1875 [==============================] - 6s 3ms/step - loss: 0.2842 - accuracy: 0.8938\n"
          ]
        },
        {
          "output_type": "execute_result",
          "data": {
            "text/plain": [
              "<keras.callbacks.History at 0x7f96c735fdf0>"
            ]
          },
          "metadata": {},
          "execution_count": 19
        }
      ]
    },
    {
      "cell_type": "markdown",
      "source": [
        "# Métrica de avaliação: Acurácia"
      ],
      "metadata": {
        "id": "L4cm0OXl-Aqn"
      }
    },
    {
      "cell_type": "markdown",
      "source": [
        "* A acurácia irá medir o quanto o modelo está acertando.\n",
        "\n",
        "* O ideal é que, à medida que o modelo é reestruturado, a perda diminua e a acurácia aumente."
      ],
      "metadata": {
        "id": "FVIoUHSh-j4m"
      }
    },
    {
      "cell_type": "code",
      "source": [
        "model = keras.Sequential([\n",
        "    keras.layers.Flatten(input_shape = (28, 28)),\n",
        "    keras.layers.Dense(256, activation = tensorflow.nn.relu),\n",
        "    keras.layers.Dense(128, activation = tensorflow.nn.relu),\n",
        "    keras.layers.Dense(10, activation = tensorflow.nn.softmax)\n",
        "])\n",
        "\n",
        "model.compile(optimizer = 'adam', loss = 'sparse_categorical_crossentropy', metrics = ['accuracy'])\n",
        "model.fit(train_imgs, train_labels, epochs = 5)"
      ],
      "metadata": {
        "colab": {
          "base_uri": "https://localhost:8080/"
        },
        "id": "yWmQATyR9Nvh",
        "outputId": "41c154db-cee1-4cd3-e78b-58b7c1b6a1d3"
      },
      "execution_count": 20,
      "outputs": [
        {
          "output_type": "stream",
          "name": "stdout",
          "text": [
            "Epoch 1/5\n",
            "1875/1875 [==============================] - 7s 3ms/step - loss: 0.4753 - accuracy: 0.8290\n",
            "Epoch 2/5\n",
            "1875/1875 [==============================] - 7s 4ms/step - loss: 0.3552 - accuracy: 0.8685\n",
            "Epoch 3/5\n",
            "1875/1875 [==============================] - 6s 3ms/step - loss: 0.3222 - accuracy: 0.8814\n",
            "Epoch 4/5\n",
            "1875/1875 [==============================] - 6s 3ms/step - loss: 0.2988 - accuracy: 0.8883\n",
            "Epoch 5/5\n",
            "1875/1875 [==============================] - 7s 3ms/step - loss: 0.2822 - accuracy: 0.8950\n"
          ]
        },
        {
          "output_type": "execute_result",
          "data": {
            "text/plain": [
              "<keras.callbacks.History at 0x7f96c72d3be0>"
            ]
          },
          "metadata": {},
          "execution_count": 20
        }
      ]
    },
    {
      "cell_type": "markdown",
      "source": [
        "* A acurácia aumentou de acordo com a quantidade de épocas executadas."
      ],
      "metadata": {
        "id": "-IWxtDXN-Zux"
      }
    },
    {
      "cell_type": "markdown",
      "source": [
        "# Testes do Modelo"
      ],
      "metadata": {
        "id": "pcG4UW3I_BJ5"
      }
    },
    {
      "cell_type": "markdown",
      "source": [
        "## Elemento a elemento"
      ],
      "metadata": {
        "id": "Q5U3Z9JkB0Z3"
      }
    },
    {
      "cell_type": "markdown",
      "source": [
        "* Sobre o modelo com as aletrações: imagens normalizadas, segunda camada escondida e 5 épocas."
      ],
      "metadata": {
        "id": "1X9ncUVz_FvL"
      }
    },
    {
      "cell_type": "code",
      "source": [
        "testes = model.predict(test_imgs)"
      ],
      "metadata": {
        "colab": {
          "base_uri": "https://localhost:8080/"
        },
        "id": "U5c0_ZWz-LHr",
        "outputId": "54d0c816-62c7-4dbd-bef8-8ebf89ed5b8e"
      },
      "execution_count": 21,
      "outputs": [
        {
          "output_type": "stream",
          "name": "stdout",
          "text": [
            "313/313 [==============================] - 1s 2ms/step\n"
          ]
        }
      ]
    },
    {
      "cell_type": "code",
      "source": [
        "testes[0]"
      ],
      "metadata": {
        "colab": {
          "base_uri": "https://localhost:8080/"
        },
        "id": "oBjlOQEE_45J",
        "outputId": "712bae01-2cb0-4ab3-9328-b4baae581904"
      },
      "execution_count": 22,
      "outputs": [
        {
          "output_type": "execute_result",
          "data": {
            "text/plain": [
              "array([0.        , 0.        , 0.        , 0.        , 0.        ,\n",
              "       0.        , 0.        , 0.        , 0.        , 0.99999994],\n",
              "      dtype=float32)"
            ]
          },
          "metadata": {},
          "execution_count": 22
        }
      ]
    },
    {
      "cell_type": "code",
      "source": [
        "np.argmax(testes[0])"
      ],
      "metadata": {
        "colab": {
          "base_uri": "https://localhost:8080/"
        },
        "id": "BCvF6AVVBPVn",
        "outputId": "3b76ce24-b848-4b66-9af1-b94cca4ebb73"
      },
      "execution_count": 23,
      "outputs": [
        {
          "output_type": "execute_result",
          "data": {
            "text/plain": [
              "9"
            ]
          },
          "metadata": {},
          "execution_count": 23
        }
      ]
    },
    {
      "cell_type": "markdown",
      "source": [
        "* A Softmax, usada na camada de saída, retorna a probabilidade de uma entrada pertencer a cada categoria.\n",
        "\n",
        "* No primeiro item do dataset, demonstrado acima, foi calculada uma probabilidade de quase 100% da imagem representar um item da última classe."
      ],
      "metadata": {
        "id": "9UhG_FONAs-U"
      }
    },
    {
      "cell_type": "code",
      "source": [
        "print(f'Resultado do teste: {np.argmax(testes[0])}')\n",
        "print(f'Número da imagem de teste: {test_labels[0]}')"
      ],
      "metadata": {
        "colab": {
          "base_uri": "https://localhost:8080/"
        },
        "id": "iYC__khnAfko",
        "outputId": "cf1b2aef-35e8-4d07-8d27-8bd060b712e4"
      },
      "execution_count": 24,
      "outputs": [
        {
          "output_type": "stream",
          "name": "stdout",
          "text": [
            "Resultado do teste: 9\n",
            "Número da imagem de teste: 9\n"
          ]
        }
      ]
    },
    {
      "cell_type": "markdown",
      "source": [
        "## Evaluate"
      ],
      "metadata": {
        "id": "yHqLVwtACSpm"
      }
    },
    {
      "cell_type": "markdown",
      "source": [
        "* 1º Resultados: Perda do teste\n",
        "* 2º Resultado: Acurácia do teste"
      ],
      "metadata": {
        "id": "BFqngXweCjAE"
      }
    },
    {
      "cell_type": "code",
      "source": [
        "test_loss, test_accuracy = model.evaluate(test_imgs, test_labels)\n",
        "print(f'Perda: {test_loss}')\n",
        "print(f'Acuráci: {test_accuracy}')"
      ],
      "metadata": {
        "colab": {
          "base_uri": "https://localhost:8080/"
        },
        "id": "ZfCokf8qB7J3",
        "outputId": "ee62fde3-b741-489d-f325-672781c4bfff"
      },
      "execution_count": 25,
      "outputs": [
        {
          "output_type": "stream",
          "name": "stdout",
          "text": [
            "313/313 [==============================] - 1s 2ms/step - loss: 62.3263 - accuracy: 0.8390\n",
            "Perda: 62.3262825012207\n",
            "Acuráci: 0.8389999866485596\n"
          ]
        }
      ]
    },
    {
      "cell_type": "code",
      "source": [
        "test_imgs_normalized = test_imgs/255\n",
        "\n",
        "test_loss, test_accuracy = model.evaluate(test_imgs_normalized, test_labels)\n",
        "print(f'Perda: {test_loss}')\n",
        "print(f'Acuráci: {test_accuracy}')"
      ],
      "metadata": {
        "colab": {
          "base_uri": "https://localhost:8080/"
        },
        "id": "p6bW07tJDoNg",
        "outputId": "4375e233-b672-4bdd-c224-1092fdeca0b9"
      },
      "execution_count": 26,
      "outputs": [
        {
          "output_type": "stream",
          "name": "stdout",
          "text": [
            "313/313 [==============================] - 1s 2ms/step - loss: 0.3464 - accuracy: 0.8765\n",
            "Perda: 0.3464445471763611\n",
            "Acuráci: 0.8765000104904175\n"
          ]
        }
      ]
    },
    {
      "cell_type": "markdown",
      "source": [
        "## Conjunto de Validação"
      ],
      "metadata": {
        "id": "HBpLitjJJO9q"
      }
    },
    {
      "cell_type": "markdown",
      "source": [
        "* Com a definição do validation_split, o treinamento passa a separar um conjunto para validação do modelo.\n",
        "\n",
        "* Os valores de perda e acurácia da validação são retornados junto com os do treino."
      ],
      "metadata": {
        "id": "__psUsIrzIly"
      }
    },
    {
      "cell_type": "code",
      "source": [
        "model = keras.Sequential([\n",
        "    keras.layers.Flatten(input_shape = (28, 28)),\n",
        "    keras.layers.Dense(256, activation = tensorflow.nn.relu),\n",
        "    keras.layers.Dense(128, activation = tensorflow.nn.relu),\n",
        "    keras.layers.Dense(10, activation = tensorflow.nn.softmax)\n",
        "])\n",
        "\n",
        "model.compile(optimizer = 'adam', loss = 'sparse_categorical_crossentropy', metrics = ['accuracy'])\n",
        "historico = model.fit(train_imgs, train_labels, epochs = 5, validation_split = 0.2)"
      ],
      "metadata": {
        "colab": {
          "base_uri": "https://localhost:8080/"
        },
        "id": "j633JUJKF88H",
        "outputId": "fae423d8-a655-4000-9b57-8c1534543168"
      },
      "execution_count": 27,
      "outputs": [
        {
          "output_type": "stream",
          "name": "stdout",
          "text": [
            "Epoch 1/5\n",
            "1500/1500 [==============================] - 7s 4ms/step - loss: 0.4931 - accuracy: 0.8215 - val_loss: 0.4026 - val_accuracy: 0.8534\n",
            "Epoch 2/5\n",
            "1500/1500 [==============================] - 6s 4ms/step - loss: 0.3679 - accuracy: 0.8643 - val_loss: 0.3697 - val_accuracy: 0.8672\n",
            "Epoch 3/5\n",
            "1500/1500 [==============================] - 6s 4ms/step - loss: 0.3316 - accuracy: 0.8765 - val_loss: 0.3394 - val_accuracy: 0.8731\n",
            "Epoch 4/5\n",
            "1500/1500 [==============================] - 6s 4ms/step - loss: 0.3031 - accuracy: 0.8866 - val_loss: 0.3551 - val_accuracy: 0.8717\n",
            "Epoch 5/5\n",
            "1500/1500 [==============================] - 6s 4ms/step - loss: 0.2892 - accuracy: 0.8917 - val_loss: 0.3317 - val_accuracy: 0.8768\n"
          ]
        }
      ]
    },
    {
      "cell_type": "markdown",
      "source": [
        "# Gráficos de Acurácia e Perda"
      ],
      "metadata": {
        "id": "b46eEYGb0EyL"
      }
    },
    {
      "cell_type": "code",
      "source": [
        "def plot_accuracy_loss(historico):\n",
        "  fig, axs = plt.subplots(1, 2, figsize = (12, 5))\n",
        "\n",
        "  axs[0].set_title('Acurácia por épocas', fontsize = 15)\n",
        "  axs[0].set(xlabel = 'épocas', ylabel = 'perda')\n",
        "  axs[0].plot(historico.history['accuracy'])\n",
        "  axs[0].plot(historico.history['val_accuracy'])\n",
        "\n",
        "  axs[1].set_title('Perda por épocas', fontsize = 15)\n",
        "  axs[1].set(xlabel = 'épocas', ylabel = 'perda')\n",
        "  axs[1].plot(historico.history['loss'])\n",
        "  axs[1].plot(historico.history['val_loss'])\n",
        "\n",
        "  plt.show()"
      ],
      "metadata": {
        "id": "StsbdyIUxOal"
      },
      "execution_count": 28,
      "outputs": []
    },
    {
      "cell_type": "markdown",
      "source": [
        "## Análise de 5 épocas"
      ],
      "metadata": {
        "id": "h1qdBZZBCLQ2"
      }
    },
    {
      "cell_type": "code",
      "source": [
        "historico.history"
      ],
      "metadata": {
        "colab": {
          "base_uri": "https://localhost:8080/"
        },
        "id": "AZxtUmHeJeYO",
        "outputId": "feacb25f-3522-4a04-ed86-d305a7a1f34b"
      },
      "execution_count": 29,
      "outputs": [
        {
          "output_type": "execute_result",
          "data": {
            "text/plain": [
              "{'loss': [0.49307194352149963,\n",
              "  0.3678533136844635,\n",
              "  0.33155936002731323,\n",
              "  0.3031306266784668,\n",
              "  0.2892332077026367],\n",
              " 'accuracy': [0.8214791417121887,\n",
              "  0.8642916679382324,\n",
              "  0.8764791488647461,\n",
              "  0.8865833282470703,\n",
              "  0.8917499780654907],\n",
              " 'val_loss': [0.40260258316993713,\n",
              "  0.36971667408943176,\n",
              "  0.33939576148986816,\n",
              "  0.35505911707878113,\n",
              "  0.3317367434501648],\n",
              " 'val_accuracy': [0.8534166812896729,\n",
              "  0.8671666383743286,\n",
              "  0.8730833530426025,\n",
              "  0.871666669845581,\n",
              "  0.8768333196640015]}"
            ]
          },
          "metadata": {},
          "execution_count": 29
        }
      ]
    },
    {
      "cell_type": "code",
      "source": [
        "plot_accuracy_loss(historico)"
      ],
      "metadata": {
        "colab": {
          "base_uri": "https://localhost:8080/",
          "height": 353
        },
        "id": "_QVOFNPGxi6F",
        "outputId": "f48d4bed-ea2e-4001-813d-557542185dc6"
      },
      "execution_count": 30,
      "outputs": [
        {
          "output_type": "display_data",
          "data": {
            "text/plain": [
              "<Figure size 864x360 with 2 Axes>"
            ],
            "image/png": "[encoded data removed]"
          },
          "metadata": {
            "needs_background": "light"
          }
        }
      ]
    },
    {
      "cell_type": "markdown",
      "source": [
        "* A acurácia aumentou no decorrer das 5 épocas. Portanto, seguiu como desejado.\n",
        "\n",
        "* A perda diminuiu no decorrer das 5 épocas. Também seguiu como desejado."
      ],
      "metadata": {
        "id": "GzV_C2Qn2m9i"
      }
    },
    {
      "cell_type": "markdown",
      "source": [
        "## Análise de 10 épocas"
      ],
      "metadata": {
        "id": "1NpxP2A533C1"
      }
    },
    {
      "cell_type": "code",
      "source": [
        "model = keras.Sequential([\n",
        "    keras.layers.Flatten(input_shape = (28, 28)),\n",
        "    keras.layers.Dense(256, activation = tensorflow.nn.relu),\n",
        "    keras.layers.Dense(128, activation = tensorflow.nn.relu),\n",
        "    keras.layers.Dense(10, activation = tensorflow.nn.softmax)\n",
        "])\n",
        "\n",
        "model.compile(optimizer = 'adam', loss = 'sparse_categorical_crossentropy', metrics = ['accuracy'])\n",
        "historico = model.fit(train_imgs, train_labels, epochs = 10, validation_split = 0.2)"
      ],
      "metadata": {
        "colab": {
          "base_uri": "https://localhost:8080/"
        },
        "id": "Cr6jYa0t2koN",
        "outputId": "88d1c3e0-b1c7-4b1c-d730-68e61f44018e"
      },
      "execution_count": 31,
      "outputs": [
        {
          "output_type": "stream",
          "name": "stdout",
          "text": [
            "Epoch 1/10\n",
            "1500/1500 [==============================] - 8s 5ms/step - loss: 0.4902 - accuracy: 0.8236 - val_loss: 0.4099 - val_accuracy: 0.8538\n",
            "Epoch 2/10\n",
            "1500/1500 [==============================] - 6s 4ms/step - loss: 0.3669 - accuracy: 0.8658 - val_loss: 0.3686 - val_accuracy: 0.8647\n",
            "Epoch 3/10\n",
            "1500/1500 [==============================] - 6s 4ms/step - loss: 0.3332 - accuracy: 0.8767 - val_loss: 0.3767 - val_accuracy: 0.8606\n",
            "Epoch 4/10\n",
            "1500/1500 [==============================] - 6s 4ms/step - loss: 0.3064 - accuracy: 0.8844 - val_loss: 0.3352 - val_accuracy: 0.8787\n",
            "Epoch 5/10\n",
            "1500/1500 [==============================] - 6s 4ms/step - loss: 0.2899 - accuracy: 0.8920 - val_loss: 0.3190 - val_accuracy: 0.8837\n",
            "Epoch 6/10\n",
            "1500/1500 [==============================] - 6s 4ms/step - loss: 0.2709 - accuracy: 0.8967 - val_loss: 0.3284 - val_accuracy: 0.8806\n",
            "Epoch 7/10\n",
            "1500/1500 [==============================] - 6s 4ms/step - loss: 0.2583 - accuracy: 0.9028 - val_loss: 0.3334 - val_accuracy: 0.8748\n",
            "Epoch 8/10\n",
            "1500/1500 [==============================] - 6s 4ms/step - loss: 0.2466 - accuracy: 0.9070 - val_loss: 0.3158 - val_accuracy: 0.8893\n",
            "Epoch 9/10\n",
            "1500/1500 [==============================] - 6s 4ms/step - loss: 0.2348 - accuracy: 0.9115 - val_loss: 0.3323 - val_accuracy: 0.8866\n",
            "Epoch 10/10\n",
            "1500/1500 [==============================] - 6s 4ms/step - loss: 0.2253 - accuracy: 0.9135 - val_loss: 0.3520 - val_accuracy: 0.8783\n"
          ]
        }
      ]
    },
    {
      "cell_type": "markdown",
      "source": [
        "### Acurácia"
      ],
      "metadata": {
        "id": "iGpmeZHt-0Ri"
      }
    },
    {
      "cell_type": "code",
      "source": [
        "plt.plot(historico.history['accuracy'])\n",
        "plt.plot(historico.history['val_accuracy'])\n",
        "\n",
        "plt.title('Acurácia por épocas', fontsize = 15)\n",
        "plt.xlabel('épocas')\n",
        "plt.ylabel('acurácia')\n",
        "plt.legend(['treino', 'validação'])\n",
        "plt.show()"
      ],
      "metadata": {
        "colab": {
          "base_uri": "https://localhost:8080/",
          "height": 299
        },
        "id": "keJSe5G_4IIw",
        "outputId": "aaa28fcf-9c1f-4bfa-9fbd-78af6ac794a5"
      },
      "execution_count": 32,
      "outputs": [
        {
          "output_type": "display_data",
          "data": {
            "text/plain": [
              "<Figure size 432x288 with 1 Axes>"
            ],
            "image/png": "[encoded data removed]"
          },
          "metadata": {
            "needs_background": "light"
          }
        }
      ]
    },
    {
      "cell_type": "markdown",
      "source": [
        "* A Acurácia do treino sobe de forma consistente, mas a de validação não só não consegue aumentar o suficiente para acompanhá-la como oscila no decorrer das épocas."
      ],
      "metadata": {
        "id": "lmlifLsX727b"
      }
    },
    {
      "cell_type": "markdown",
      "source": [
        "### Perda"
      ],
      "metadata": {
        "id": "eHi1KIy2CaMy"
      }
    },
    {
      "cell_type": "code",
      "source": [
        "plt.plot(historico.history['loss'])\n",
        "plt.plot(historico.history['val_loss'])\n",
        "\n",
        "plt.title('Perda por épocas', fontsize = 15)\n",
        "plt.xlabel('épocas')\n",
        "plt.ylabel('perda')\n",
        "plt.legend(['treino', 'validação'])\n",
        "plt.show()"
      ],
      "metadata": {
        "colab": {
          "base_uri": "https://localhost:8080/",
          "height": 299
        },
        "id": "zMBgCqj14re2",
        "outputId": "cde243eb-20b5-450b-ac02-0e6e61e41800"
      },
      "execution_count": 33,
      "outputs": [
        {
          "output_type": "display_data",
          "data": {
            "text/plain": [
              "<Figure size 432x288 with 1 Axes>"
            ],
            "image/png": "[encoded data removed]"
          },
          "metadata": {
            "needs_background": "light"
          }
        }
      ]
    },
    {
      "cell_type": "markdown",
      "source": [
        "* Algo semelhante acontece com os valores de perda, a validação não consegue acompanhar o treino."
      ],
      "metadata": {
        "id": "KAkBeFf-8Lim"
      }
    },
    {
      "cell_type": "markdown",
      "source": [
        "* Os dois gráficos sugereme o modelo está sofrendo um Overfitting, ou seja, está tão especializado nos padrões das imagens de treinamento que não consegue interpretar novas imagens, do conjunto de validação.\n",
        "\n",
        "* Para evitar o oferfitting, pode-se manter a quantidade de épocas no intervalo em que os resultados estão mais estáveis. Onde a tendência da perda e da acurácia estão favoráveis no treino e os resultados na validação ainda estão próximos.\n",
        "\n",
        "* Neste caso, entre [4, 6]. Será mantido o 4º modelo."
      ],
      "metadata": {
        "id": "YuMBwbU28b7G"
      }
    },
    {
      "cell_type": "markdown",
      "source": [
        "# Mais alterações nas camadas escondidas"
      ],
      "metadata": {
        "id": "dMCEmhOBCxF0"
      }
    },
    {
      "cell_type": "markdown",
      "source": [
        "## Dropout"
      ],
      "metadata": {
        "id": "iOpB4WpSEHmk"
      }
    },
    {
      "cell_type": "markdown",
      "source": [
        "* Irá inativar algumas ligações entre duas camadas, como se os neurônios estivessem inativos. Recebe uma porcentagem de ligações que serão desligadas.\n",
        "\n",
        "* Pode ser considerado uma Normalização."
      ],
      "metadata": {
        "id": "cYLdMGQrFQnN"
      }
    },
    {
      "cell_type": "code",
      "source": [
        "model = keras.Sequential([\n",
        "    keras.layers.Flatten(input_shape = (28, 28)),\n",
        "    keras.layers.Dense(256, activation = tensorflow.nn.relu),\n",
        "    keras.layers.Dense(128, activation = tensorflow.nn.relu),\n",
        "    keras.layers.Dropout(0.2),  # nova camada escondida\n",
        "    keras.layers.Dense(10, activation = tensorflow.nn.softmax)\n",
        "])\n",
        "\n",
        "model.compile(optimizer = 'adam', loss = 'sparse_categorical_crossentropy', metrics = ['accuracy'])\n",
        "historico = model.fit(train_imgs, train_labels, epochs = 5, validation_split = 0.2)"
      ],
      "metadata": {
        "colab": {
          "base_uri": "https://localhost:8080/"
        },
        "id": "oTpcBx9FBDmD",
        "outputId": "52e4fc14-1389-4617-d8f2-abd2870f7ae8"
      },
      "execution_count": 34,
      "outputs": [
        {
          "output_type": "stream",
          "name": "stdout",
          "text": [
            "Epoch 1/5\n",
            "1500/1500 [==============================] - 7s 4ms/step - loss: 0.5244 - accuracy: 0.8094 - val_loss: 0.4299 - val_accuracy: 0.8349\n",
            "Epoch 2/5\n",
            "1500/1500 [==============================] - 6s 4ms/step - loss: 0.3899 - accuracy: 0.8570 - val_loss: 0.4073 - val_accuracy: 0.8490\n",
            "Epoch 3/5\n",
            "1500/1500 [==============================] - 6s 4ms/step - loss: 0.3464 - accuracy: 0.8714 - val_loss: 0.3430 - val_accuracy: 0.8731\n",
            "Epoch 4/5\n",
            "1500/1500 [==============================] - 6s 4ms/step - loss: 0.3239 - accuracy: 0.8791 - val_loss: 0.3519 - val_accuracy: 0.8722\n",
            "Epoch 5/5\n",
            "1500/1500 [==============================] - 6s 4ms/step - loss: 0.3039 - accuracy: 0.8878 - val_loss: 0.3224 - val_accuracy: 0.8841\n"
          ]
        }
      ]
    },
    {
      "cell_type": "markdown",
      "source": [
        "### Gráficos de Validação"
      ],
      "metadata": {
        "id": "FQ3n1TuXDA1e"
      }
    },
    {
      "cell_type": "code",
      "source": [
        "plot_accuracy_loss(historico)"
      ],
      "metadata": {
        "colab": {
          "base_uri": "https://localhost:8080/",
          "height": 353
        },
        "id": "sKCUhR3VySn4",
        "outputId": "7e2062ba-16b7-4af4-befc-6b8273fae374"
      },
      "execution_count": 35,
      "outputs": [
        {
          "output_type": "display_data",
          "data": {
            "text/plain": [
              "<Figure size 864x360 with 2 Axes>"
            ],
            "image/png": "[encoded data removed]"
          },
          "metadata": {
            "needs_background": "light"
          }
        }
      ]
    },
    {
      "cell_type": "markdown",
      "source": [
        "* O comportamento das curvas de validação melhoraram em comparação com o modelo sem Dropout. Apesar dos resultados de treino serem um pouco piores, a perda e acurácia da validação estão melhores."
      ],
      "metadata": {
        "id": "YqUedOuLF6fn"
      }
    },
    {
      "cell_type": "markdown",
      "source": [
        "# Salvando e utilizando modelo treinado"
      ],
      "metadata": {
        "id": "1b7jL9GiL248"
      }
    },
    {
      "cell_type": "code",
      "source": [
        "model.save('model.h5')"
      ],
      "metadata": {
        "id": "PwqlZ3z3DNSq"
      },
      "execution_count": 36,
      "outputs": []
    },
    {
      "cell_type": "code",
      "source": [
        "from tensorflow.keras.models import load_model\n",
        "\n",
        "saved_model = load_model('model.h5')"
      ],
      "metadata": {
        "id": "ll0wpppEMBSY"
      },
      "execution_count": 37,
      "outputs": []
    },
    {
      "cell_type": "code",
      "source": [
        "tests = saved_model.predict(test_imgs_normalized)\n",
        "print(f'Resultado do teste: {np.argmax(tests[0])}')\n",
        "print(f'Rótulo da imagem: {test_labels[0]}')"
      ],
      "metadata": {
        "colab": {
          "base_uri": "https://localhost:8080/"
        },
        "id": "YzFx_xLTM-iG",
        "outputId": "4ae49459-ad7f-4783-93d7-547169384308"
      },
      "execution_count": 38,
      "outputs": [
        {
          "output_type": "stream",
          "name": "stdout",
          "text": [
            "313/313 [==============================] - 1s 2ms/step\n",
            "Resultado do teste: 9\n",
            "Rótulo da imagem: 9\n"
          ]
        }
      ]
    },
    {
      "cell_type": "markdown",
      "source": [
        "# Análises sobre o modelo e teoria"
      ],
      "metadata": {
        "id": "dNAeII-hGYem"
      }
    },
    {
      "cell_type": "markdown",
      "source": [
        "* A partir daqui, foram feitos alguns exercícios do curso para fixar conceitos relacionados a Redes Neurais. Não necessariamente têm uma aplicação prática."
      ],
      "metadata": {
        "id": "o07HYW2YX6-P"
      }
    },
    {
      "cell_type": "markdown",
      "source": [
        "## Sumário, descrição das camadas"
      ],
      "metadata": {
        "id": "Nz0LmrWQG223"
      }
    },
    {
      "cell_type": "code",
      "source": [
        "model.summary()"
      ],
      "metadata": {
        "colab": {
          "base_uri": "https://localhost:8080/"
        },
        "id": "a6GiAUdXGfKr",
        "outputId": "ad7058a2-9f74-4929-f76c-7de03c423979"
      },
      "execution_count": 39,
      "outputs": [
        {
          "output_type": "stream",
          "name": "stdout",
          "text": [
            "Model: \"sequential_10\"\n",
            "_________________________________________________________________\n",
            " Layer (type)                Output Shape              Param #   \n",
            "=================================================================\n",
            " flatten_10 (Flatten)        (None, 784)               0         \n",
            "                                                                 \n",
            " dense_29 (Dense)            (None, 256)               200960    \n",
            "                                                                 \n",
            " dense_30 (Dense)            (None, 128)               32896     \n",
            "                                                                 \n",
            " dropout (Dropout)           (None, 128)               0         \n",
            "                                                                 \n",
            " dense_31 (Dense)            (None, 10)                1290      \n",
            "                                                                 \n",
            "=================================================================\n",
            "Total params: 235,146\n",
            "Trainable params: 235,146\n",
            "Non-trainable params: 0\n",
            "_________________________________________________________________\n"
          ]
        }
      ]
    },
    {
      "cell_type": "markdown",
      "source": [
        "* O Param # mostra a quantidade de parâmetros que são considerados na camada.\n",
        "  * 1º há apenas o achatamento, o valor ficou 0\n",
        "  * 2º (784 (achatamento 28x28) + 1 (viés)) x 256 (neurônios) \n",
        "  * 3º 256 (valores propagados da camada anterior) x 128 (neurônios) + 128 (pesos)\n",
        "  * 4º Dropout 20%\n",
        "  * 5º 128 (valores propagados) x 10 (neurônios) + 10 (pesos)\n",
        "\n",
        "* Os pesos são calculadosn e otimizados nas etapas de backpropagation."
      ],
      "metadata": {
        "id": "ejuTtwoJHQRd"
      }
    },
    {
      "cell_type": "markdown",
      "source": [
        "## Pesos e Vieses"
      ],
      "metadata": {
        "id": "lM1Eq7pP65a1"
      }
    },
    {
      "cell_type": "markdown",
      "source": [
        "### Pesos da primeira camada Dense"
      ],
      "metadata": {
        "id": "6QzEPmScRHQS"
      }
    },
    {
      "cell_type": "code",
      "source": [
        "model.layers[1].get_weights()[0]"
      ],
      "metadata": {
        "colab": {
          "base_uri": "https://localhost:8080/"
        },
        "id": "N7O084cxGiKj",
        "outputId": "0ae6a927-3eda-40fa-9a84-9976a47f74eb"
      },
      "execution_count": 40,
      "outputs": [
        {
          "output_type": "execute_result",
          "data": {
            "text/plain": [
              "array([[-0.06120823,  0.04349517, -0.05569858, ...,  0.06058201,\n",
              "        -0.07203981, -0.03120046],\n",
              "       [ 0.0601459 , -0.07939421,  0.10665718, ..., -0.12965904,\n",
              "        -0.05674581, -0.1038164 ],\n",
              "       [-0.02151072, -0.10366576,  0.05336111, ..., -0.07552362,\n",
              "         0.05814559, -0.12788932],\n",
              "       ...,\n",
              "       [ 0.00893271, -0.07485013,  0.09177534, ...,  0.13985595,\n",
              "         0.01010508,  0.01905429],\n",
              "       [ 0.10792442,  0.05917235, -0.01173389, ...,  0.23911488,\n",
              "         0.0436545 ,  0.00981228],\n",
              "       [ 0.00648854,  0.00710258,  0.0774351 , ...,  0.16936867,\n",
              "        -0.11671699, -0.08928612]], dtype=float32)"
            ]
          },
          "metadata": {},
          "execution_count": 40
        }
      ]
    },
    {
      "cell_type": "markdown",
      "source": [
        "### Vieses da primeira camada Dense"
      ],
      "metadata": {
        "id": "w8iqkjelRM2W"
      }
    },
    {
      "cell_type": "markdown",
      "source": [
        "* Os Vieses indicam o que está mais próximo ou mais distante de conseguir o resultado esperado.\n",
        "  * Por exemplo: uma saia está mais próxima de um vestido do que de um sapato."
      ],
      "metadata": {
        "id": "PbWbaimzRWfB"
      }
    },
    {
      "cell_type": "code",
      "source": [
        "len(model.layers[1].get_weights()[1])"
      ],
      "metadata": {
        "colab": {
          "base_uri": "https://localhost:8080/"
        },
        "id": "UXRCwCZ7RztD",
        "outputId": "652cb89e-ffa3-4571-e526-f705252f6d37"
      },
      "execution_count": 41,
      "outputs": [
        {
          "output_type": "execute_result",
          "data": {
            "text/plain": [
              "256"
            ]
          },
          "metadata": {},
          "execution_count": 41
        }
      ]
    },
    {
      "cell_type": "code",
      "source": [
        "model.layers[1].get_weights()[1]"
      ],
      "metadata": {
        "colab": {
          "base_uri": "https://localhost:8080/"
        },
        "id": "jYo42MhdKgr7",
        "outputId": "c6a98ac9-a972-4191-cacb-44e82ec501c7"
      },
      "execution_count": 42,
      "outputs": [
        {
          "output_type": "execute_result",
          "data": {
            "text/plain": [
              "array([ 2.65646428e-01, -3.64158936e-02,  2.59563863e-01, -1.59716129e-01,\n",
              "        1.39424056e-02, -2.90581226e-01,  7.68650770e-02, -1.32615864e-02,\n",
              "        4.88973707e-02,  2.40578204e-01,  1.21367007e-01,  2.29893446e-01,\n",
              "        4.81509678e-02,  1.35396272e-01,  1.42121008e-02,  1.67943254e-01,\n",
              "       -1.71077579e-01, -1.77848861e-02,  1.10644519e-01,  4.57443334e-02,\n",
              "       -2.40465961e-02,  2.01073542e-01,  4.79969382e-02,  6.53483719e-02,\n",
              "        1.05407856e-01,  1.67045146e-01,  2.30013832e-01, -1.53113995e-02,\n",
              "       -1.45667523e-01,  1.17032737e-01, -2.41923388e-02,  3.17731202e-01,\n",
              "       -1.45303654e-02,  2.21014798e-01,  2.70980388e-01, -2.00907663e-01,\n",
              "        1.15536906e-01,  1.98474884e-01,  1.88754301e-03,  5.74006699e-02,\n",
              "        9.35245082e-02,  6.16551042e-02,  1.48854777e-01, -8.08710009e-02,\n",
              "        1.42414674e-01, -6.19825162e-03,  7.39758043e-03, -1.73675716e-02,\n",
              "       -2.64868643e-02, -2.12067012e-02, -3.88643146e-02,  2.22053573e-01,\n",
              "       -5.46136759e-02,  2.47657415e-03,  1.55144870e-01,  8.11554119e-02,\n",
              "       -9.36640427e-03,  7.23916991e-03,  5.08831665e-02,  1.96865648e-01,\n",
              "        6.76690415e-02,  6.94842488e-02,  2.44393319e-01,  1.30710587e-01,\n",
              "       -9.79373306e-02,  9.74068269e-02,  7.90920109e-02,  6.69936761e-02,\n",
              "        7.51935085e-03, -2.42399052e-01,  1.02040522e-01,  9.60978568e-02,\n",
              "        1.35249525e-01, -8.42121318e-02, -2.14878377e-02,  2.65658706e-01,\n",
              "        1.07033677e-01, -1.10421162e-02, -2.74906978e-02,  1.09742381e-01,\n",
              "       -1.06390312e-01,  4.62342426e-03,  1.82692111e-01,  4.69615981e-02,\n",
              "       -3.07555646e-02, -1.73896402e-02, -3.79895300e-01, -1.37723401e-01,\n",
              "        1.09385233e-02, -1.71969414e-01, -2.79715430e-04,  8.57507996e-03,\n",
              "        5.60648516e-02, -6.63489848e-02,  1.38968602e-01,  3.74136493e-02,\n",
              "        9.67722833e-02, -8.59105960e-03, -3.05380095e-02,  2.99990535e-01,\n",
              "        2.61946768e-01,  2.50602692e-01,  2.36246258e-01, -1.62643064e-02,\n",
              "        6.46524578e-02, -1.84134841e-01,  1.55559614e-01,  7.80900419e-02,\n",
              "        1.88309565e-01, -3.04168314e-02, -6.23423010e-02, -1.23208985e-02,\n",
              "        2.32272465e-02, -2.03740045e-01,  2.75586098e-01,  4.29548621e-02,\n",
              "        2.44913995e-02,  1.55347735e-01,  3.46060783e-01,  2.19875038e-01,\n",
              "       -8.25440735e-02, -1.76323093e-02, -1.51329204e-01, -7.65347341e-03,\n",
              "        7.81439692e-02,  5.02016209e-02,  8.09397325e-02, -1.55057102e-01,\n",
              "        4.38053943e-02, -2.77712382e-02,  2.21384540e-01, -1.77176163e-01,\n",
              "       -1.30282789e-02,  2.04627663e-02, -6.25431119e-03,  1.28066480e-01,\n",
              "       -2.69980505e-02, -1.44219594e-02,  9.33033451e-02,  1.60796810e-02,\n",
              "        8.43732879e-02, -1.10742133e-02, -9.28834639e-03,  1.85667023e-01,\n",
              "       -2.85661072e-01, -1.61819924e-02,  4.77234554e-03, -1.20588373e-02,\n",
              "        2.02767074e-01,  1.10321335e-01,  6.71258196e-02, -2.29801819e-01,\n",
              "       -1.35848925e-01,  1.47407442e-01, -2.37858966e-02, -1.46171421e-01,\n",
              "        2.18854576e-01,  2.36378521e-01,  2.20348045e-01,  9.45625547e-03,\n",
              "        2.22907051e-01,  6.14460930e-02, -3.35487388e-02, -2.19989851e-01,\n",
              "        1.48316845e-01,  2.59219527e-01, -1.43720452e-02,  2.40150243e-02,\n",
              "        2.39660904e-01, -5.59666269e-02,  1.70875080e-02, -7.31390193e-02,\n",
              "        3.98157001e-01, -9.02125463e-02, -4.48786877e-02,  1.71416894e-01,\n",
              "        1.94049090e-01,  9.50996205e-02, -1.93495765e-01,  4.59844172e-02,\n",
              "        1.57320976e-01,  2.31109381e-01,  8.34637955e-02,  1.37116790e-01,\n",
              "        2.90740728e-01,  1.18864357e-01,  1.28103659e-01, -1.03846481e-02,\n",
              "       -1.13502041e-01, -1.13579646e-01,  4.39265482e-02, -3.58866388e-03,\n",
              "        6.89831823e-02,  2.05945894e-01, -1.27561599e-01,  1.84612665e-02,\n",
              "        3.75447683e-02,  5.17358184e-02,  6.75294697e-02,  9.27740932e-02,\n",
              "        1.65151190e-02,  1.27994064e-02,  1.50486395e-01,  4.97690678e-01,\n",
              "        1.33093223e-01,  2.75859267e-01,  2.32042849e-01,  1.32454887e-01,\n",
              "       -2.47633047e-02,  4.41046715e-01,  4.05406579e-02,  3.67234319e-01,\n",
              "       -2.14593858e-02,  3.17531414e-02, -1.21654727e-01,  3.30626696e-01,\n",
              "        4.80388962e-02,  2.56931484e-01,  1.13983482e-01, -2.36034859e-02,\n",
              "       -1.56742055e-02, -1.05556808e-02,  1.21540248e-01,  6.35018721e-02,\n",
              "       -3.00950073e-02,  1.10560365e-01,  1.77945375e-01, -1.64796431e-02,\n",
              "        8.94074440e-02,  1.05445191e-01,  1.70252994e-01,  2.22573459e-01,\n",
              "        4.57470454e-02,  1.34510789e-02, -1.50867984e-01,  2.93397307e-02,\n",
              "        2.26183251e-01,  9.91563429e-04,  9.62311029e-02, -1.73796073e-01,\n",
              "        2.43782084e-02, -9.00909025e-03, -3.13284427e-01, -1.39305526e-02,\n",
              "       -1.15599111e-01,  2.81263322e-01,  9.30075571e-02,  1.79985285e-01,\n",
              "        1.20660372e-01,  1.37590989e-02,  2.67492503e-01, -2.36201100e-02,\n",
              "       -3.83439250e-02, -3.06408048e-01,  2.83823341e-01,  2.10050344e-01],\n",
              "      dtype=float32)"
            ]
          },
          "metadata": {},
          "execution_count": 42
        }
      ]
    },
    {
      "cell_type": "markdown",
      "source": [
        "### Alterando pesos \"à mão\""
      ],
      "metadata": {
        "id": "-UJ5hlQjWG19"
      }
    },
    {
      "cell_type": "markdown",
      "source": [
        "#### Pesos 0"
      ],
      "metadata": {
        "id": "G-WdN4h3WN6z"
      }
    },
    {
      "cell_type": "code",
      "source": [
        "vieses_camada_dense = model.layers[1].get_weights()[1]\n",
        "print(f'Vieses: {vieses_camada_dense.shape}')\n",
        "pesos_camada_dense = model.layers[1].get_weights()[0]\n",
        "print(f'Pesos: {pesos_camada_dense.shape}')"
      ],
      "metadata": {
        "colab": {
          "base_uri": "https://localhost:8080/"
        },
        "id": "Q-1e8Fp7OhXK",
        "outputId": "1798ccdc-b4c6-48d0-d613-465a525f9a4e"
      },
      "execution_count": 43,
      "outputs": [
        {
          "output_type": "stream",
          "name": "stdout",
          "text": [
            "Vieses: (256,)\n",
            "Pesos: (784, 256)\n"
          ]
        }
      ]
    },
    {
      "cell_type": "code",
      "source": [
        "pesos_camada_dense_zerados = np.zeros((784, 256))\n",
        "model.layers[1].set_weights([pesos_camada_dense_zerados, vieses_camada_dense])"
      ],
      "metadata": {
        "id": "S4uzocJ4WWbH"
      },
      "execution_count": 44,
      "outputs": []
    },
    {
      "cell_type": "code",
      "source": [
        "model.compile(optimizer = 'adam', \n",
        "              loss = 'sparse_categorical_crossentropy', \n",
        "              metrics = ['accuracy'])\n",
        "historico = model.fit(train_imgs, train_labels, epochs = 5, validation_split = 0.2)"
      ],
      "metadata": {
        "colab": {
          "base_uri": "https://localhost:8080/"
        },
        "id": "yc6uL9x1WqDv",
        "outputId": "c067bb6f-fc0d-40a3-c03e-be91f87a510e"
      },
      "execution_count": 45,
      "outputs": [
        {
          "output_type": "stream",
          "name": "stdout",
          "text": [
            "Epoch 1/5\n",
            "1500/1500 [==============================] - 7s 5ms/step - loss: 0.5324 - accuracy: 0.8050 - val_loss: 0.4074 - val_accuracy: 0.8508\n",
            "Epoch 2/5\n",
            "1500/1500 [==============================] - 6s 4ms/step - loss: 0.3881 - accuracy: 0.8567 - val_loss: 0.3783 - val_accuracy: 0.8554\n",
            "Epoch 3/5\n",
            "1500/1500 [==============================] - 6s 4ms/step - loss: 0.3537 - accuracy: 0.8682 - val_loss: 0.3468 - val_accuracy: 0.8713\n",
            "Epoch 4/5\n",
            "1500/1500 [==============================] - 6s 4ms/step - loss: 0.3285 - accuracy: 0.8781 - val_loss: 0.3730 - val_accuracy: 0.8630\n",
            "Epoch 5/5\n",
            "1500/1500 [==============================] - 6s 4ms/step - loss: 0.3097 - accuracy: 0.8844 - val_loss: 0.3325 - val_accuracy: 0.8795\n"
          ]
        }
      ]
    },
    {
      "cell_type": "code",
      "source": [
        "plot_accuracy_loss(historico)"
      ],
      "metadata": {
        "colab": {
          "base_uri": "https://localhost:8080/",
          "height": 353
        },
        "id": "YA5ubZ2wypRV",
        "outputId": "2ec73062-dbe0-4edb-9fa8-c991d70ce634"
      },
      "execution_count": 46,
      "outputs": [
        {
          "output_type": "display_data",
          "data": {
            "text/plain": [
              "<Figure size 864x360 with 2 Axes>"
            ],
            "image/png": "[encoded data removed]"
          },
          "metadata": {
            "needs_background": "light"
          }
        }
      ]
    },
    {
      "cell_type": "markdown",
      "source": [
        "#### Pesos aleatórios"
      ],
      "metadata": {
        "id": "JXwd0T3siKnS"
      }
    },
    {
      "cell_type": "code",
      "source": [
        "pesos_camada_dense_aleatorios = np.random.rand(784, 256)\n",
        "model.layers[1].set_weights([pesos_camada_dense_aleatorios, vieses_camada_dense])"
      ],
      "metadata": {
        "id": "0Me9E_s8ZBDH"
      },
      "execution_count": 47,
      "outputs": []
    },
    {
      "cell_type": "code",
      "source": [
        "model.compile(optimizer = 'adam', \n",
        "              loss = 'sparse_categorical_crossentropy', \n",
        "              metrics = ['accuracy'])\n",
        "historico = model.fit(train_imgs, train_labels, epochs = 5, validation_split = 0.2)"
      ],
      "metadata": {
        "colab": {
          "base_uri": "https://localhost:8080/"
        },
        "id": "JtUjDK37iWYw",
        "outputId": "4e476107-13de-44d2-83f0-630d76711c48"
      },
      "execution_count": 48,
      "outputs": [
        {
          "output_type": "stream",
          "name": "stdout",
          "text": [
            "Epoch 1/5\n",
            "1500/1500 [==============================] - 6s 4ms/step - loss: 24.5102 - accuracy: 0.2682 - val_loss: 1.5147 - val_accuracy: 0.4160\n",
            "Epoch 2/5\n",
            "1500/1500 [==============================] - 6s 4ms/step - loss: 1.6390 - accuracy: 0.3654 - val_loss: 1.3401 - val_accuracy: 0.4958\n",
            "Epoch 3/5\n",
            "1500/1500 [==============================] - 6s 4ms/step - loss: 1.6251 - accuracy: 0.3824 - val_loss: 1.3133 - val_accuracy: 0.5143\n",
            "Epoch 4/5\n",
            "1500/1500 [==============================] - 6s 4ms/step - loss: 1.8546 - accuracy: 0.3042 - val_loss: 1.7518 - val_accuracy: 0.3166\n",
            "Epoch 5/5\n",
            "1500/1500 [==============================] - 6s 4ms/step - loss: 1.9274 - accuracy: 0.2449 - val_loss: 1.7109 - val_accuracy: 0.3275\n"
          ]
        }
      ]
    },
    {
      "cell_type": "code",
      "source": [
        "plot_accuracy_loss(historico)"
      ],
      "metadata": {
        "colab": {
          "base_uri": "https://localhost:8080/",
          "height": 353
        },
        "id": "sNe2jEkxy7G_",
        "outputId": "beebbbfd-f4f5-4e01-a5d7-5aaf599560c8"
      },
      "execution_count": 49,
      "outputs": [
        {
          "output_type": "display_data",
          "data": {
            "text/plain": [
              "<Figure size 864x360 with 2 Axes>"
            ],
            "image/png": "[encoded data removed]"
          },
          "metadata": {
            "needs_background": "light"
          }
        }
      ]
    },
    {
      "cell_type": "markdown",
      "source": [
        "### Alterando vieses \"à mão\""
      ],
      "metadata": {
        "id": "MixYMHjwtG-p"
      }
    },
    {
      "cell_type": "markdown",
      "source": [
        "#### Vieses e Pesos 0"
      ],
      "metadata": {
        "id": "V6-czLFatpFh"
      }
    },
    {
      "cell_type": "code",
      "source": [
        "vieses_camada_dense_zerados = np.zeros((256,))\n",
        "model.layers[1].set_weights([pesos_camada_dense_zerados, vieses_camada_dense_zerados])"
      ],
      "metadata": {
        "id": "hrOeXdG1tQ5c"
      },
      "execution_count": 50,
      "outputs": []
    },
    {
      "cell_type": "code",
      "source": [
        "model.compile(optimizer = 'adam', \n",
        "              loss = 'sparse_categorical_crossentropy', \n",
        "              metrics = ['accuracy'])\n",
        "historico = model.fit(train_imgs, train_labels, epochs = 5, validation_split = 0.2)"
      ],
      "metadata": {
        "colab": {
          "base_uri": "https://localhost:8080/"
        },
        "id": "fdxWOaKXtSyQ",
        "outputId": "564f2dc9-803f-48b6-fe93-921f4dcc78f1"
      },
      "execution_count": 51,
      "outputs": [
        {
          "output_type": "stream",
          "name": "stdout",
          "text": [
            "Epoch 1/5\n",
            "1500/1500 [==============================] - 7s 4ms/step - loss: 2.3457 - accuracy: 0.0990 - val_loss: 2.3047 - val_accuracy: 0.1003\n",
            "Epoch 2/5\n",
            "1500/1500 [==============================] - 6s 4ms/step - loss: 2.3117 - accuracy: 0.1010 - val_loss: 2.3034 - val_accuracy: 0.0983\n",
            "Epoch 3/5\n",
            "1500/1500 [==============================] - 6s 4ms/step - loss: 2.3097 - accuracy: 0.1001 - val_loss: 2.3068 - val_accuracy: 0.0983\n",
            "Epoch 4/5\n",
            "1500/1500 [==============================] - 7s 5ms/step - loss: 2.3072 - accuracy: 0.0983 - val_loss: 2.3031 - val_accuracy: 0.0995\n",
            "Epoch 5/5\n",
            "1500/1500 [==============================] - 6s 4ms/step - loss: 2.3062 - accuracy: 0.1002 - val_loss: 2.3030 - val_accuracy: 0.0957\n"
          ]
        }
      ]
    },
    {
      "cell_type": "code",
      "source": [
        "plot_accuracy_loss(historico)"
      ],
      "metadata": {
        "colab": {
          "base_uri": "https://localhost:8080/",
          "height": 353
        },
        "id": "Bn3NDIP9xAqR",
        "outputId": "bba7636d-0705-4c71-d4d8-2f7021bf6f25"
      },
      "execution_count": 52,
      "outputs": [
        {
          "output_type": "display_data",
          "data": {
            "text/plain": [
              "<Figure size 864x360 with 2 Axes>"
            ],
            "image/png": "[encoded data removed]"
          },
          "metadata": {
            "needs_background": "light"
          }
        }
      ]
    },
    {
      "cell_type": "markdown",
      "source": [
        "#### Vieses 0 e Pesos aleatórios"
      ],
      "metadata": {
        "id": "KYJUmq0JzWlL"
      }
    },
    {
      "cell_type": "code",
      "source": [
        "vieses_camada_dense_zerados = np.zeros((256,))\n",
        "model.layers[1].set_weights([pesos_camada_dense_aleatorios, vieses_camada_dense_zerados])\n",
        "\n",
        "model.compile(optimizer = 'adam', \n",
        "              loss = 'sparse_categorical_crossentropy', \n",
        "              metrics = ['accuracy'])\n",
        "historico = model.fit(train_imgs, train_labels, epochs = 5, validation_split = 0.2)\n",
        "\n",
        "plot_accuracy_loss(historico)"
      ],
      "metadata": {
        "colab": {
          "base_uri": "https://localhost:8080/",
          "height": 527
        },
        "id": "EWDU01wzuxq7",
        "outputId": "8f50e005-73dc-4b32-8940-974c24e3fe6f"
      },
      "execution_count": 53,
      "outputs": [
        {
          "output_type": "stream",
          "name": "stdout",
          "text": [
            "Epoch 1/5\n",
            "1500/1500 [==============================] - 7s 4ms/step - loss: 2.3795 - accuracy: 0.0983 - val_loss: 2.3227 - val_accuracy: 0.0983\n",
            "Epoch 2/5\n",
            "1500/1500 [==============================] - 6s 4ms/step - loss: 2.3085 - accuracy: 0.1008 - val_loss: 2.3031 - val_accuracy: 0.0983\n",
            "Epoch 3/5\n",
            "1500/1500 [==============================] - 6s 4ms/step - loss: 2.3028 - accuracy: 0.1001 - val_loss: 2.3029 - val_accuracy: 0.0995\n",
            "Epoch 4/5\n",
            "1500/1500 [==============================] - 6s 4ms/step - loss: 2.3027 - accuracy: 0.1007 - val_loss: 2.3028 - val_accuracy: 0.0983\n",
            "Epoch 5/5\n",
            "1500/1500 [==============================] - 6s 4ms/step - loss: 2.3028 - accuracy: 0.1004 - val_loss: 2.3027 - val_accuracy: 0.0983\n"
          ]
        },
        {
          "output_type": "display_data",
          "data": {
            "text/plain": [
              "<Figure size 864x360 with 2 Axes>"
            ],
            "image/png": "[encoded data removed]"
          },
          "metadata": {
            "needs_background": "light"
          }
        }
      ]
    },
    {
      "cell_type": "markdown",
      "source": [
        "### Configurações do modelo"
      ],
      "metadata": {
        "id": "_GP5-qSxkDiq"
      }
    },
    {
      "cell_type": "markdown",
      "source": [
        "* **model.get_config()**: Retorna dicionários com todas as definições da rede e suas camadas."
      ],
      "metadata": {
        "id": "JFiXClYEl4bv"
      }
    },
    {
      "cell_type": "code",
      "source": [
        "model.get_config()['layers'][2]"
      ],
      "metadata": {
        "colab": {
          "base_uri": "https://localhost:8080/"
        },
        "id": "zCpYcX7qi0HU",
        "outputId": "7f031bf1-6de9-4d29-82b8-9c60511354a9"
      },
      "execution_count": 54,
      "outputs": [
        {
          "output_type": "execute_result",
          "data": {
            "text/plain": [
              "{'class_name': 'Dense',\n",
              " 'config': {'name': 'dense_29',\n",
              "  'trainable': True,\n",
              "  'dtype': 'float32',\n",
              "  'units': 256,\n",
              "  'activation': 'relu',\n",
              "  'use_bias': True,\n",
              "  'kernel_initializer': {'class_name': 'GlorotUniform',\n",
              "   'config': {'seed': None}},\n",
              "  'bias_initializer': {'class_name': 'Zeros', 'config': {}},\n",
              "  'kernel_regularizer': None,\n",
              "  'bias_regularizer': None,\n",
              "  'activity_regularizer': None,\n",
              "  'kernel_constraint': None,\n",
              "  'bias_constraint': None}}"
            ]
          },
          "metadata": {},
          "execution_count": 54
        }
      ]
    },
    {
      "cell_type": "markdown",
      "source": [
        "* O kernel_initializes é a função inicializa os pesos.\n",
        "\n",
        "* A classe de inicialização dos pesos nesta rede foi a GlorotUniform, também chamada de Algoritmo de Xavier. Gera valores que não sejam nem muito grandes nem muito próximos de zero, de forma que evite atrapalhar a aprendizagem do modelo.\n",
        "\n",
        "* A ReLu também azjuda a evitar valores extremos."
      ],
      "metadata": {
        "id": "WgRYyGv6mCwZ"
      }
    },
    {
      "cell_type": "markdown",
      "source": [
        "### Conclusões sobre Pesos e Vieses"
      ],
      "metadata": {
        "id": "W0_I2TBn0jM5"
      }
    },
    {
      "cell_type": "markdown",
      "source": [
        "* Os pesos influenciam mais no quanto uma rede aprende do que os vieses.\n",
        "  * Os resultados foram piores quando os pesos foram inicializados aleatoriamente.\n",
        "\n",
        "* É mais indicado inicializar os pesos de uma rede com zeros ou valores próximos de zero.\n",
        "\n",
        "* O **bias_initializer** define como os pesos são inicializados. Na consulta acima, está definindo como 'Zeros', que é o padrão do Keras."
      ],
      "metadata": {
        "id": "GzwFxdcE0le_"
      }
    },
    {
      "cell_type": "markdown",
      "source": [
        "## Função ReLu"
      ],
      "metadata": {
        "id": "xg8QVtGp7f21"
      }
    },
    {
      "cell_type": "markdown",
      "source": [
        "* $a = z^+ = max(0, z)$\n",
        "\n",
        "* Não linear.\n",
        "\n",
        "* A multiplicação da fução ReLu altera a inclinação da sua reta no 1º quadrante (x, y > 0).\n",
        "* A soma desloca as retas no eixo y."
      ],
      "metadata": {
        "id": "N6M8J4sb7lPR"
      }
    },
    {
      "cell_type": "markdown",
      "source": [
        "# Explorando hisperparâmetros do Otimizador (Adam)"
      ],
      "metadata": {
        "id": "XrqfIbRCKKvd"
      }
    },
    {
      "cell_type": "markdown",
      "source": [
        "* https://keras.io/api/optimizers/adam/"
      ],
      "metadata": {
        "id": "K2Rb3tx9KeBJ"
      }
    },
    {
      "cell_type": "code",
      "source": [
        "model = keras.Sequential([\n",
        "    keras.layers.Flatten(input_shape = (28, 28)),\n",
        "    keras.layers.Dense(256, activation = tensorflow.nn.relu),\n",
        "    keras.layers.Dense(128, activation = tensorflow.nn.relu),\n",
        "    keras.layers.Dropout(0.2),\n",
        "    keras.layers.Dense(10, activation = tensorflow.nn.softmax)\n",
        "])\n",
        "\n",
        "adam = keras.optimizers.Adam(learning_rate = 0.002) \n",
        "\n",
        "model.compile(optimizer = adam, \n",
        "              loss = 'sparse_categorical_crossentropy', \n",
        "              metrics = ['accuracy'])\n",
        "historico = model.fit(train_imgs, train_labels, epochs = 5, validation_split = 0.2, batch_size = 480)"
      ],
      "metadata": {
        "colab": {
          "base_uri": "https://localhost:8080/"
        },
        "id": "PgpllCClKvJ2",
        "outputId": "d2d874d2-9ebf-43b1-eee7-dcd3346d93e1"
      },
      "execution_count": 9,
      "outputs": [
        {
          "output_type": "stream",
          "name": "stdout",
          "text": [
            "Epoch 1/5\n",
            "100/100 [==============================] - 2s 17ms/step - loss: 8.3258 - accuracy: 0.5569 - val_loss: 0.8610 - val_accuracy: 0.6955\n",
            "Epoch 2/5\n",
            "100/100 [==============================] - 2s 15ms/step - loss: 0.9529 - accuracy: 0.6524 - val_loss: 0.7692 - val_accuracy: 0.7042\n",
            "Epoch 3/5\n",
            "100/100 [==============================] - 1s 15ms/step - loss: 0.8496 - accuracy: 0.6791 - val_loss: 0.6889 - val_accuracy: 0.7285\n",
            "Epoch 4/5\n",
            "100/100 [==============================] - 2s 15ms/step - loss: 0.7772 - accuracy: 0.6934 - val_loss: 0.6769 - val_accuracy: 0.7322\n",
            "Epoch 5/5\n",
            "100/100 [==============================] - 2s 15ms/step - loss: 0.7350 - accuracy: 0.7050 - val_loss: 0.6292 - val_accuracy: 0.7472\n"
          ]
        }
      ]
    },
    {
      "cell_type": "markdown",
      "source": [
        "* Aumentar o **learning_rate** fez a perda ficar muito alta na primeira época."
      ],
      "metadata": {
        "id": "uRCg_qaCPazv"
      }
    },
    {
      "cell_type": "code",
      "source": [
        "callbacks = [keras.callbacks.EarlyStopping(monitor = 'val_loss'),\n",
        "             keras.callbacks.ModelCheckpoint(filepath = 'modelo.hdf5', monitor = 'val_loss', save_best_only = True)]\n",
        "adam = keras.optimizers.Adam(learning_rate = 0.002) \n",
        "\n",
        "model = keras.Sequential([\n",
        "    keras.layers.Flatten(input_shape = (28, 28)),\n",
        "    keras.layers.Dense(256, activation = tensorflow.nn.relu),\n",
        "    keras.layers.Dense(128, activation = tensorflow.nn.relu),\n",
        "    keras.layers.Dropout(0.2),\n",
        "    keras.layers.Dense(10, activation = tensorflow.nn.softmax)\n",
        "])\n",
        "\n",
        "model.compile(optimizer = adam, \n",
        "              loss = 'sparse_categorical_crossentropy', \n",
        "              metrics = ['accuracy'])\n",
        "\n",
        "historico = model.fit(train_imgs, train_labels, \n",
        "                      epochs = 5, validation_split = 0.2, \n",
        "                      batch_size = 480,\n",
        "                      callbacks = callbacks)"
      ],
      "metadata": {
        "colab": {
          "base_uri": "https://localhost:8080/"
        },
        "id": "0Q-I1YkvLI2s",
        "outputId": "55279b06-29e4-4f2d-c91e-3c8bcd8ac095"
      },
      "execution_count": 12,
      "outputs": [
        {
          "output_type": "stream",
          "name": "stdout",
          "text": [
            "Epoch 1/5\n",
            "100/100 [==============================] - 2s 18ms/step - loss: 13.2165 - accuracy: 0.5944 - val_loss: 0.8516 - val_accuracy: 0.7060\n",
            "Epoch 2/5\n",
            "100/100 [==============================] - 2s 16ms/step - loss: 0.9152 - accuracy: 0.6798 - val_loss: 0.7217 - val_accuracy: 0.7351\n"
          ]
        }
      ]
    },
    {
      "cell_type": "markdown",
      "source": [
        "* As épocas param de ser executadas mais cedo porque as alterações em alguma das taxas deixam de ser significativas. Entretanto, o algoritmo pode ter estacionado em um mínimo local e não ter mais como acessar o mínimo global (valor ótimo, neste caso)."
      ],
      "metadata": {
        "id": "6R2fZJ9FXiTl"
      }
    }
  ]
}